{
 "cells": [
  {
   "cell_type": "markdown",
   "metadata": {},
   "source": [
    "### Script to select needed values for building features"
   ]
  },
  {
   "cell_type": "code",
   "execution_count": 498,
   "metadata": {},
   "outputs": [],
   "source": [
    "import os\n",
    "import shutil"
   ]
  },
  {
   "cell_type": "code",
   "execution_count": 508,
   "metadata": {},
   "outputs": [],
   "source": [
    "def select_feature_range(df, columns_index, initial_row):\n",
    "    size = 0\n",
    "    i = 0\n",
    "    \n",
    "    if initial_row != 0:\n",
    "        initial_row -= 2\n",
    "        size += 1\n",
    "    \n",
    "    for identifier in df.iloc[initial_row:, columns_index[0]]:\n",
    "        i += 1\n",
    "        if identifier == 'Municípios':\n",
    "            initial_row = i\n",
    "        \n",
    "        if initial_row != 0:\n",
    "            size += 1\n",
    "            if type(identifier) == float or identifier[:6] == 'Fonte:':\n",
    "                break\n",
    "\n",
    "    return df.iloc[initial_row:(initial_row+size-2), columns_index]"
   ]
  },
  {
   "cell_type": "code",
   "execution_count": 500,
   "metadata": {},
   "outputs": [],
   "source": [
    "def create_feature_files(year, subject, feature_identification, columns_index, \n",
    "                         name_str_identification_prefix, name_str_identification_suffix,\n",
    "                         number_of_character_prefix, number_of_character_suffix,\n",
    "                         col_names, path, states, is_to_copy, initial_row):\n",
    "    quantity_of_features_created = 0\n",
    "    \n",
    "    for state in states:\n",
    "    \n",
    "        if not state.startswith('.') and is_to_copy:\n",
    "            files = os.listdir(path + state)\n",
    "            \n",
    "            for file in files:\n",
    "                if ((name_str_identification_prefix == None or \n",
    "                    file[:number_of_character_prefix] == name_str_identification_prefix) and \n",
    "                    (file[len(file)-number_of_character_suffix:] == name_str_identification_suffix)):\n",
    "                    \n",
    "                    df = pd.read_excel(path + state + '/' + file)\n",
    "\n",
    "                    df_var = select_feature_range(df, columns_index, initial_row)\n",
    "                    df_var.columns = col_names\n",
    "\n",
    "                    # remove accents and lower case\n",
    "                    df_var.city = df_var.city.str.normalize('NFKD').str.encode('ascii', errors='ignore').\\\n",
    "                        str.decode('utf-8').str.lower()\n",
    "\n",
    "                    # save in a csv file\n",
    "                    df_var.to_csv(path + state + '/' + year + '_' + subject + '_' + state + '_var_' +\n",
    "                                      feature_identification + '.csv',\n",
    "                                  index=False,\n",
    "                                  sep = ',')\n",
    "                    \n",
    "                    print(path + state + '/' + year + '_' + subject + '_' + state + '_var_' + \n",
    "                              feature_identification + '.csv')\n",
    "                    quantity_of_features_created += 1\n",
    "                    \n",
    "    print('Quantity of features created: ' + str(quantity_of_features_created))"
   ]
  },
  {
   "cell_type": "code",
   "execution_count": 501,
   "metadata": {},
   "outputs": [],
   "source": [
    "# set parameter here #\n",
    "is_to_copy = True\n",
    "######################"
   ]
  },
  {
   "cell_type": "code",
   "execution_count": 514,
   "metadata": {},
   "outputs": [
    {
     "name": "stdout",
     "output_type": "stream",
     "text": [
      "2010/social_indicator/\n",
      "03_distribuicao_analfabetismo_saneamento\n",
      "-*-tab16.xls\n"
     ]
    }
   ],
   "source": [
    "# set parameters here #\n",
    "year = '2010'\n",
    "subject = 'social_indicator'\n",
    "feature_identification = '03_distribuicao_analfabetismo_saneamento'\n",
    "columns_index = [0, 1, 2, 3, 4, 5, 6]\n",
    "name_str_identification_prefix = None # String or None if don't need a suffix to search\n",
    "name_str_identification_suffix = 'tab16.xls'\n",
    "col_names = ['city',\n",
    "             '2000_responsable_illiterate',\n",
    "             '2010_responsable_illiterate',\n",
    "             '2000_inappropriate_residence',\n",
    "             '2010_inappropriate_residence',\n",
    "             '2000_responsable_illiterate_and_inappropriate_residence',\n",
    "             '2010_responsable_illiterate_and_inappropriate_residence']\n",
    "initial_row = 9 # integer or 0 if it follows the structure (python pattern)\n",
    "#######################\n",
    "\n",
    "number_of_character_suffix = len(name_str_identification_suffix)\n",
    "path = year + '/' + subject + '/'\n",
    "states = os.listdir(path)\n",
    "\n",
    "print(path)\n",
    "print(feature_identification)\n",
    "\n",
    "if name_str_identification_prefix != None:\n",
    "    number_of_character_prefix = len(name_str_identification_prefix)\n",
    "    print(name_str_identification_prefix + '-*-' + name_str_identification_suffix)\n",
    "else:\n",
    "    number_of_character_prefix = 0\n",
    "    print('-*-' + name_str_identification_suffix)"
   ]
  },
  {
   "cell_type": "code",
   "execution_count": 515,
   "metadata": {},
   "outputs": [
    {
     "name": "stdout",
     "output_type": "stream",
     "text": [
      "2010/social_indicator/minas_gerais/2010_social_indicator_minas_gerais_var_03_distribuicao_analfabetismo_saneamento.csv\n",
      "2010/social_indicator/mato_grosso/2010_social_indicator_mato_grosso_var_03_distribuicao_analfabetismo_saneamento.csv\n",
      "2010/social_indicator/rio_de_janeiro/2010_social_indicator_rio_de_janeiro_var_03_distribuicao_analfabetismo_saneamento.csv\n",
      "2010/social_indicator/paraiba/2010_social_indicator_paraiba_var_03_distribuicao_analfabetismo_saneamento.csv\n",
      "2010/social_indicator/santa_catarina/2010_social_indicator_santa_catarina_var_03_distribuicao_analfabetismo_saneamento.csv\n",
      "2010/social_indicator/piaui/2010_social_indicator_piaui_var_03_distribuicao_analfabetismo_saneamento.csv\n",
      "2010/social_indicator/espirito_santo/2010_social_indicator_espirito_santo_var_03_distribuicao_analfabetismo_saneamento.csv\n",
      "2010/social_indicator/amazonas/2010_social_indicator_amazonas_var_03_distribuicao_analfabetismo_saneamento.csv\n",
      "2010/social_indicator/mato_grosso_do_sul/2010_social_indicator_mato_grosso_do_sul_var_03_distribuicao_analfabetismo_saneamento.csv\n",
      "2010/social_indicator/rondonia/2010_social_indicator_rondonia_var_03_distribuicao_analfabetismo_saneamento.csv\n",
      "2010/social_indicator/tocantins/2010_social_indicator_tocantins_var_03_distribuicao_analfabetismo_saneamento.csv\n",
      "2010/social_indicator/sao_paulo/2010_social_indicator_sao_paulo_var_03_distribuicao_analfabetismo_saneamento.csv\n",
      "2010/social_indicator/roraima/2010_social_indicator_roraima_var_03_distribuicao_analfabetismo_saneamento.csv\n",
      "2010/social_indicator/acre/2010_social_indicator_acre_var_03_distribuicao_analfabetismo_saneamento.csv\n",
      "2010/social_indicator/rio_grande_do_norte/2010_social_indicator_rio_grande_do_norte_var_03_distribuicao_analfabetismo_saneamento.csv\n",
      "2010/social_indicator/amapa/2010_social_indicator_amapa_var_03_distribuicao_analfabetismo_saneamento.csv\n",
      "2010/social_indicator/alagoas/2010_social_indicator_alagoas_var_03_distribuicao_analfabetismo_saneamento.csv\n",
      "2010/social_indicator/bahia/2010_social_indicator_bahia_var_03_distribuicao_analfabetismo_saneamento.csv\n",
      "2010/social_indicator/rio_grande_do_sul/2010_social_indicator_rio_grande_do_sul_var_03_distribuicao_analfabetismo_saneamento.csv\n",
      "2010/social_indicator/sergipe/2010_social_indicator_sergipe_var_03_distribuicao_analfabetismo_saneamento.csv\n",
      "2010/social_indicator/parana/2010_social_indicator_parana_var_03_distribuicao_analfabetismo_saneamento.csv\n",
      "2010/social_indicator/para/2010_social_indicator_para_var_03_distribuicao_analfabetismo_saneamento.csv\n",
      "2010/social_indicator/pernambuco/2010_social_indicator_pernambuco_var_03_distribuicao_analfabetismo_saneamento.csv\n",
      "2010/social_indicator/maranhao/2010_social_indicator_maranhao_var_03_distribuicao_analfabetismo_saneamento.csv\n",
      "2010/social_indicator/goias/2010_social_indicator_goias_var_03_distribuicao_analfabetismo_saneamento.csv\n",
      "2010/social_indicator/ceara/2010_social_indicator_ceara_var_03_distribuicao_analfabetismo_saneamento.csv\n",
      "Quantity of features created: 26\n"
     ]
    }
   ],
   "source": [
    "create_feature_files(year, subject, feature_identification, columns_index, \n",
    "                     name_str_identification_prefix, name_str_identification_suffix,\n",
    "                     number_of_character_prefix, number_of_character_suffix,\n",
    "                     col_names, path, states, is_to_copy, initial_row)"
   ]
  },
  {
   "cell_type": "code",
   "execution_count": null,
   "metadata": {},
   "outputs": [],
   "source": []
  }
 ],
 "metadata": {
  "kernelspec": {
   "display_name": "Python 3",
   "language": "python",
   "name": "python3"
  },
  "language_info": {
   "codemirror_mode": {
    "name": "ipython",
    "version": 3
   },
   "file_extension": ".py",
   "mimetype": "text/x-python",
   "name": "python",
   "nbconvert_exporter": "python",
   "pygments_lexer": "ipython3",
   "version": "3.7.1"
  }
 },
 "nbformat": 4,
 "nbformat_minor": 2
}
