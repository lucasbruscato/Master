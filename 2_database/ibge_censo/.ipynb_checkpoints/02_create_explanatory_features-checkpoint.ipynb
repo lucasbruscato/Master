{
 "cells": [
  {
   "cell_type": "markdown",
   "metadata": {},
   "source": [
    "### Script to select needed values for building features"
   ]
  },
  {
   "cell_type": "code",
   "execution_count": 399,
   "metadata": {},
   "outputs": [],
   "source": [
    "import os\n",
    "import shutil"
   ]
  },
  {
   "cell_type": "code",
   "execution_count": 400,
   "metadata": {},
   "outputs": [],
   "source": [
    "def select_feature_range(df, columns_index):\n",
    "    size = 0\n",
    "    i = 0\n",
    "\n",
    "    initial_row = float('nan')\n",
    "\n",
    "    for identifier in df.iloc[:, 0]:\n",
    "        i += 1\n",
    "        if identifier == 'Municípios':\n",
    "            initial_row = i\n",
    "\n",
    "        if not math.isnan(initial_row):\n",
    "            size += 1\n",
    "            if type(identifier) == float or identifier[:6] == 'Fonte:':\n",
    "                break\n",
    "\n",
    "    return df.iloc[initial_row:(initial_row+size-2), columns_index]"
   ]
  },
  {
   "cell_type": "code",
   "execution_count": 401,
   "metadata": {},
   "outputs": [],
   "source": [
    "def create_feature_files(year, subject, feature_identification, columns_index, \n",
    "                         name_str_identification_prefix, name_str_identification_suffix,\n",
    "                         number_of_character_prefix, number_of_character_suffix,\n",
    "                         col_names, path, states, is_to_copy):\n",
    "    quantity_of_features_created = 0\n",
    "    \n",
    "    for state in states:\n",
    "    \n",
    "        if not state.startswith('.') and is_to_copy:\n",
    "            files = os.listdir(path + state)\n",
    "            \n",
    "            for file in files:\n",
    "                if ((name_str_identification_prefix == None or \n",
    "                    file[:number_of_character_prefix] == name_str_identification_prefix) and \n",
    "                    (file[len(file)-number_of_character_suffix:] == name_str_identification_suffix)):\n",
    "                    \n",
    "                    df = pd.read_excel(path + state + '/' + file)\n",
    "\n",
    "                    df_var = select_feature_range(df, columns_index)\n",
    "                    df_var.columns = col_names\n",
    "\n",
    "                    # remove accents and lower case\n",
    "                    df_var.city = df_var.city.str.normalize('NFKD').str.encode('ascii', errors='ignore').\\\n",
    "                        str.decode('utf-8').str.lower()\n",
    "\n",
    "                    # save in a csv file\n",
    "                    df_var.to_csv(path + state + '/' + year + '_' + subject + '_' + state + '_var_' +\n",
    "                                      feature_identification + '.csv',\n",
    "                                  index=False,\n",
    "                                  sep = ',')\n",
    "                    \n",
    "                    print(path + state + '/' + year + '_' + subject + '_' + state + '_var_' + \n",
    "                              feature_identification + '.csv')\n",
    "                    quantity_of_features_created += 1\n",
    "                    \n",
    "    print('Quantity of features created: ' + str(quantity_of_features_created))"
   ]
  },
  {
   "cell_type": "code",
   "execution_count": 410,
   "metadata": {},
   "outputs": [],
   "source": [
    "# set parameter here #\n",
    "is_to_copy = True\n",
    "######################"
   ]
  },
  {
   "cell_type": "code",
   "execution_count": 419,
   "metadata": {},
   "outputs": [
    {
     "name": "stdout",
     "output_type": "stream",
     "text": [
      "2010/fertility/\n",
      "03_nr_pessoas_viviam_com_conj\n"
     ]
    }
   ],
   "source": [
    "# set parameters here #\n",
    "year = '2010'\n",
    "subject = 'fertility'\n",
    "feature_identification = '03_nr_pessoas_viviam_com_conj'\n",
    "columns_index = [0, 1]\n",
    "name_str_identification_prefix = None # String or None if don't need a suffix to search\n",
    "name_str_identification_suffix = '1_2.xls'\n",
    "col_names = ['city',\n",
    "            'total']\n",
    "#######################\n",
    "\n",
    "number_of_character_suffix = len(name_str_identification_suffix)\n",
    "path = year + '/' + subject + '/'\n",
    "states = os.listdir(path)\n",
    "\n",
    "print(path)\n",
    "print(feature_identification)\n",
    "\n",
    "if name_str_identification_prefix != None:\n",
    "    number_of_character_prefix = len(name_str_identification_prefix)\n",
    "    print(name_str_identification_prefix + '-*-' + name_str_identification_suffix)\n",
    "else:\n",
    "    number_of_character_prefix = 0"
   ]
  },
  {
   "cell_type": "code",
   "execution_count": 412,
   "metadata": {},
   "outputs": [
    {
     "name": "stdout",
     "output_type": "stream",
     "text": [
      "2000/fertility/minas_gerais/2000_fertility_minas_gerais_var_03_nr_pessoas_viviam_com_conj.csv\n",
      "2000/fertility/mato_grosso/2000_fertility_mato_grosso_var_03_nr_pessoas_viviam_com_conj.csv\n",
      "2000/fertility/rio_de_janeiro/2000_fertility_rio_de_janeiro_var_03_nr_pessoas_viviam_com_conj.csv\n",
      "2000/fertility/paraiba/2000_fertility_paraiba_var_03_nr_pessoas_viviam_com_conj.csv\n",
      "2000/fertility/santa_catarina/2000_fertility_santa_catarina_var_03_nr_pessoas_viviam_com_conj.csv\n",
      "2000/fertility/piaui/2000_fertility_piaui_var_03_nr_pessoas_viviam_com_conj.csv\n",
      "2000/fertility/espirito_santo/2000_fertility_espirito_santo_var_03_nr_pessoas_viviam_com_conj.csv\n",
      "2000/fertility/amazonas/2000_fertility_amazonas_var_03_nr_pessoas_viviam_com_conj.csv\n",
      "2000/fertility/mato_grosso_do_sul/2000_fertility_mato_grosso_do_sul_var_03_nr_pessoas_viviam_com_conj.csv\n",
      "2000/fertility/rondonia/2000_fertility_rondonia_var_03_nr_pessoas_viviam_com_conj.csv\n",
      "2000/fertility/tocantins/2000_fertility_tocantins_var_03_nr_pessoas_viviam_com_conj.csv\n",
      "2000/fertility/sao_paulo/2000_fertility_sao_paulo_var_03_nr_pessoas_viviam_com_conj.csv\n",
      "2000/fertility/roraima/2000_fertility_roraima_var_03_nr_pessoas_viviam_com_conj.csv\n",
      "2000/fertility/acre/2000_fertility_acre_var_03_nr_pessoas_viviam_com_conj.csv\n",
      "2000/fertility/rio_grande_do_norte/2000_fertility_rio_grande_do_norte_var_03_nr_pessoas_viviam_com_conj.csv\n",
      "2000/fertility/amapa/2000_fertility_amapa_var_03_nr_pessoas_viviam_com_conj.csv\n",
      "2000/fertility/alagoas/2000_fertility_alagoas_var_03_nr_pessoas_viviam_com_conj.csv\n",
      "2000/fertility/bahia/2000_fertility_bahia_var_03_nr_pessoas_viviam_com_conj.csv\n",
      "2000/fertility/rio_grande_do_sul/2000_fertility_rio_grande_do_sul_var_03_nr_pessoas_viviam_com_conj.csv\n",
      "2000/fertility/sergipe/2000_fertility_sergipe_var_03_nr_pessoas_viviam_com_conj.csv\n",
      "2000/fertility/parana/2000_fertility_parana_var_03_nr_pessoas_viviam_com_conj.csv\n",
      "2000/fertility/para/2000_fertility_para_var_03_nr_pessoas_viviam_com_conj.csv\n",
      "2000/fertility/pernambuco/2000_fertility_pernambuco_var_03_nr_pessoas_viviam_com_conj.csv\n",
      "2000/fertility/maranhao/2000_fertility_maranhao_var_03_nr_pessoas_viviam_com_conj.csv\n",
      "2000/fertility/goias/2000_fertility_goias_var_03_nr_pessoas_viviam_com_conj.csv\n",
      "2000/fertility/distrito_federal/2000_fertility_distrito_federal_var_03_nr_pessoas_viviam_com_conj.csv\n",
      "2000/fertility/ceara/2000_fertility_ceara_var_03_nr_pessoas_viviam_com_conj.csv\n",
      "Quantity of features created: 27\n"
     ]
    }
   ],
   "source": [
    "create_feature_files(year, subject, feature_identification, columns_index, \n",
    "                     name_str_identification_prefix, name_str_identification_suffix,\n",
    "                     number_of_character_prefix, number_of_character_suffix,\n",
    "                     col_names, path, states, is_to_copy)"
   ]
  },
  {
   "cell_type": "code",
   "execution_count": null,
   "metadata": {},
   "outputs": [],
   "source": []
  }
 ],
 "metadata": {
  "kernelspec": {
   "display_name": "Python 3",
   "language": "python",
   "name": "python3"
  },
  "language_info": {
   "codemirror_mode": {
    "name": "ipython",
    "version": 3
   },
   "file_extension": ".py",
   "mimetype": "text/x-python",
   "name": "python",
   "nbconvert_exporter": "python",
   "pygments_lexer": "ipython3",
   "version": "3.7.1"
  }
 },
 "nbformat": 4,
 "nbformat_minor": 2
}
