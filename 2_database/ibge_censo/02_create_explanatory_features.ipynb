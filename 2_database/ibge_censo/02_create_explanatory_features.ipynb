{
 "cells": [
  {
   "cell_type": "markdown",
   "metadata": {},
   "source": [
    "### Script to select needed values for building features"
   ]
  },
  {
   "cell_type": "code",
   "execution_count": 399,
   "metadata": {},
   "outputs": [],
   "source": [
    "import os\n",
    "import shutil"
   ]
  },
  {
   "cell_type": "code",
   "execution_count": 400,
   "metadata": {},
   "outputs": [],
   "source": [
    "def select_feature_range(df, columns_index):\n",
    "    size = 0\n",
    "    i = 0\n",
    "\n",
    "    initial_row = float('nan')\n",
    "\n",
    "    for identifier in df.iloc[:, 0]:\n",
    "        i += 1\n",
    "        if identifier == 'Municípios':\n",
    "            initial_row = i\n",
    "\n",
    "        if not math.isnan(initial_row):\n",
    "            size += 1\n",
    "            if type(identifier) == float or identifier[:6] == 'Fonte:':\n",
    "                break\n",
    "\n",
    "    return df.iloc[initial_row:(initial_row+size-2), columns_index]"
   ]
  },
  {
   "cell_type": "code",
   "execution_count": 401,
   "metadata": {},
   "outputs": [],
   "source": [
    "def create_feature_files(year, subject, feature_identification, columns_index, \n",
    "                         name_str_identification_prefix, name_str_identification_suffix,\n",
    "                         number_of_character_prefix, number_of_character_suffix,\n",
    "                         col_names, path, states, is_to_copy):\n",
    "    quantity_of_features_created = 0\n",
    "    \n",
    "    for state in states:\n",
    "    \n",
    "        if not state.startswith('.') and is_to_copy:\n",
    "            files = os.listdir(path + state)\n",
    "            \n",
    "            for file in files:\n",
    "                if ((name_str_identification_prefix == None or \n",
    "                    file[:number_of_character_prefix] == name_str_identification_prefix) and \n",
    "                    (file[len(file)-number_of_character_suffix:] == name_str_identification_suffix)):\n",
    "                    \n",
    "                    df = pd.read_excel(path + state + '/' + file)\n",
    "\n",
    "                    df_var = select_feature_range(df, columns_index)\n",
    "                    df_var.columns = col_names\n",
    "\n",
    "                    # remove accents and lower case\n",
    "                    df_var.city = df_var.city.str.normalize('NFKD').str.encode('ascii', errors='ignore').\\\n",
    "                        str.decode('utf-8').str.lower()\n",
    "\n",
    "                    # save in a csv file\n",
    "                    df_var.to_csv(path + state + '/' + year + '_' + subject + '_' + state + '_var_' +\n",
    "                                      feature_identification + '.csv',\n",
    "                                  index=False,\n",
    "                                  sep = ',')\n",
    "                    \n",
    "                    print(path + state + '/' + year + '_' + subject + '_' + state + '_var_' + \n",
    "                              feature_identification + '.csv')\n",
    "                    quantity_of_features_created += 1\n",
    "                    \n",
    "    print('Quantity of features created: ' + str(quantity_of_features_created))"
   ]
  },
  {
   "cell_type": "code",
   "execution_count": 410,
   "metadata": {},
   "outputs": [],
   "source": [
    "# set parameter here #\n",
    "is_to_copy = True\n",
    "######################"
   ]
  },
  {
   "cell_type": "code",
   "execution_count": 437,
   "metadata": {},
   "outputs": [
    {
     "name": "stdout",
     "output_type": "stream",
     "text": [
      "2010/work/\n",
      "02_monthly_median_salary\n",
      "-*-2_5.xls\n"
     ]
    }
   ],
   "source": [
    "# set parameters here #\n",
    "year = '2010'\n",
    "subject = 'work'\n",
    "feature_identification = '02_monthly_median_salary'\n",
    "columns_index = [0, 1, 3, 4, 5, 6, 7]\n",
    "name_str_identification_prefix = None # String or None if don't need a suffix to search\n",
    "name_str_identification_suffix = '2_5.xls'\n",
    "col_names = ['city',\n",
    "            'total',\n",
    "            'regular',\n",
    "            'military_and_gov',\n",
    "            'irregular',\n",
    "            'entrepreneur',\n",
    "            'employers']\n",
    "\n",
    "#######################\n",
    "\n",
    "number_of_character_suffix = len(name_str_identification_suffix)\n",
    "path = year + '/' + subject + '/'\n",
    "states = os.listdir(path)\n",
    "\n",
    "print(path)\n",
    "print(feature_identification)\n",
    "\n",
    "if name_str_identification_prefix != None:\n",
    "    number_of_character_prefix = len(name_str_identification_prefix)\n",
    "    print(name_str_identification_prefix + '-*-' + name_str_identification_suffix)\n",
    "else:\n",
    "    number_of_character_prefix = 0\n",
    "    print('-*-' + name_str_identification_suffix)"
   ]
  },
  {
   "cell_type": "code",
   "execution_count": 438,
   "metadata": {},
   "outputs": [
    {
     "name": "stdout",
     "output_type": "stream",
     "text": [
      "2010/work/minas_gerais/2010_work_minas_gerais_var_02_monthly_median_salary.csv\n",
      "2010/work/mato_grosso/2010_work_mato_grosso_var_02_monthly_median_salary.csv\n",
      "2010/work/rio_de_janeiro/2010_work_rio_de_janeiro_var_02_monthly_median_salary.csv\n",
      "2010/work/paraiba/2010_work_paraiba_var_02_monthly_median_salary.csv\n",
      "2010/work/santa_catarina/2010_work_santa_catarina_var_02_monthly_median_salary.csv\n",
      "2010/work/piaui/2010_work_piaui_var_02_monthly_median_salary.csv\n",
      "2010/work/espirito_santo/2010_work_espirito_santo_var_02_monthly_median_salary.csv\n",
      "2010/work/amazonas/2010_work_amazonas_var_02_monthly_median_salary.csv\n",
      "2010/work/mato_grosso_do_sul/2010_work_mato_grosso_do_sul_var_02_monthly_median_salary.csv\n",
      "2010/work/rondonia/2010_work_rondonia_var_02_monthly_median_salary.csv\n",
      "2010/work/tocantins/2010_work_tocantins_var_02_monthly_median_salary.csv\n",
      "2010/work/sao_paulo/2010_work_sao_paulo_var_02_monthly_median_salary.csv\n",
      "2010/work/roraima/2010_work_roraima_var_02_monthly_median_salary.csv\n",
      "2010/work/acre/2010_work_acre_var_02_monthly_median_salary.csv\n",
      "2010/work/rio_grande_do_norte/2010_work_rio_grande_do_norte_var_02_monthly_median_salary.csv\n",
      "2010/work/amapa/2010_work_amapa_var_02_monthly_median_salary.csv\n",
      "2010/work/alagoas/2010_work_alagoas_var_02_monthly_median_salary.csv\n",
      "2010/work/bahia/2010_work_bahia_var_02_monthly_median_salary.csv\n",
      "2010/work/rio_grande_do_sul/2010_work_rio_grande_do_sul_var_02_monthly_median_salary.csv\n",
      "2010/work/sergipe/2010_work_sergipe_var_02_monthly_median_salary.csv\n",
      "2010/work/parana/2010_work_parana_var_02_monthly_median_salary.csv\n",
      "2010/work/para/2010_work_para_var_02_monthly_median_salary.csv\n",
      "2010/work/pernambuco/2010_work_pernambuco_var_02_monthly_median_salary.csv\n",
      "2010/work/maranhao/2010_work_maranhao_var_02_monthly_median_salary.csv\n",
      "2010/work/goias/2010_work_goias_var_02_monthly_median_salary.csv\n",
      "2010/work/distrito_federal/2010_work_distrito_federal_var_02_monthly_median_salary.csv\n",
      "2010/work/ceara/2010_work_ceara_var_02_monthly_median_salary.csv\n",
      "Quantity of features created: 27\n"
     ]
    }
   ],
   "source": [
    "create_feature_files(year, subject, feature_identification, columns_index, \n",
    "                     name_str_identification_prefix, name_str_identification_suffix,\n",
    "                     number_of_character_prefix, number_of_character_suffix,\n",
    "                     col_names, path, states, is_to_copy)"
   ]
  },
  {
   "cell_type": "code",
   "execution_count": null,
   "metadata": {},
   "outputs": [],
   "source": []
  }
 ],
 "metadata": {
  "kernelspec": {
   "display_name": "Python 3",
   "language": "python",
   "name": "python3"
  },
  "language_info": {
   "codemirror_mode": {
    "name": "ipython",
    "version": 3
   },
   "file_extension": ".py",
   "mimetype": "text/x-python",
   "name": "python",
   "nbconvert_exporter": "python",
   "pygments_lexer": "ipython3",
   "version": "3.7.1"
  }
 },
 "nbformat": 4,
 "nbformat_minor": 2
}
