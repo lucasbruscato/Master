{
 "cells": [
  {
   "cell_type": "markdown",
   "metadata": {},
   "source": [
    "# Extract Explanatory Features"
   ]
  },
  {
   "cell_type": "code",
   "execution_count": 8,
   "metadata": {},
   "outputs": [],
   "source": [
    "import os\n",
    "import shutil\n",
    "import pandas as pd"
   ]
  },
  {
   "cell_type": "markdown",
   "metadata": {},
   "source": [
    "### Script to select needed values for building features"
   ]
  },
  {
   "cell_type": "code",
   "execution_count": 2,
   "metadata": {},
   "outputs": [],
   "source": [
    "def select_feature_range(df, columns_index, initial_row):\n",
    "    size = 0\n",
    "    i = 0\n",
    "    \n",
    "    if initial_row != 0:\n",
    "        initial_row -= 2\n",
    "        size += 1\n",
    "    \n",
    "    for identifier in df.iloc[initial_row:, columns_index[0]]:\n",
    "        i += 1\n",
    "        if identifier == 'Municípios':\n",
    "            initial_row = i\n",
    "        \n",
    "        if initial_row != 0:\n",
    "            size += 1\n",
    "            if type(identifier) == float or identifier[:6] == 'Fonte:':\n",
    "                break\n",
    "\n",
    "    return df.iloc[initial_row:(initial_row+size-2), columns_index]"
   ]
  },
  {
   "cell_type": "code",
   "execution_count": 3,
   "metadata": {},
   "outputs": [],
   "source": [
    "def create_feature_files(year, subject, feature_identification, columns_index, \n",
    "                         name_str_identification_prefix, name_str_identification_suffix,\n",
    "                         number_of_character_prefix, number_of_character_suffix,\n",
    "                         col_names, path, states, is_to_copy, initial_row):\n",
    "    quantity_of_features_created = 0\n",
    "    \n",
    "    for state in states:\n",
    "    \n",
    "        if not state.startswith('.') and is_to_copy:\n",
    "            files = os.listdir(path + state)\n",
    "            \n",
    "            for file in files:\n",
    "                if ((name_str_identification_prefix == None or \n",
    "                    file[:number_of_character_prefix] == name_str_identification_prefix) and \n",
    "                    (file[len(file)-number_of_character_suffix:] == name_str_identification_suffix)):\n",
    "                    \n",
    "                    df = pd.read_excel(path + state + '/' + file)\n",
    "\n",
    "                    df_var = select_feature_range(df, columns_index, initial_row)\n",
    "                    df_var.columns = col_names\n",
    "\n",
    "                    # remove accents and lower case\n",
    "                    df_var.city = df_var.city.str.normalize('NFKD').str.encode('ascii', errors='ignore').\\\n",
    "                        str.decode('utf-8').str.lower()\n",
    "\n",
    "                    # save in a csv file\n",
    "                    df_var.to_csv(path + state + '/' + year + '_' + subject + '_' + state + '_var_' +\n",
    "                                      feature_identification + '.csv',\n",
    "                                  index=False,\n",
    "                                  sep = ',')\n",
    "                    \n",
    "                    print(path + state + '/' + year + '_' + subject + '_' + state + '_var_' + \n",
    "                              feature_identification + '.csv')\n",
    "                    quantity_of_features_created += 1\n",
    "                    \n",
    "    print('Quantity of features created: ' + str(quantity_of_features_created))"
   ]
  },
  {
   "cell_type": "markdown",
   "metadata": {},
   "source": [
    "### For security reasons, change parameter 'is_to_copy' to True before start running"
   ]
  },
  {
   "cell_type": "code",
   "execution_count": 12,
   "metadata": {},
   "outputs": [],
   "source": [
    "# set parameter here #\n",
    "is_to_copy = False\n",
    "######################"
   ]
  },
  {
   "cell_type": "markdown",
   "metadata": {},
   "source": [
    "### Set initial parameters to select needed values for building *each* features"
   ]
  },
  {
   "cell_type": "code",
   "execution_count": 13,
   "metadata": {},
   "outputs": [
    {
     "name": "stdout",
     "output_type": "stream",
     "text": [
      "2010/family/\n",
      "02\n",
      "tab4_-*-2_1.xls\n"
     ]
    }
   ],
   "source": [
    "# set parameters here #\n",
    "year = '2010'\n",
    "subject = 'family'\n",
    "feature_identification = '02'\n",
    "columns_index = [0, 4]\n",
    "name_str_identification_prefix = 'tab4_' # String or None if don't need a suffix to search\n",
    "name_str_identification_suffix = '2_1.xls'\n",
    "col_names = ['city',\n",
    "             'qt']\n",
    "initial_row = 0 # integer or 0 if it follows the structure (python pattern)\n",
    "#######################\n",
    "\n",
    "number_of_character_suffix = len(name_str_identification_suffix)\n",
    "path = year + '/' + subject + '/'\n",
    "states = os.listdir(path)\n",
    "\n",
    "print(path)\n",
    "print(feature_identification)\n",
    "\n",
    "if name_str_identification_prefix != None:\n",
    "    number_of_character_prefix = len(name_str_identification_prefix)\n",
    "    print(name_str_identification_prefix + '-*-' + name_str_identification_suffix)\n",
    "else:\n",
    "    number_of_character_prefix = 0\n",
    "    print('-*-' + name_str_identification_suffix)"
   ]
  },
  {
   "cell_type": "code",
   "execution_count": 14,
   "metadata": {},
   "outputs": [
    {
     "name": "stdout",
     "output_type": "stream",
     "text": [
      "Quantity of features created: 0\n"
     ]
    }
   ],
   "source": [
    "create_feature_files(year, subject, feature_identification, columns_index, \n",
    "                     name_str_identification_prefix, name_str_identification_suffix,\n",
    "                     number_of_character_prefix, number_of_character_suffix,\n",
    "                     col_names, path, states, is_to_copy, initial_row)"
   ]
  }
 ],
 "metadata": {
  "kernelspec": {
   "display_name": "Python 3",
   "language": "python",
   "name": "python3"
  },
  "language_info": {
   "codemirror_mode": {
    "name": "ipython",
    "version": 3
   },
   "file_extension": ".py",
   "mimetype": "text/x-python",
   "name": "python",
   "nbconvert_exporter": "python",
   "pygments_lexer": "ipython3",
   "version": "3.7.1"
  }
 },
 "nbformat": 4,
 "nbformat_minor": 2
}
