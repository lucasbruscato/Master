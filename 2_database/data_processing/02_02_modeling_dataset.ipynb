{
 "cells": [
  {
   "cell_type": "markdown",
   "metadata": {},
   "source": [
    "# Data Processing"
   ]
  },
  {
   "cell_type": "code",
   "execution_count": 99,
   "metadata": {},
   "outputs": [],
   "source": [
    "import pandas as pd\n",
    "import numpy as np"
   ]
  },
  {
   "cell_type": "markdown",
   "metadata": {},
   "source": [
    "### Feature engineering"
   ]
  },
  {
   "cell_type": "code",
   "execution_count": 100,
   "metadata": {},
   "outputs": [],
   "source": [
    "full_dataset = pd.read_csv('02_01_raw_dataset.csv',\n",
    "                           sep=';')"
   ]
  },
  {
   "cell_type": "code",
   "execution_count": 101,
   "metadata": {},
   "outputs": [],
   "source": [
    "full_dataset = full_dataset.replace('-', 0)\n",
    "\n",
    "full_dataset.iloc[:, 9:] = full_dataset.iloc[:, 9:].apply(pd.to_numeric)"
   ]
  },
  {
   "cell_type": "markdown",
   "metadata": {},
   "source": [
    "For all the features created using IBGE, divide them from the position in 2000 by the position in 2010, with the following observations: **if the feature is not a proportion, then divide the feature by the population size of the year (2000 or 2010)**"
   ]
  },
  {
   "cell_type": "code",
   "execution_count": 102,
   "metadata": {},
   "outputs": [],
   "source": [
    "full_dataset['education_var_01_qt_pct'] = (full_dataset['2000_education_var_01_quantity'] / full_dataset['2000_family_var_02_qt']) / (full_dataset['2010_education_var_01_quantity'] / full_dataset['2010_family_var_02_qt'])\n",
    "\n",
    "full_dataset['family_var_01_adequada_pct'] = (full_dataset['2000_family_var_01_adequada'] / full_dataset['2000_family_var_01_total']) / (full_dataset['2010_family_var_01_adequada'] / full_dataset['2010_family_var_01_total'])\n",
    "full_dataset['family_var_01_semi_adequada_pct'] = (full_dataset['2000_family_var_01_semi_adequada'] / full_dataset['2000_family_var_01_total']) / (full_dataset['2010_family_var_01_semi_adequada'] / full_dataset['2010_family_var_01_total'])\n",
    "full_dataset['family_var_01_inadequada_pct'] = (full_dataset['2000_family_var_01_inadequada'] / full_dataset['2000_family_var_01_total']) / (full_dataset['2010_family_var_01_inadequada'] / full_dataset['2010_family_var_01_total'])\n",
    "\n",
    "full_dataset['fertility_var_01_has_children_pct'] = (full_dataset['2000_fertility_var_01_has_children'] / full_dataset['2000_fertility_var_01_total']) / (full_dataset['2010_fertility_var_01_has_children'] / full_dataset['2010_fertility_var_01_total'])\n",
    "full_dataset['fertility_var_01_children_born_pct'] = (full_dataset['2000_fertility_var_01_children_born'] / full_dataset['2000_fertility_var_01_total']) / (full_dataset['2010_fertility_var_01_children_born'] / full_dataset['2010_fertility_var_01_total'])\n",
    "full_dataset['fertility_var_01_children_borned_live_pct'] = (full_dataset['2000_fertility_var_01_children_borned_live'] / full_dataset['2000_fertility_var_01_total']) / (full_dataset['2010_fertility_var_01_children_borned_live'] / full_dataset['2010_fertility_var_01_total'])\n",
    "full_dataset['fertility_var_01_children_borned_dead_pct'] = (full_dataset['2000_fertility_var_01_children_borned_dead'] / full_dataset['2000_fertility_var_01_total']) / (full_dataset['2010_fertility_var_01_children_borned_dead'] / full_dataset['2010_fertility_var_01_total'])\n",
    "\n",
    "full_dataset['fertility_var_02_married_pct'] = (full_dataset['2000_fertility_var_02_married'] / full_dataset['2000_fertility_var_02_total']) / (full_dataset['2010_fertility_var_02_married'] / full_dataset['2010_fertility_var_02_total'])\n",
    "full_dataset['fertility_var_02_separated_pct'] = (full_dataset['2000_fertility_var_02_separated'] / full_dataset['2000_fertility_var_02_total']) / (full_dataset['2010_fertility_var_02_separated'] / full_dataset['2010_fertility_var_02_total'])\n",
    "full_dataset['fertility_var_02_divorced_pct'] = (full_dataset['2000_fertility_var_02_divorced'] / full_dataset['2000_fertility_var_02_total']) / (full_dataset['2010_fertility_var_02_divorced'] / full_dataset['2010_fertility_var_02_total'])\n",
    "full_dataset['fertility_var_02_widow_pct'] = (full_dataset['2000_fertility_var_02_widow'] / full_dataset['2000_fertility_var_02_total']) / (full_dataset['2010_fertility_var_02_widow'] / full_dataset['2010_fertility_var_02_total'])\n",
    "full_dataset['fertility_var_02_single_pct'] = (full_dataset['2000_fertility_var_02_single'] / full_dataset['2000_fertility_var_02_total']) / (full_dataset['2010_fertility_var_02_single'] / full_dataset['2010_fertility_var_02_total'])\n",
    "\n",
    "full_dataset['fertility_var_03_total_pct'] = (full_dataset['2000_fertility_var_03_total'] / full_dataset['2000_family_var_02_qt']) / (full_dataset['2010_fertility_var_03_total'] / full_dataset['2010_family_var_02_qt'])\n",
    "\n",
    "full_dataset['work_var_01_regular_pct'] = ((full_dataset['2000_work_var_01_domestic_regular'] + full_dataset['2000_work_var_01_other_regular'] + full_dataset['2000_work_var_01_military_and_gov']) / full_dataset['2000_work_var_01_total']) / ((full_dataset['2010_work_var_01_main_regular'] + full_dataset['2010_work_var_01_other_regular']) / full_dataset['2010_work_var_01_total'])\n",
    "full_dataset['work_var_01_irregular_pct'] = ((full_dataset['2000_work_var_01_domestic_irregular'] + full_dataset['2000_work_var_01_other_irregular']) / full_dataset['2000_work_var_01_total']) / ((full_dataset['2010_work_var_01_main_irregular'] + full_dataset['2010_work_var_01_other_irregular']) / full_dataset['2010_work_var_01_total'])\n",
    "\n",
    "full_dataset['social_indicator_var_01_15_to_24_years_pct'] = (full_dataset['social_indicator_var_01_2000_15_to_24_years'] / full_dataset['social_indicator_var_01_2010_15_to_24_years'])\n",
    "full_dataset['social_indicator_var_01_25_to_59_years_pct'] = (full_dataset['social_indicator_var_01_2000_25_to_59_years'] / full_dataset['social_indicator_var_01_2010_25_to_59_years'])\n",
    "full_dataset['social_indicator_var_01_60_to_more_years_pct'] = (full_dataset['social_indicator_var_01_2000_60_to_more_years'] / full_dataset['social_indicator_var_01_2010_60_to_more_years'])\n",
    "\n",
    "full_dataset['social_indicator_var_02_suitable_pct'] = full_dataset['social_indicator_var_02_2000_suitable'] / full_dataset['social_indicator_var_02_2010_suitable']\n",
    "full_dataset['social_indicator_var_02_semi_suitable_pct'] = full_dataset['social_indicator_var_02_2000_semi_suitable'] / full_dataset['social_indicator_var_02_2010_semi_suitable']\n",
    "full_dataset['social_indicator_var_02_inappropriate_pct'] = full_dataset['social_indicator_var_02_2000_inappropriate'] / full_dataset['social_indicator_var_02_2010_inappropriate']\n",
    "\n",
    "full_dataset['social_indicator_var_03_responsable_illiterate_pct'] = full_dataset['social_indicator_var_03_2000_responsable_illiterate'] / full_dataset['social_indicator_var_03_2010_responsable_illiterate']\n",
    "full_dataset['social_indicator_var_03_inappropriate_residence_pct'] = full_dataset['social_indicator_var_03_2000_inappropriate_residence'] / full_dataset['social_indicator_var_03_2010_inappropriate_residence']\n",
    "full_dataset['social_indicator_var_03_responsable_illiterate_and_inappropriate_residence_pct'] = full_dataset['social_indicator_var_03_2000_responsable_illiterate_and_inappropriate_residence'] / full_dataset['social_indicator_var_03_2010_responsable_illiterate_and_inappropriate_residence']"
   ]
  },
  {
   "cell_type": "markdown",
   "metadata": {},
   "source": [
    "For the target feature, change the proportion getting the relative **pct_pol_neg** over the sum of **pct_pol_neg** and **pct_pol_pos**"
   ]
  },
  {
   "cell_type": "code",
   "execution_count": 103,
   "metadata": {},
   "outputs": [],
   "source": [
    "full_dataset.insert(0, 'pct_pol_neg_rel', full_dataset['pct_pol_neg']/(full_dataset['pct_pol_neg']+full_dataset['pct_pol_pos']))"
   ]
  },
  {
   "cell_type": "markdown",
   "metadata": {},
   "source": [
    "### Select only generated features and remove rows with NaN values on it"
   ]
  },
  {
   "cell_type": "code",
   "execution_count": 104,
   "metadata": {},
   "outputs": [],
   "source": [
    "modeling_dataset = full_dataset.iloc[:, np.r_[0, 8, 88:114]].dropna()"
   ]
  },
  {
   "cell_type": "markdown",
   "metadata": {},
   "source": [
    "### Remove 'inf' value for all columns"
   ]
  },
  {
   "cell_type": "code",
   "execution_count": 105,
   "metadata": {},
   "outputs": [],
   "source": [
    "def replace_inf_by_max(df, col_name):\n",
    "    max_for_column = max(df.loc[df[col_name] != np.inf, col_name])\n",
    "    df.loc[df[col_name] == np.inf, col_name] = max_for_column\n",
    "    \n",
    "    return df"
   ]
  },
  {
   "cell_type": "code",
   "execution_count": 106,
   "metadata": {},
   "outputs": [],
   "source": [
    "for col in modeling_dataset.columns:\n",
    "    modeling_dataset = replace_inf_by_max(modeling_dataset, col)"
   ]
  },
  {
   "cell_type": "markdown",
   "metadata": {},
   "source": [
    "### One hot encoding for 'state' feature"
   ]
  },
  {
   "cell_type": "code",
   "execution_count": 107,
   "metadata": {},
   "outputs": [
    {
     "data": {
      "text/plain": [
       "Index(['pct_pol_neg_rel', 'state',\n",
       "       'social_indicator_var_03_2010_responsable_illiterate_and_inappropriate_residence',\n",
       "       'education_var_01_qt_pct', 'family_var_01_adequada_pct',\n",
       "       'family_var_01_semi_adequada_pct', 'family_var_01_inadequada_pct',\n",
       "       'fertility_var_01_has_children_pct',\n",
       "       'fertility_var_01_children_born_pct',\n",
       "       'fertility_var_01_children_borned_live_pct',\n",
       "       'fertility_var_01_children_borned_dead_pct',\n",
       "       'fertility_var_02_married_pct', 'fertility_var_02_separated_pct',\n",
       "       'fertility_var_02_divorced_pct', 'fertility_var_02_widow_pct',\n",
       "       'fertility_var_02_single_pct', 'fertility_var_03_total_pct',\n",
       "       'work_var_01_regular_pct', 'work_var_01_irregular_pct',\n",
       "       'social_indicator_var_01_15_to_24_years_pct',\n",
       "       'social_indicator_var_01_25_to_59_years_pct',\n",
       "       'social_indicator_var_01_60_to_more_years_pct',\n",
       "       'social_indicator_var_02_suitable_pct',\n",
       "       'social_indicator_var_02_semi_suitable_pct',\n",
       "       'social_indicator_var_02_inappropriate_pct',\n",
       "       'social_indicator_var_03_responsable_illiterate_pct',\n",
       "       'social_indicator_var_03_inappropriate_residence_pct',\n",
       "       'social_indicator_var_03_responsable_illiterate_and_inappropriate_residence_pct'],\n",
       "      dtype='object')"
      ]
     },
     "execution_count": 107,
     "metadata": {},
     "output_type": "execute_result"
    }
   ],
   "source": [
    "modeling_dataset.columns"
   ]
  },
  {
   "cell_type": "code",
   "execution_count": 108,
   "metadata": {},
   "outputs": [],
   "source": [
    "modeling_dataset = pd.concat([\n",
    "    modeling_dataset,\n",
    "    pd.get_dummies(modeling_dataset['state'], prefix = 'state')\n",
    "], axis = 1)\n",
    "\n",
    "modeling_dataset = modeling_dataset.drop(columns=['state'])"
   ]
  },
  {
   "cell_type": "code",
   "execution_count": 109,
   "metadata": {},
   "outputs": [
    {
     "data": {
      "text/html": [
       "<div>\n",
       "<style scoped>\n",
       "    .dataframe tbody tr th:only-of-type {\n",
       "        vertical-align: middle;\n",
       "    }\n",
       "\n",
       "    .dataframe tbody tr th {\n",
       "        vertical-align: top;\n",
       "    }\n",
       "\n",
       "    .dataframe thead th {\n",
       "        text-align: right;\n",
       "    }\n",
       "</style>\n",
       "<table border=\"1\" class=\"dataframe\">\n",
       "  <thead>\n",
       "    <tr style=\"text-align: right;\">\n",
       "      <th></th>\n",
       "      <th>pct_pol_neg_rel</th>\n",
       "      <th>social_indicator_var_03_2010_responsable_illiterate_and_inappropriate_residence</th>\n",
       "      <th>education_var_01_qt_pct</th>\n",
       "      <th>family_var_01_adequada_pct</th>\n",
       "      <th>family_var_01_semi_adequada_pct</th>\n",
       "      <th>family_var_01_inadequada_pct</th>\n",
       "      <th>fertility_var_01_has_children_pct</th>\n",
       "      <th>fertility_var_01_children_born_pct</th>\n",
       "      <th>fertility_var_01_children_borned_live_pct</th>\n",
       "      <th>fertility_var_01_children_borned_dead_pct</th>\n",
       "      <th>...</th>\n",
       "      <th>state_pr</th>\n",
       "      <th>state_rj</th>\n",
       "      <th>state_rn</th>\n",
       "      <th>state_ro</th>\n",
       "      <th>state_rr</th>\n",
       "      <th>state_rs</th>\n",
       "      <th>state_sc</th>\n",
       "      <th>state_se</th>\n",
       "      <th>state_sp</th>\n",
       "      <th>state_to</th>\n",
       "    </tr>\n",
       "  </thead>\n",
       "  <tbody>\n",
       "    <tr>\n",
       "      <th>592</th>\n",
       "      <td>0.348931</td>\n",
       "      <td>29.37</td>\n",
       "      <td>1.002093</td>\n",
       "      <td>0.293259</td>\n",
       "      <td>1.029561</td>\n",
       "      <td>1.842016</td>\n",
       "      <td>0.932309</td>\n",
       "      <td>1.203601</td>\n",
       "      <td>1.176372</td>\n",
       "      <td>2.251072</td>\n",
       "      <td>...</td>\n",
       "      <td>0</td>\n",
       "      <td>0</td>\n",
       "      <td>0</td>\n",
       "      <td>0</td>\n",
       "      <td>0</td>\n",
       "      <td>0</td>\n",
       "      <td>0</td>\n",
       "      <td>0</td>\n",
       "      <td>0</td>\n",
       "      <td>0</td>\n",
       "    </tr>\n",
       "    <tr>\n",
       "      <th>593</th>\n",
       "      <td>0.376682</td>\n",
       "      <td>7.41</td>\n",
       "      <td>0.996090</td>\n",
       "      <td>0.839330</td>\n",
       "      <td>1.067334</td>\n",
       "      <td>3.925634</td>\n",
       "      <td>0.928454</td>\n",
       "      <td>1.245205</td>\n",
       "      <td>1.237379</td>\n",
       "      <td>1.411438</td>\n",
       "      <td>...</td>\n",
       "      <td>0</td>\n",
       "      <td>0</td>\n",
       "      <td>0</td>\n",
       "      <td>0</td>\n",
       "      <td>0</td>\n",
       "      <td>0</td>\n",
       "      <td>0</td>\n",
       "      <td>0</td>\n",
       "      <td>0</td>\n",
       "      <td>0</td>\n",
       "    </tr>\n",
       "    <tr>\n",
       "      <th>594</th>\n",
       "      <td>0.454017</td>\n",
       "      <td>22.41</td>\n",
       "      <td>1.080277</td>\n",
       "      <td>0.000000</td>\n",
       "      <td>0.779659</td>\n",
       "      <td>3.520802</td>\n",
       "      <td>1.016201</td>\n",
       "      <td>1.416888</td>\n",
       "      <td>1.339411</td>\n",
       "      <td>2.916144</td>\n",
       "      <td>...</td>\n",
       "      <td>0</td>\n",
       "      <td>0</td>\n",
       "      <td>0</td>\n",
       "      <td>0</td>\n",
       "      <td>0</td>\n",
       "      <td>0</td>\n",
       "      <td>0</td>\n",
       "      <td>0</td>\n",
       "      <td>0</td>\n",
       "      <td>0</td>\n",
       "    </tr>\n",
       "    <tr>\n",
       "      <th>595</th>\n",
       "      <td>0.381880</td>\n",
       "      <td>2.96</td>\n",
       "      <td>0.759617</td>\n",
       "      <td>0.636611</td>\n",
       "      <td>0.870724</td>\n",
       "      <td>4.013250</td>\n",
       "      <td>0.944821</td>\n",
       "      <td>1.236316</td>\n",
       "      <td>1.182111</td>\n",
       "      <td>2.018407</td>\n",
       "      <td>...</td>\n",
       "      <td>1</td>\n",
       "      <td>0</td>\n",
       "      <td>0</td>\n",
       "      <td>0</td>\n",
       "      <td>0</td>\n",
       "      <td>0</td>\n",
       "      <td>0</td>\n",
       "      <td>0</td>\n",
       "      <td>0</td>\n",
       "      <td>0</td>\n",
       "    </tr>\n",
       "    <tr>\n",
       "      <th>596</th>\n",
       "      <td>0.313415</td>\n",
       "      <td>0.23</td>\n",
       "      <td>0.929166</td>\n",
       "      <td>0.913296</td>\n",
       "      <td>1.166338</td>\n",
       "      <td>12.687498</td>\n",
       "      <td>0.978698</td>\n",
       "      <td>1.098397</td>\n",
       "      <td>1.109735</td>\n",
       "      <td>0.849206</td>\n",
       "      <td>...</td>\n",
       "      <td>0</td>\n",
       "      <td>0</td>\n",
       "      <td>0</td>\n",
       "      <td>0</td>\n",
       "      <td>0</td>\n",
       "      <td>0</td>\n",
       "      <td>0</td>\n",
       "      <td>0</td>\n",
       "      <td>1</td>\n",
       "      <td>0</td>\n",
       "    </tr>\n",
       "  </tbody>\n",
       "</table>\n",
       "<p>5 rows × 51 columns</p>\n",
       "</div>"
      ],
      "text/plain": [
       "     pct_pol_neg_rel  \\\n",
       "592         0.348931   \n",
       "593         0.376682   \n",
       "594         0.454017   \n",
       "595         0.381880   \n",
       "596         0.313415   \n",
       "\n",
       "     social_indicator_var_03_2010_responsable_illiterate_and_inappropriate_residence  \\\n",
       "592                                              29.37                                 \n",
       "593                                               7.41                                 \n",
       "594                                              22.41                                 \n",
       "595                                               2.96                                 \n",
       "596                                               0.23                                 \n",
       "\n",
       "     education_var_01_qt_pct  family_var_01_adequada_pct  \\\n",
       "592                 1.002093                    0.293259   \n",
       "593                 0.996090                    0.839330   \n",
       "594                 1.080277                    0.000000   \n",
       "595                 0.759617                    0.636611   \n",
       "596                 0.929166                    0.913296   \n",
       "\n",
       "     family_var_01_semi_adequada_pct  family_var_01_inadequada_pct  \\\n",
       "592                         1.029561                      1.842016   \n",
       "593                         1.067334                      3.925634   \n",
       "594                         0.779659                      3.520802   \n",
       "595                         0.870724                      4.013250   \n",
       "596                         1.166338                     12.687498   \n",
       "\n",
       "     fertility_var_01_has_children_pct  fertility_var_01_children_born_pct  \\\n",
       "592                           0.932309                            1.203601   \n",
       "593                           0.928454                            1.245205   \n",
       "594                           1.016201                            1.416888   \n",
       "595                           0.944821                            1.236316   \n",
       "596                           0.978698                            1.098397   \n",
       "\n",
       "     fertility_var_01_children_borned_live_pct  \\\n",
       "592                                   1.176372   \n",
       "593                                   1.237379   \n",
       "594                                   1.339411   \n",
       "595                                   1.182111   \n",
       "596                                   1.109735   \n",
       "\n",
       "     fertility_var_01_children_borned_dead_pct    ...     state_pr  state_rj  \\\n",
       "592                                   2.251072    ...            0         0   \n",
       "593                                   1.411438    ...            0         0   \n",
       "594                                   2.916144    ...            0         0   \n",
       "595                                   2.018407    ...            1         0   \n",
       "596                                   0.849206    ...            0         0   \n",
       "\n",
       "     state_rn  state_ro  state_rr  state_rs  state_sc  state_se  state_sp  \\\n",
       "592         0         0         0         0         0         0         0   \n",
       "593         0         0         0         0         0         0         0   \n",
       "594         0         0         0         0         0         0         0   \n",
       "595         0         0         0         0         0         0         0   \n",
       "596         0         0         0         0         0         0         1   \n",
       "\n",
       "     state_to  \n",
       "592         0  \n",
       "593         0  \n",
       "594         0  \n",
       "595         0  \n",
       "596         0  \n",
       "\n",
       "[5 rows x 51 columns]"
      ]
     },
     "execution_count": 109,
     "metadata": {},
     "output_type": "execute_result"
    }
   ],
   "source": [
    "modeling_dataset.tail()"
   ]
  },
  {
   "cell_type": "markdown",
   "metadata": {},
   "source": [
    "Rearrange columns order"
   ]
  },
  {
   "cell_type": "code",
   "execution_count": 110,
   "metadata": {},
   "outputs": [],
   "source": [
    "modeling_dataset.to_csv('02_02_modeling_dataset.csv',\n",
    "                        sep=';',\n",
    "                        index=False)"
   ]
  }
 ],
 "metadata": {
  "kernelspec": {
   "display_name": "Python 3",
   "language": "python",
   "name": "python3"
  },
  "language_info": {
   "codemirror_mode": {
    "name": "ipython",
    "version": 3
   },
   "file_extension": ".py",
   "mimetype": "text/x-python",
   "name": "python",
   "nbconvert_exporter": "python",
   "pygments_lexer": "ipython3",
   "version": "3.7.0"
  }
 },
 "nbformat": 4,
 "nbformat_minor": 2
}
