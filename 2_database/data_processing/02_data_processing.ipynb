{
 "cells": [
  {
   "cell_type": "markdown",
   "metadata": {},
   "source": [
    "### Create datasets for training and validation"
   ]
  },
  {
   "cell_type": "code",
   "execution_count": 382,
   "metadata": {},
   "outputs": [],
   "source": [
    "import pandas as pd\n",
    "import re\n",
    "import numpy as np\n",
    "import os"
   ]
  },
  {
   "cell_type": "markdown",
   "metadata": {},
   "source": [
    "### Read target feature"
   ]
  },
  {
   "cell_type": "code",
   "execution_count": 383,
   "metadata": {},
   "outputs": [],
   "source": [
    "target_feature = pd.read_csv('../target_feature/01_create_target_feature.csv',\n",
    "                             sep=';')"
   ]
  },
  {
   "cell_type": "code",
   "execution_count": 384,
   "metadata": {
    "scrolled": false
   },
   "outputs": [
    {
     "data": {
      "text/html": [
       "<div>\n",
       "<style scoped>\n",
       "    .dataframe tbody tr th:only-of-type {\n",
       "        vertical-align: middle;\n",
       "    }\n",
       "\n",
       "    .dataframe tbody tr th {\n",
       "        vertical-align: top;\n",
       "    }\n",
       "\n",
       "    .dataframe thead th {\n",
       "        text-align: right;\n",
       "    }\n",
       "</style>\n",
       "<table border=\"1\" class=\"dataframe\">\n",
       "  <thead>\n",
       "    <tr style=\"text-align: right;\">\n",
       "      <th></th>\n",
       "      <th>folder</th>\n",
       "      <th>filename</th>\n",
       "      <th>number_of_words</th>\n",
       "      <th>pct_pol_neg</th>\n",
       "      <th>pct_pol_pos</th>\n",
       "      <th>pct_pol_neu</th>\n",
       "      <th>city</th>\n",
       "      <th>state</th>\n",
       "      <th>city_state</th>\n",
       "    </tr>\n",
       "  </thead>\n",
       "  <tbody>\n",
       "    <tr>\n",
       "      <th>0</th>\n",
       "      <td>ciclo_3</td>\n",
       "      <td>8998-Santo Antônio de Jesus-BA.pdf</td>\n",
       "      <td>45400</td>\n",
       "      <td>0.012207</td>\n",
       "      <td>0.023555</td>\n",
       "      <td>0.964591</td>\n",
       "      <td>santo antonio de jesus</td>\n",
       "      <td>ba</td>\n",
       "      <td>santo antonio de jesus_ba</td>\n",
       "    </tr>\n",
       "    <tr>\n",
       "      <th>1</th>\n",
       "      <td>ciclo_3</td>\n",
       "      <td>9024-Ulianópolis-PA.pdf</td>\n",
       "      <td>17199</td>\n",
       "      <td>0.015878</td>\n",
       "      <td>0.015645</td>\n",
       "      <td>0.968768</td>\n",
       "      <td>ulianopolis</td>\n",
       "      <td>pa</td>\n",
       "      <td>ulianopolis_pa</td>\n",
       "    </tr>\n",
       "    <tr>\n",
       "      <th>2</th>\n",
       "      <td>ciclo_3</td>\n",
       "      <td>9010-Aldeias Altas-MA.pdf</td>\n",
       "      <td>58870</td>\n",
       "      <td>0.011997</td>\n",
       "      <td>0.015923</td>\n",
       "      <td>0.972471</td>\n",
       "      <td>aldeias altas</td>\n",
       "      <td>ma</td>\n",
       "      <td>aldeias altas_ma</td>\n",
       "    </tr>\n",
       "    <tr>\n",
       "      <th>3</th>\n",
       "      <td>ciclo_3</td>\n",
       "      <td>9034-Paraíba do Sul-RJ.pdf</td>\n",
       "      <td>14129</td>\n",
       "      <td>0.012318</td>\n",
       "      <td>0.020671</td>\n",
       "      <td>0.967224</td>\n",
       "      <td>paraiba do sul</td>\n",
       "      <td>rj</td>\n",
       "      <td>paraiba do sul_rj</td>\n",
       "    </tr>\n",
       "    <tr>\n",
       "      <th>4</th>\n",
       "      <td>ciclo_3</td>\n",
       "      <td>9045-Governador Celso Ramos-SC.pdf</td>\n",
       "      <td>5201</td>\n",
       "      <td>0.009617</td>\n",
       "      <td>0.017311</td>\n",
       "      <td>0.973456</td>\n",
       "      <td>governador celso ramos</td>\n",
       "      <td>sc</td>\n",
       "      <td>governador celso ramos_sc</td>\n",
       "    </tr>\n",
       "  </tbody>\n",
       "</table>\n",
       "</div>"
      ],
      "text/plain": [
       "    folder                             filename  number_of_words  pct_pol_neg  \\\n",
       "0  ciclo_3  8998-Santo Antônio de Jesus-BA.pdf            45400     0.012207   \n",
       "1  ciclo_3             9024-Ulianópolis-PA.pdf            17199     0.015878   \n",
       "2  ciclo_3            9010-Aldeias Altas-MA.pdf            58870     0.011997   \n",
       "3  ciclo_3          9034-Paraíba do Sul-RJ.pdf            14129     0.012318   \n",
       "4  ciclo_3   9045-Governador Celso Ramos-SC.pdf             5201     0.009617   \n",
       "\n",
       "   pct_pol_pos  pct_pol_neu                    city state  \\\n",
       "0     0.023555     0.964591  santo antonio de jesus    ba   \n",
       "1     0.015645     0.968768             ulianopolis    pa   \n",
       "2     0.015923     0.972471           aldeias altas    ma   \n",
       "3     0.020671     0.967224          paraiba do sul    rj   \n",
       "4     0.017311     0.973456  governador celso ramos    sc   \n",
       "\n",
       "                  city_state  \n",
       "0  santo antonio de jesus_ba  \n",
       "1             ulianopolis_pa  \n",
       "2           aldeias altas_ma  \n",
       "3          paraiba do sul_rj  \n",
       "4  governador celso ramos_sc  "
      ]
     },
     "execution_count": 384,
     "metadata": {},
     "output_type": "execute_result"
    }
   ],
   "source": [
    "target_feature['temp'] = target_feature['filename'].str.replace('[0-9]|.pdf|-', ' ', regex=True)\\\n",
    "    .str.normalize('NFKD').str.encode('ascii', errors='ignore').str.decode('utf-8').str.lower().str.strip()\n",
    "target_feature['city'] = target_feature['temp'].str[:-3]\n",
    "target_feature['state'] = target_feature['temp'].str[-2:]\n",
    "target_feature['city_state'] = target_feature['city'].map(str) + '_' + target_feature['state']\n",
    "\n",
    "target_feature = target_feature.drop(\"temp\", axis=1)\n",
    "target_feature.head()"
   ]
  },
  {
   "cell_type": "markdown",
   "metadata": {},
   "source": [
    "### Read explanatory features"
   ]
  },
  {
   "cell_type": "code",
   "execution_count": 402,
   "metadata": {},
   "outputs": [],
   "source": [
    "full_dataset = target_feature"
   ]
  },
  {
   "cell_type": "code",
   "execution_count": 403,
   "metadata": {},
   "outputs": [],
   "source": [
    "paths = ['../ibge_censo/2000/education',\n",
    "         '../ibge_censo/2000/family',\n",
    "         '../ibge_censo/2000/fertility',\n",
    "         '../ibge_censo/2000/work',\n",
    "         '../ibge_censo/2010/education',\n",
    "         '../ibge_censo/2010/family',\n",
    "         '../ibge_censo/2010/fertility',\n",
    "         #'../ibge_censo/2010/social_indicator',\n",
    "         '../ibge_censo/2010/work']\n",
    "\n",
    "state_name_to_acronym = pd.DataFrame({'full_state_name': ['acre', 'alagoas', 'amapa', 'amazonas', 'bahia', 'ceara', 'distrito_federal', 'espirito_santo', 'goias', 'maranhao', 'mato_grosso', 'mato_grosso_do_sul', 'minas_gerais', 'para', 'paraiba', 'parana', 'pernambuco', 'piaui', 'rio_de_janeiro', 'rio_grande_do_norte', 'rio_grande_do_sul', 'rondonia', 'roraima', 'santa_catarina', 'sao_paulo', 'sergipe', 'tocantins'],\n",
    "                                      'acronym': ['ac', 'al', 'ap', 'am', 'ba', 'ce', 'df', 'es', 'go', 'ma', 'mg', 'ms', 'mg', 'pa', 'pb', 'pr', 'pe', 'pi', 'rj', 'rn', 'rs', 'rn', 'rr', 'sc', 'sp', 'se', 'to']})\n",
    "\n",
    "var_list = ['var_01',\n",
    "            'var_02',\n",
    "            'var_03']"
   ]
  },
  {
   "cell_type": "code",
   "execution_count": 404,
   "metadata": {
    "scrolled": true
   },
   "outputs": [
    {
     "name": "stdout",
     "output_type": "stream",
     "text": [
      "var_01 --> ../ibge_censo/2000/education\n",
      "var_01 --> ../ibge_censo/2000/family\n",
      "var_01 --> ../ibge_censo/2000/fertility\n",
      "var_01 --> ../ibge_censo/2000/work\n",
      "var_01 --> ../ibge_censo/2010/education\n",
      "var_01 --> ../ibge_censo/2010/family\n",
      "var_01 --> ../ibge_censo/2010/fertility\n",
      "var_01 --> ../ibge_censo/2010/work\n",
      "var_02 --> ../ibge_censo/2000/education\n",
      "var_02 --> ../ibge_censo/2000/family\n",
      "var_02 --> ../ibge_censo/2000/fertility\n",
      "var_02 --> ../ibge_censo/2000/work\n",
      "var_02 --> ../ibge_censo/2010/education\n",
      "var_02 --> ../ibge_censo/2010/family\n",
      "var_02 --> ../ibge_censo/2010/fertility\n",
      "var_02 --> ../ibge_censo/2010/work\n",
      "var_03 --> ../ibge_censo/2000/education\n",
      "var_03 --> ../ibge_censo/2000/family\n",
      "var_03 --> ../ibge_censo/2000/fertility\n",
      "var_03 --> ../ibge_censo/2000/work\n",
      "var_03 --> ../ibge_censo/2010/education\n",
      "var_03 --> ../ibge_censo/2010/family\n",
      "var_03 --> ../ibge_censo/2010/fertility\n",
      "var_03 --> ../ibge_censo/2010/work\n"
     ]
    }
   ],
   "source": [
    "for var_name in var_list:\n",
    "    \n",
    "    for path in paths:\n",
    "        full_temp = pd.DataFrame()\n",
    "        \n",
    "        print(var_name + ' --> ' + path)\n",
    "        \n",
    "        for state in os.listdir(path):\n",
    "            if not state.startswith('.'):\n",
    "                state_acronym = state_name_to_acronym.loc[state_name_to_acronym.full_state_name == state]['acronym'].values[0]\n",
    "        \n",
    "                for filename in os.listdir(path + '/' + state):\n",
    "                    if not filename.startswith('.') and filename.endswith(var_name + '.csv'):\n",
    "        \n",
    "                        temp = pd.read_csv(path + '/' + state + '/' + filename)\n",
    "                        temp['city_state'] = temp['city'].map(str) + '_' + state_acronym\n",
    "                        \n",
    "                        full_temp = pd.concat([full_temp, temp])\n",
    "        \n",
    "        if full_temp.shape[0] != 0:\n",
    "            full_temp = full_temp.add_prefix(path.split(\"/\")[2] + '_' + path.split(\"/\")[3] + '_' + var_name + '_')\n",
    "            column_to_join = path.split(\"/\")[2] + '_' + path.split(\"/\")[3] + '_' + var_name + '_city_state'\n",
    "            \n",
    "            full_dataset = pd.merge(full_dataset,\n",
    "                                      full_temp.iloc[:,1:],\n",
    "                                      left_on=\"city_state\",\n",
    "                                      right_on=column_to_join,\n",
    "                                      how=\"left\")\n",
    "            \n",
    "            full_dataset = full_dataset.drop(column_to_join, axis=1)\n",
    "        "
   ]
  },
  {
   "cell_type": "markdown",
   "metadata": {},
   "source": [
    "#### Read social indicator features (not in same pattern)"
   ]
  },
  {
   "cell_type": "code",
   "execution_count": null,
   "metadata": {},
   "outputs": [],
   "source": []
  },
  {
   "cell_type": "code",
   "execution_count": null,
   "metadata": {},
   "outputs": [],
   "source": []
  },
  {
   "cell_type": "code",
   "execution_count": 401,
   "metadata": {},
   "outputs": [
    {
     "name": "stdout",
     "output_type": "stream",
     "text": [
      "folder\n",
      "filename\n",
      "number_of_words\n",
      "pct_pol_neg\n",
      "pct_pol_pos\n",
      "pct_pol_neu\n",
      "city\n",
      "state\n",
      "city_state\n",
      "2000_education_var_01_quantity\n",
      "2000_family_var_01_total\n",
      "2000_family_var_01_adequada\n",
      "2000_family_var_01_semi_adequada\n",
      "2000_family_var_01_inadequada\n",
      "2000_fertility_var_01_total\n",
      "2000_fertility_var_01_has_children\n",
      "2000_fertility_var_01_children_born\n",
      "2000_fertility_var_01_children_borned_live\n",
      "2000_fertility_var_01_children_borned_dead\n",
      "2000_work_var_01_total\n",
      "2000_work_var_01_domestic_regular\n",
      "2000_work_var_01_domestic_irregular\n",
      "2000_work_var_01_other_regular\n",
      "2000_work_var_01_military_and_gov\n",
      "2000_work_var_01_other_irregular\n",
      "2010_education_var_01_quantity\n",
      "2010_family_var_01_total\n",
      "2010_family_var_01_adequada\n",
      "2010_family_var_01_semi_adequada\n",
      "2010_family_var_01_inadequada\n",
      "2010_fertility_var_01_total\n",
      "2010_fertility_var_01_has_children\n",
      "2010_fertility_var_01_children_born\n",
      "2010_fertility_var_01_children_borned_live\n",
      "2010_fertility_var_01_children_borned_dead\n",
      "2010_work_var_01_total\n",
      "2010_work_var_01_main_regular\n",
      "2010_work_var_01_main_irregular\n",
      "2010_work_var_01_other_regular\n",
      "2010_work_var_01_other_irregular\n",
      "2000_fertility_var_02_total\n",
      "2000_fertility_var_02_married\n",
      "2000_fertility_var_02_separated\n",
      "2000_fertility_var_02_divorced\n",
      "2000_fertility_var_02_widow\n",
      "2000_fertility_var_02_single\n",
      "2000_work_var_02_total\n",
      "2000_work_var_02_regular\n",
      "2000_work_var_02_military_and_gov\n",
      "2000_work_var_02_irregular\n",
      "2000_work_var_02_employers\n",
      "2000_work_var_02_entrepreneur\n",
      "2010_fertility_var_02_total\n",
      "2010_fertility_var_02_married\n",
      "2010_fertility_var_02_separated\n",
      "2010_fertility_var_02_divorced\n",
      "2010_fertility_var_02_widow\n",
      "2010_fertility_var_02_single\n",
      "2010_work_var_02_total\n",
      "2010_work_var_02_regular\n",
      "2010_work_var_02_military_and_gov\n",
      "2010_work_var_02_irregular\n",
      "2010_work_var_02_entrepreneur\n",
      "2010_work_var_02_employers\n",
      "2000_fertility_var_03_total\n",
      "2010_fertility_var_03_total\n"
     ]
    }
   ],
   "source": [
    "for c in full_dataset.columns:\n",
    "    print(c)"
   ]
  },
  {
   "cell_type": "code",
   "execution_count": null,
   "metadata": {},
   "outputs": [],
   "source": []
  },
  {
   "cell_type": "code",
   "execution_count": null,
   "metadata": {},
   "outputs": [],
   "source": []
  },
  {
   "cell_type": "code",
   "execution_count": null,
   "metadata": {},
   "outputs": [],
   "source": []
  },
  {
   "cell_type": "code",
   "execution_count": null,
   "metadata": {},
   "outputs": [],
   "source": []
  },
  {
   "cell_type": "code",
   "execution_count": 405,
   "metadata": {},
   "outputs": [],
   "source": [
    "full_dataset.to_csv('02_data_processing_01_raw_dataset.csv', ';')"
   ]
  }
 ],
 "metadata": {
  "kernelspec": {
   "display_name": "Python 3",
   "language": "python",
   "name": "python3"
  },
  "language_info": {
   "codemirror_mode": {
    "name": "ipython",
    "version": 3
   },
   "file_extension": ".py",
   "mimetype": "text/x-python",
   "name": "python",
   "nbconvert_exporter": "python",
   "pygments_lexer": "ipython3",
   "version": "3.7.1"
  }
 },
 "nbformat": 4,
 "nbformat_minor": 2
}
