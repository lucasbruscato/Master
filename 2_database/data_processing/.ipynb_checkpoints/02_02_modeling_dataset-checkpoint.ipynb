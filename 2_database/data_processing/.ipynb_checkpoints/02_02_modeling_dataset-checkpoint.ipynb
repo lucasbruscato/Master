{
 "cells": [
  {
   "cell_type": "markdown",
   "metadata": {},
   "source": [
    "# Data Processing"
   ]
  },
  {
   "cell_type": "code",
   "execution_count": 1,
   "metadata": {},
   "outputs": [],
   "source": [
    "import pandas as pd\n",
    "import numpy as np"
   ]
  },
  {
   "cell_type": "markdown",
   "metadata": {},
   "source": [
    "### Feature engineering"
   ]
  },
  {
   "cell_type": "code",
   "execution_count": 2,
   "metadata": {},
   "outputs": [],
   "source": [
    "full_dataset = pd.read_csv('02_01_raw_dataset.csv',\n",
    "                           sep=';')"
   ]
  },
  {
   "cell_type": "code",
   "execution_count": 3,
   "metadata": {},
   "outputs": [],
   "source": [
    "full_dataset = full_dataset.replace('-', 0)\n",
    "\n",
    "full_dataset.iloc[:, 9:] = full_dataset.iloc[:, 9:].apply(pd.to_numeric)"
   ]
  },
  {
   "cell_type": "markdown",
   "metadata": {},
   "source": [
    "For all the features created using IBGE, divide them from the position in 2000 by the position in 2010, with the following observations: **if the feature is not a proportion, then divide the feature by the population size of the year (2000 or 2010)**"
   ]
  },
  {
   "cell_type": "code",
   "execution_count": 4,
   "metadata": {},
   "outputs": [],
   "source": [
    "full_dataset['education_var_01_qt_pct'] = (full_dataset['2000_education_var_01_quantity'] / full_dataset['2000_family_var_02_qt']) / (full_dataset['2010_education_var_01_quantity'] / full_dataset['2010_family_var_02_qt'])\n",
    "\n",
    "full_dataset['family_var_01_adequada_pct'] = (full_dataset['2000_family_var_01_adequada'] / full_dataset['2000_family_var_01_total']) / (full_dataset['2010_family_var_01_adequada'] / full_dataset['2010_family_var_01_total'])\n",
    "full_dataset['family_var_01_semi_adequada_pct'] = (full_dataset['2000_family_var_01_semi_adequada'] / full_dataset['2000_family_var_01_total']) / (full_dataset['2010_family_var_01_semi_adequada'] / full_dataset['2010_family_var_01_total'])\n",
    "full_dataset['family_var_01_inadequada_pct'] = (full_dataset['2000_family_var_01_inadequada'] / full_dataset['2000_family_var_01_total']) / (full_dataset['2010_family_var_01_inadequada'] / full_dataset['2010_family_var_01_total'])\n",
    "\n",
    "full_dataset['fertility_var_01_has_children_pct'] = (full_dataset['2000_fertility_var_01_has_children'] / full_dataset['2000_fertility_var_01_total']) / (full_dataset['2010_fertility_var_01_has_children'] / full_dataset['2010_fertility_var_01_total'])\n",
    "full_dataset['fertility_var_01_children_born_pct'] = (full_dataset['2000_fertility_var_01_children_born'] / full_dataset['2000_fertility_var_01_total']) / (full_dataset['2010_fertility_var_01_children_born'] / full_dataset['2010_fertility_var_01_total'])\n",
    "full_dataset['fertility_var_01_children_borned_live_pct'] = (full_dataset['2000_fertility_var_01_children_borned_live'] / full_dataset['2000_fertility_var_01_total']) / (full_dataset['2010_fertility_var_01_children_borned_live'] / full_dataset['2010_fertility_var_01_total'])\n",
    "full_dataset['fertility_var_01_children_borned_dead_pct'] = (full_dataset['2000_fertility_var_01_children_borned_dead'] / full_dataset['2000_fertility_var_01_total']) / (full_dataset['2010_fertility_var_01_children_borned_dead'] / full_dataset['2010_fertility_var_01_total'])\n",
    "\n",
    "full_dataset['fertility_var_02_married_pct'] = (full_dataset['2000_fertility_var_02_married'] / full_dataset['2000_fertility_var_02_total']) / (full_dataset['2010_fertility_var_02_married'] / full_dataset['2010_fertility_var_02_total'])\n",
    "full_dataset['fertility_var_02_separated_pct'] = (full_dataset['2000_fertility_var_02_separated'] / full_dataset['2000_fertility_var_02_total']) / (full_dataset['2010_fertility_var_02_separated'] / full_dataset['2010_fertility_var_02_total'])\n",
    "full_dataset['fertility_var_02_divorced_pct'] = (full_dataset['2000_fertility_var_02_divorced'] / full_dataset['2000_fertility_var_02_total']) / (full_dataset['2010_fertility_var_02_divorced'] / full_dataset['2010_fertility_var_02_total'])\n",
    "full_dataset['fertility_var_02_widow_pct'] = (full_dataset['2000_fertility_var_02_widow'] / full_dataset['2000_fertility_var_02_total']) / (full_dataset['2010_fertility_var_02_widow'] / full_dataset['2010_fertility_var_02_total'])\n",
    "full_dataset['fertility_var_02_single_pct'] = (full_dataset['2000_fertility_var_02_single'] / full_dataset['2000_fertility_var_02_total']) / (full_dataset['2010_fertility_var_02_single'] / full_dataset['2010_fertility_var_02_total'])\n",
    "\n",
    "full_dataset['fertility_var_03_total_pct'] = (full_dataset['2000_fertility_var_03_total'] / full_dataset['2000_family_var_02_qt']) / (full_dataset['2010_fertility_var_03_total'] / full_dataset['2010_family_var_02_qt'])\n",
    "\n",
    "full_dataset['work_var_01_regular_pct'] = ((full_dataset['2000_work_var_01_domestic_regular'] + full_dataset['2000_work_var_01_other_regular'] + full_dataset['2000_work_var_01_military_and_gov']) / full_dataset['2000_work_var_01_total']) / ((full_dataset['2010_work_var_01_main_regular'] + full_dataset['2010_work_var_01_other_regular']) / full_dataset['2010_work_var_01_total'])\n",
    "full_dataset['work_var_01_irregular_pct'] = ((full_dataset['2000_work_var_01_domestic_irregular'] + full_dataset['2000_work_var_01_other_irregular']) / full_dataset['2000_work_var_01_total']) / ((full_dataset['2010_work_var_01_main_irregular'] + full_dataset['2010_work_var_01_other_irregular']) / full_dataset['2010_work_var_01_total'])\n",
    "\n",
    "full_dataset['social_indicator_var_01_15_to_24_years_pct'] = (full_dataset['social_indicator_var_01_2000_15_to_24_years'] / full_dataset['social_indicator_var_01_2010_15_to_24_years'])\n",
    "full_dataset['social_indicator_var_01_25_to_59_years_pct'] = (full_dataset['social_indicator_var_01_2000_25_to_59_years'] / full_dataset['social_indicator_var_01_2010_25_to_59_years'])\n",
    "full_dataset['social_indicator_var_01_60_to_more_years_pct'] = (full_dataset['social_indicator_var_01_2000_60_to_more_years'] / full_dataset['social_indicator_var_01_2010_60_to_more_years'])\n",
    "\n",
    "full_dataset['social_indicator_var_02_suitable_pct'] = full_dataset['social_indicator_var_02_2000_suitable'] / full_dataset['social_indicator_var_02_2010_suitable']\n",
    "full_dataset['social_indicator_var_02_semi_suitable_pct'] = full_dataset['social_indicator_var_02_2000_semi_suitable'] / full_dataset['social_indicator_var_02_2010_semi_suitable']\n",
    "full_dataset['social_indicator_var_02_inappropriate_pct'] = full_dataset['social_indicator_var_02_2000_inappropriate'] / full_dataset['social_indicator_var_02_2010_inappropriate']\n",
    "\n",
    "full_dataset['social_indicator_var_03_responsable_illiterate_pct'] = full_dataset['social_indicator_var_03_2000_responsable_illiterate'] / full_dataset['social_indicator_var_03_2010_responsable_illiterate']\n",
    "full_dataset['social_indicator_var_03_inappropriate_residence_pct'] = full_dataset['social_indicator_var_03_2000_inappropriate_residence'] / full_dataset['social_indicator_var_03_2010_inappropriate_residence']\n",
    "full_dataset['social_indicator_var_03_responsable_illiterate_and_inappropriate_residence_pct'] = full_dataset['social_indicator_var_03_2000_responsable_illiterate_and_inappropriate_residence'] / full_dataset['social_indicator_var_03_2010_responsable_illiterate_and_inappropriate_residence']"
   ]
  },
  {
   "cell_type": "markdown",
   "metadata": {},
   "source": [
    "### Select only generated features and remove rows with NaN values on it"
   ]
  },
  {
   "cell_type": "code",
   "execution_count": 5,
   "metadata": {},
   "outputs": [],
   "source": [
    "modeling_dataset = full_dataset.iloc[:, np.r_[3:6, 7, 88:113]].dropna()"
   ]
  },
  {
   "cell_type": "markdown",
   "metadata": {},
   "source": [
    "### Remove 'inf' value for all columns"
   ]
  },
  {
   "cell_type": "code",
   "execution_count": 6,
   "metadata": {},
   "outputs": [],
   "source": [
    "def replace_inf_by_max(df, col_name):\n",
    "    max_for_column = max(df.loc[df[col_name] != np.inf, col_name])\n",
    "    df.loc[df[col_name] == np.inf, col_name] = max_for_column\n",
    "    \n",
    "    return df"
   ]
  },
  {
   "cell_type": "code",
   "execution_count": 7,
   "metadata": {},
   "outputs": [],
   "source": [
    "for col in modeling_dataset.columns:\n",
    "    modeling_dataset = replace_inf_by_max(modeling_dataset, col)"
   ]
  },
  {
   "cell_type": "markdown",
   "metadata": {},
   "source": [
    "### One hot encoding for 'state' feature"
   ]
  },
  {
   "cell_type": "code",
   "execution_count": 8,
   "metadata": {},
   "outputs": [],
   "source": [
    "modeling_dataset = pd.concat([\n",
    "    modeling_dataset,\n",
    "    pd.get_dummies(modeling_dataset['state'], prefix = 'state')\n",
    "], axis = 1)\n",
    "\n",
    "modeling_dataset = modeling_dataset.drop(columns=['state'])"
   ]
  },
  {
   "cell_type": "code",
   "execution_count": 9,
   "metadata": {},
   "outputs": [
    {
     "data": {
      "text/html": [
       "<div>\n",
       "<style scoped>\n",
       "    .dataframe tbody tr th:only-of-type {\n",
       "        vertical-align: middle;\n",
       "    }\n",
       "\n",
       "    .dataframe tbody tr th {\n",
       "        vertical-align: top;\n",
       "    }\n",
       "\n",
       "    .dataframe thead th {\n",
       "        text-align: right;\n",
       "    }\n",
       "</style>\n",
       "<table border=\"1\" class=\"dataframe\">\n",
       "  <thead>\n",
       "    <tr style=\"text-align: right;\">\n",
       "      <th></th>\n",
       "      <th>pct_pol_neg</th>\n",
       "      <th>pct_pol_pos</th>\n",
       "      <th>pct_pol_neu</th>\n",
       "      <th>education_var_01_qt_pct</th>\n",
       "      <th>family_var_01_adequada_pct</th>\n",
       "      <th>family_var_01_semi_adequada_pct</th>\n",
       "      <th>family_var_01_inadequada_pct</th>\n",
       "      <th>fertility_var_01_has_children_pct</th>\n",
       "      <th>fertility_var_01_children_born_pct</th>\n",
       "      <th>fertility_var_01_children_borned_live_pct</th>\n",
       "      <th>...</th>\n",
       "      <th>state_pr</th>\n",
       "      <th>state_rj</th>\n",
       "      <th>state_rn</th>\n",
       "      <th>state_ro</th>\n",
       "      <th>state_rr</th>\n",
       "      <th>state_rs</th>\n",
       "      <th>state_sc</th>\n",
       "      <th>state_se</th>\n",
       "      <th>state_sp</th>\n",
       "      <th>state_to</th>\n",
       "    </tr>\n",
       "  </thead>\n",
       "  <tbody>\n",
       "    <tr>\n",
       "      <th>592</th>\n",
       "      <td>0.016456</td>\n",
       "      <td>0.030705</td>\n",
       "      <td>0.953637</td>\n",
       "      <td>1.002093</td>\n",
       "      <td>0.293259</td>\n",
       "      <td>1.029561</td>\n",
       "      <td>1.842016</td>\n",
       "      <td>0.932309</td>\n",
       "      <td>1.203601</td>\n",
       "      <td>1.176372</td>\n",
       "      <td>...</td>\n",
       "      <td>0</td>\n",
       "      <td>0</td>\n",
       "      <td>0</td>\n",
       "      <td>0</td>\n",
       "      <td>0</td>\n",
       "      <td>0</td>\n",
       "      <td>0</td>\n",
       "      <td>0</td>\n",
       "      <td>0</td>\n",
       "      <td>0</td>\n",
       "    </tr>\n",
       "    <tr>\n",
       "      <th>593</th>\n",
       "      <td>0.019006</td>\n",
       "      <td>0.031450</td>\n",
       "      <td>0.952185</td>\n",
       "      <td>0.996090</td>\n",
       "      <td>0.839330</td>\n",
       "      <td>1.067334</td>\n",
       "      <td>3.925634</td>\n",
       "      <td>0.928454</td>\n",
       "      <td>1.245205</td>\n",
       "      <td>1.237379</td>\n",
       "      <td>...</td>\n",
       "      <td>0</td>\n",
       "      <td>0</td>\n",
       "      <td>0</td>\n",
       "      <td>0</td>\n",
       "      <td>0</td>\n",
       "      <td>0</td>\n",
       "      <td>0</td>\n",
       "      <td>0</td>\n",
       "      <td>0</td>\n",
       "      <td>0</td>\n",
       "    </tr>\n",
       "    <tr>\n",
       "      <th>594</th>\n",
       "      <td>0.021571</td>\n",
       "      <td>0.025940</td>\n",
       "      <td>0.954154</td>\n",
       "      <td>1.080277</td>\n",
       "      <td>0.000000</td>\n",
       "      <td>0.779659</td>\n",
       "      <td>3.520802</td>\n",
       "      <td>1.016201</td>\n",
       "      <td>1.416888</td>\n",
       "      <td>1.339411</td>\n",
       "      <td>...</td>\n",
       "      <td>0</td>\n",
       "      <td>0</td>\n",
       "      <td>0</td>\n",
       "      <td>0</td>\n",
       "      <td>0</td>\n",
       "      <td>0</td>\n",
       "      <td>0</td>\n",
       "      <td>0</td>\n",
       "      <td>0</td>\n",
       "      <td>0</td>\n",
       "    </tr>\n",
       "    <tr>\n",
       "      <th>595</th>\n",
       "      <td>0.016244</td>\n",
       "      <td>0.026293</td>\n",
       "      <td>0.958579</td>\n",
       "      <td>0.759617</td>\n",
       "      <td>0.636611</td>\n",
       "      <td>0.870724</td>\n",
       "      <td>4.013250</td>\n",
       "      <td>0.944821</td>\n",
       "      <td>1.236316</td>\n",
       "      <td>1.182111</td>\n",
       "      <td>...</td>\n",
       "      <td>1</td>\n",
       "      <td>0</td>\n",
       "      <td>0</td>\n",
       "      <td>0</td>\n",
       "      <td>0</td>\n",
       "      <td>0</td>\n",
       "      <td>0</td>\n",
       "      <td>0</td>\n",
       "      <td>0</td>\n",
       "      <td>0</td>\n",
       "    </tr>\n",
       "    <tr>\n",
       "      <th>596</th>\n",
       "      <td>0.012584</td>\n",
       "      <td>0.027566</td>\n",
       "      <td>0.962011</td>\n",
       "      <td>0.929166</td>\n",
       "      <td>0.913296</td>\n",
       "      <td>1.166338</td>\n",
       "      <td>12.687498</td>\n",
       "      <td>0.978698</td>\n",
       "      <td>1.098397</td>\n",
       "      <td>1.109735</td>\n",
       "      <td>...</td>\n",
       "      <td>0</td>\n",
       "      <td>0</td>\n",
       "      <td>0</td>\n",
       "      <td>0</td>\n",
       "      <td>0</td>\n",
       "      <td>0</td>\n",
       "      <td>0</td>\n",
       "      <td>0</td>\n",
       "      <td>1</td>\n",
       "      <td>0</td>\n",
       "    </tr>\n",
       "  </tbody>\n",
       "</table>\n",
       "<p>5 rows × 52 columns</p>\n",
       "</div>"
      ],
      "text/plain": [
       "     pct_pol_neg  pct_pol_pos  pct_pol_neu  education_var_01_qt_pct  \\\n",
       "592     0.016456     0.030705     0.953637                 1.002093   \n",
       "593     0.019006     0.031450     0.952185                 0.996090   \n",
       "594     0.021571     0.025940     0.954154                 1.080277   \n",
       "595     0.016244     0.026293     0.958579                 0.759617   \n",
       "596     0.012584     0.027566     0.962011                 0.929166   \n",
       "\n",
       "     family_var_01_adequada_pct  family_var_01_semi_adequada_pct  \\\n",
       "592                    0.293259                         1.029561   \n",
       "593                    0.839330                         1.067334   \n",
       "594                    0.000000                         0.779659   \n",
       "595                    0.636611                         0.870724   \n",
       "596                    0.913296                         1.166338   \n",
       "\n",
       "     family_var_01_inadequada_pct  fertility_var_01_has_children_pct  \\\n",
       "592                      1.842016                           0.932309   \n",
       "593                      3.925634                           0.928454   \n",
       "594                      3.520802                           1.016201   \n",
       "595                      4.013250                           0.944821   \n",
       "596                     12.687498                           0.978698   \n",
       "\n",
       "     fertility_var_01_children_born_pct  \\\n",
       "592                            1.203601   \n",
       "593                            1.245205   \n",
       "594                            1.416888   \n",
       "595                            1.236316   \n",
       "596                            1.098397   \n",
       "\n",
       "     fertility_var_01_children_borned_live_pct    ...     state_pr  state_rj  \\\n",
       "592                                   1.176372    ...            0         0   \n",
       "593                                   1.237379    ...            0         0   \n",
       "594                                   1.339411    ...            0         0   \n",
       "595                                   1.182111    ...            1         0   \n",
       "596                                   1.109735    ...            0         0   \n",
       "\n",
       "     state_rn  state_ro  state_rr  state_rs  state_sc  state_se  state_sp  \\\n",
       "592         0         0         0         0         0         0         0   \n",
       "593         0         0         0         0         0         0         0   \n",
       "594         0         0         0         0         0         0         0   \n",
       "595         0         0         0         0         0         0         0   \n",
       "596         0         0         0         0         0         0         1   \n",
       "\n",
       "     state_to  \n",
       "592         0  \n",
       "593         0  \n",
       "594         0  \n",
       "595         0  \n",
       "596         0  \n",
       "\n",
       "[5 rows x 52 columns]"
      ]
     },
     "execution_count": 9,
     "metadata": {},
     "output_type": "execute_result"
    }
   ],
   "source": [
    "modeling_dataset.tail()"
   ]
  },
  {
   "cell_type": "code",
   "execution_count": 10,
   "metadata": {},
   "outputs": [],
   "source": [
    "modeling_dataset.to_csv('02_02_modeling_dataset.csv',\n",
    "                        sep=';',\n",
    "                        index=False)"
   ]
  }
 ],
 "metadata": {
  "kernelspec": {
   "display_name": "Python 3",
   "language": "python",
   "name": "python3"
  },
  "language_info": {
   "codemirror_mode": {
    "name": "ipython",
    "version": 3
   },
   "file_extension": ".py",
   "mimetype": "text/x-python",
   "name": "python",
   "nbconvert_exporter": "python",
   "pygments_lexer": "ipython3",
   "version": "3.7.1"
  }
 },
 "nbformat": 4,
 "nbformat_minor": 2
}
