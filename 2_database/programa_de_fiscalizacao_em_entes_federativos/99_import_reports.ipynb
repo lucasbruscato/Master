{
 "cells": [
  {
   "cell_type": "code",
   "execution_count": 1,
   "metadata": {},
   "outputs": [],
   "source": [
    "# import libraries\n",
    "from selenium import webdriver\n",
    "from selenium.webdriver.support.ui import Select\n",
    "from selenium.webdriver.common.keys import Keys\n",
    "import os\n",
    "import time\n",
    "from selenium.webdriver.firefox.firefox_profile import FirefoxProfile\n",
    "import codecs"
   ]
  },
  {
   "cell_type": "code",
   "execution_count": 2,
   "metadata": {},
   "outputs": [],
   "source": [
    "# set driver for browser connection\n",
    "DRIVER_BIN = \"/Users/lucas.bruscato/Dropbox/Github-Lucas/mestrado/drivers/geckodriver_mac\"\n",
    "# DRIVER_BIN = \"C:\\\\Users\\\\lbruscato\\\\Dropbox\\\\Github-Lucas\\\\mestrado\\\\drivers\\\\geckodriver_windows.exe\"\n",
    "\n",
    "# set initial folder\n",
    "folder = 'edicoes_anteriores/sorteio_40'"
   ]
  },
  {
   "cell_type": "code",
   "execution_count": 3,
   "metadata": {},
   "outputs": [
    {
     "name": "stdout",
     "output_type": "stream",
     "text": [
      "initialDate = 01/01/2015\n",
      "finalDate = 31/12/2015\r\n",
      "['Rio Branco do Ivaí', 'Nossa Senhora das Graças', 'Pinhalão', 'Antônio Cardoso', 'Itamari', 'Curaçá', 'Boninau', 'Vereda', 'Formigueiro', 'Lagoa Bonita do Sul', 'São João do Polêsine', 'Vera Cruz', 'Nuporanga', 'Guaraci', 'Paranapuã', 'Lupércio', 'Juquitiba', 'Itajobi', 'Tiros', 'Josenópolis', 'Biquinhas', 'Jenipapo de Minas', 'Itambacuri', 'Canaã', 'Matias Barbosa', 'Pedra Branca do Amapari', 'Uiramutã', 'Humaitá', 'Miracema', 'Cristinápolis', 'General Maynard', 'Pancas', 'Sete Quedas', 'Paripueira – AL', 'Goianésia do Pará', 'Medicilândia', 'Porto dos Gaúchos', 'Nazaré', 'Caicó', 'Nova Cruz', 'Severiano Melo', 'Itapagé', 'Chaval', 'Martinópole', 'Ararendá', 'Afogados da Ingazeira', 'Ferreiros', 'Cachoeirinha', 'Presidente Médici', 'Maranhãozinho', 'Imaculada', 'Riachão do Bacamarte', 'Capitão de Campos', 'Simplício Mendes', 'Itajá', 'Americano do Brasil', 'Jaraguá', 'Nova América', 'Trombudo Central', 'Mondaí']\n"
     ]
    }
   ],
   "source": [
    "# open link file for the chosen folder\n",
    "linkFile = codecs.open(os.getcwd() + \"/\" + folder + \"/link.txt\", 'r', \"utf-8\")\n",
    "textLinkFile = linkFile.read().split('\\n')\n",
    "\n",
    "# create the initial and final date to search\n",
    "initialDate = (textLinkFile[1].split('-'))[0]\n",
    "finalDate = (textLinkFile[1].split('-'))[1]\n",
    "\n",
    "# create an empty list of cities\n",
    "cities = []\n",
    "\n",
    "# fill cities list\n",
    "for i in range(2, len(textLinkFile)):\n",
    "    city = textLinkFile[i].split('-')\n",
    "    cities.append(city[1].strip())\n",
    "\n",
    "print(\"initialDate = \" + initialDate)\n",
    "print(\"finalDate = \" + finalDate)\n",
    "print(cities)\n"
   ]
  },
  {
   "cell_type": "code",
   "execution_count": 4,
   "metadata": {},
   "outputs": [],
   "source": [
    "# set browser preferences and profile (auto download)\n",
    "profile = FirefoxProfile()\n",
    "profile.set_preference('browser.helperApps.neverAsk.saveToDisk', \"application/pdf,application/zip\")\n",
    "profile.set_preference('browser.download.folderList', 2)\n",
    "profile.set_preference('browser.download.dir', os.getcwd() + \"/\" + folder)\n",
    "\n",
    "# open browser\n",
    "browser = webdriver.Firefox(executable_path = DRIVER_BIN, firefox_profile = profile)\n",
    "browser.maximize_window()\n",
    "\n",
    "for j in range(0, len(cities), 5):\n",
    "    browser.get('https://auditoria.cgu.gov.br/')\n",
    "    \n",
    "    # fill fields\n",
    "    Select(browser.find_element_by_id(\"linhaAtuacao\")).select_by_visible_text('Fiscalização em Entes Federativos - Municípios')\n",
    "\n",
    "    browser.find_element_by_id(\"de\").send_keys(initialDate, Keys.TAB)\n",
    "    browser.find_element_by_id(\"ate\").send_keys(finalDate, Keys.TAB)\n",
    "    \n",
    "    for i in range(j, j + 5):\n",
    "        if (i < len(cities)):\n",
    "            browser.find_element_by_id(\"palavraChave\").send_keys(cities[i], Keys.COMMAND, 'a')\n",
    "            browser.find_element_by_id(\"palavraChave\").send_keys(Keys.COMMAND, 'x')\n",
    "            browser.find_element_by_id(\"token-input-municipios\").send_keys(Keys.COMMAND, 'v')\n",
    "            time.sleep(2)\n",
    "            \n",
    "            browser.find_element_by_id(\"token-input-municipios\").send_keys(Keys.ENTER)\n",
    "            time.sleep(1)\n",
    "    \n",
    "    # search and download files\n",
    "    browser.find_element_by_id(\"btnPesquisar\").click()\n",
    "    time.sleep(2)\n",
    "    \n",
    "    browser.find_element_by_id(\"btnSelectAll\").click()\n",
    "    time.sleep(1)\n",
    "    \n",
    "    browser.find_element_by_id(\"btnBaixar\").click()\n",
    "    time.sleep(1)\n"
   ]
  }
 ],
 "metadata": {
  "kernelspec": {
   "display_name": "Python 3",
   "language": "python",
   "name": "python3"
  },
  "language_info": {
   "codemirror_mode": {
    "name": "ipython",
    "version": 3
   },
   "file_extension": ".py",
   "mimetype": "text/x-python",
   "name": "python",
   "nbconvert_exporter": "python",
   "pygments_lexer": "ipython3",
   "version": "3.7.1"
  }
 },
 "nbformat": 4,
 "nbformat_minor": 2
}
