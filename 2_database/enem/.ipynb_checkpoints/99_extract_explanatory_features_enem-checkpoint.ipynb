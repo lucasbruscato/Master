{
 "cells": [
  {
   "cell_type": "markdown",
   "metadata": {},
   "source": [
    "# Extract Explanatory Features"
   ]
  },
  {
   "cell_type": "code",
   "execution_count": 1,
   "metadata": {},
   "outputs": [],
   "source": [
    "import os\n",
    "import shutil\n",
    "import pandas as pd"
   ]
  },
  {
   "cell_type": "markdown",
   "metadata": {},
   "source": [
    "### Extract features from enem score 2000"
   ]
  },
  {
   "cell_type": "code",
   "execution_count": 20,
   "metadata": {},
   "outputs": [],
   "source": [
    "columns_to_select = ['NO_MUNICIPIO_RESIDENCIA',\n",
    "                     'SG_UF_RESIDENCIA',\n",
    "                     'TP_PRESENCA',\n",
    "                     'TP_STATUS_REDACAO',\n",
    "                     'NU_NOTA_OBJETIVA',\n",
    "                     'NU_NOTA_REDACAO']"
   ]
  },
  {
   "cell_type": "code",
   "execution_count": 27,
   "metadata": {},
   "outputs": [],
   "source": [
    "df = pd.read_csv('2000/Dados/MICRODADOS_ENEM_2000.csv',\n",
    "                 sep=';',\n",
    "                 usecols=columns_to_select)\n",
    "\n",
    "df = df.query('TP_PRESENCA == 1 and TP_STATUS_REDACAO == \"P\"')"
   ]
  },
  {
   "cell_type": "code",
   "execution_count": 28,
   "metadata": {},
   "outputs": [],
   "source": [
    "df['city_state'] = (df.NO_MUNICIPIO_RESIDENCIA + '_' + df.SG_UF_RESIDENCIA).str.normalize('NFKD')\\\n",
    "                    .str.encode('ascii', errors='ignore')\\\n",
    "                    .str.decode('utf-8').str.lower()\n",
    "\n",
    "df['enem_score'] = (df['NU_NOTA_OBJETIVA']+df['NU_NOTA_REDACAO'])/2"
   ]
  },
  {
   "cell_type": "code",
   "execution_count": 44,
   "metadata": {},
   "outputs": [],
   "source": [
    "df_grouped = df[['city_state', 'enem_score']].groupby('city_state').agg(['mean', 'std', 'median'])\n",
    "\n",
    "df_grouped.columns = ['enem_score_mean', 'enem_score_std', 'enem_score_median']"
   ]
  },
  {
   "cell_type": "code",
   "execution_count": 47,
   "metadata": {},
   "outputs": [],
   "source": [
    "df_grouped.to_csv('2000/2000_enem_score_var_01.csv', sep=';')"
   ]
  },
  {
   "cell_type": "markdown",
   "metadata": {},
   "source": [
    "### Extract features from enem score 2010"
   ]
  },
  {
   "cell_type": "code",
   "execution_count": 54,
   "metadata": {},
   "outputs": [],
   "source": [
    "columns_to_select = ['NO_MUNICIPIO_RESIDENCIA',\n",
    "                     'SG_UF_RESIDENCIA',\n",
    "                     'TP_PRESENCA_CN',\n",
    "                     'TP_PRESENCA_CH',\n",
    "                     'TP_PRESENCA_LC',\n",
    "                     'TP_PRESENCA_MT',\n",
    "                     'NU_NOTA_CN',\n",
    "                     'NU_NOTA_CH',\n",
    "                     'NU_NOTA_LC',\n",
    "                     'NU_NOTA_MT',\n",
    "                     'TP_STATUS_REDACAO',\n",
    "                     'NU_NOTA_REDACAO']"
   ]
  },
  {
   "cell_type": "code",
   "execution_count": 55,
   "metadata": {},
   "outputs": [
    {
     "name": "stderr",
     "output_type": "stream",
     "text": [
      "/Library/Frameworks/Python.framework/Versions/3.7/lib/python3.7/site-packages/IPython/core/interactiveshell.py:2785: DtypeWarning: Columns (3,5) have mixed types. Specify dtype option on import or set low_memory=False.\n",
      "  interactivity=interactivity, compiler=compiler, result=result)\n"
     ]
    }
   ],
   "source": [
    "df = pd.read_csv('2010/Dados/MICRODADOS_ENEM_2010.csv',\n",
    "                 sep=';',\n",
    "                 usecols=columns_to_select)\n",
    "\n",
    "df = df.query('TP_PRESENCA_CN == 1 and TP_PRESENCA_CH == 1 and TP_PRESENCA_LC == 1 and TP_PRESENCA_MT == 1 and TP_STATUS_REDACAO == \"P\"')"
   ]
  },
  {
   "cell_type": "code",
   "execution_count": 59,
   "metadata": {},
   "outputs": [
    {
     "data": {
      "text/html": [
       "<div>\n",
       "<style scoped>\n",
       "    .dataframe tbody tr th:only-of-type {\n",
       "        vertical-align: middle;\n",
       "    }\n",
       "\n",
       "    .dataframe tbody tr th {\n",
       "        vertical-align: top;\n",
       "    }\n",
       "\n",
       "    .dataframe thead th {\n",
       "        text-align: right;\n",
       "    }\n",
       "</style>\n",
       "<table border=\"1\" class=\"dataframe\">\n",
       "  <thead>\n",
       "    <tr style=\"text-align: right;\">\n",
       "      <th></th>\n",
       "      <th>NO_MUNICIPIO_RESIDENCIA</th>\n",
       "      <th>SG_UF_RESIDENCIA</th>\n",
       "      <th>TP_PRESENCA_CN</th>\n",
       "      <th>TP_PRESENCA_CH</th>\n",
       "      <th>TP_PRESENCA_LC</th>\n",
       "      <th>TP_PRESENCA_MT</th>\n",
       "      <th>NU_NOTA_CN</th>\n",
       "      <th>NU_NOTA_CH</th>\n",
       "      <th>NU_NOTA_LC</th>\n",
       "      <th>NU_NOTA_MT</th>\n",
       "      <th>TP_STATUS_REDACAO</th>\n",
       "      <th>NU_NOTA_REDACAO</th>\n",
       "    </tr>\n",
       "  </thead>\n",
       "  <tbody>\n",
       "    <tr>\n",
       "      <th>0</th>\n",
       "      <td>MONTES CLAROS</td>\n",
       "      <td>MG</td>\n",
       "      <td>1.0</td>\n",
       "      <td>1.0</td>\n",
       "      <td>1.0</td>\n",
       "      <td>1.0</td>\n",
       "      <td>675.0</td>\n",
       "      <td>787.7</td>\n",
       "      <td>698.0</td>\n",
       "      <td>697.0</td>\n",
       "      <td>P</td>\n",
       "      <td>650.0</td>\n",
       "    </tr>\n",
       "    <tr>\n",
       "      <th>1</th>\n",
       "      <td>PALMAS</td>\n",
       "      <td>TO</td>\n",
       "      <td>1.0</td>\n",
       "      <td>1.0</td>\n",
       "      <td>1.0</td>\n",
       "      <td>1.0</td>\n",
       "      <td>504.2</td>\n",
       "      <td>548.2</td>\n",
       "      <td>431.4</td>\n",
       "      <td>415.9</td>\n",
       "      <td>P</td>\n",
       "      <td>350.0</td>\n",
       "    </tr>\n",
       "    <tr>\n",
       "      <th>2</th>\n",
       "      <td>MANAUS</td>\n",
       "      <td>AM</td>\n",
       "      <td>1.0</td>\n",
       "      <td>1.0</td>\n",
       "      <td>1.0</td>\n",
       "      <td>1.0</td>\n",
       "      <td>517.4</td>\n",
       "      <td>562.0</td>\n",
       "      <td>563.6</td>\n",
       "      <td>463.1</td>\n",
       "      <td>P</td>\n",
       "      <td>450.0</td>\n",
       "    </tr>\n",
       "    <tr>\n",
       "      <th>5</th>\n",
       "      <td>RIO DE JANEIRO</td>\n",
       "      <td>RJ</td>\n",
       "      <td>1.0</td>\n",
       "      <td>1.0</td>\n",
       "      <td>1.0</td>\n",
       "      <td>1.0</td>\n",
       "      <td>643.1</td>\n",
       "      <td>697.6</td>\n",
       "      <td>635.0</td>\n",
       "      <td>868.3</td>\n",
       "      <td>P</td>\n",
       "      <td>750.0</td>\n",
       "    </tr>\n",
       "    <tr>\n",
       "      <th>6</th>\n",
       "      <td>PETROPOLIS</td>\n",
       "      <td>RJ</td>\n",
       "      <td>1.0</td>\n",
       "      <td>1.0</td>\n",
       "      <td>1.0</td>\n",
       "      <td>1.0</td>\n",
       "      <td>589.8</td>\n",
       "      <td>606.4</td>\n",
       "      <td>541.9</td>\n",
       "      <td>676.8</td>\n",
       "      <td>P</td>\n",
       "      <td>600.0</td>\n",
       "    </tr>\n",
       "  </tbody>\n",
       "</table>\n",
       "</div>"
      ],
      "text/plain": [
       "  NO_MUNICIPIO_RESIDENCIA SG_UF_RESIDENCIA  TP_PRESENCA_CN  TP_PRESENCA_CH  \\\n",
       "0           MONTES CLAROS               MG             1.0             1.0   \n",
       "1                  PALMAS               TO             1.0             1.0   \n",
       "2                  MANAUS               AM             1.0             1.0   \n",
       "5          RIO DE JANEIRO               RJ             1.0             1.0   \n",
       "6              PETROPOLIS               RJ             1.0             1.0   \n",
       "\n",
       "   TP_PRESENCA_LC  TP_PRESENCA_MT  NU_NOTA_CN  NU_NOTA_CH  NU_NOTA_LC  \\\n",
       "0             1.0             1.0       675.0       787.7       698.0   \n",
       "1             1.0             1.0       504.2       548.2       431.4   \n",
       "2             1.0             1.0       517.4       562.0       563.6   \n",
       "5             1.0             1.0       643.1       697.6       635.0   \n",
       "6             1.0             1.0       589.8       606.4       541.9   \n",
       "\n",
       "   NU_NOTA_MT TP_STATUS_REDACAO  NU_NOTA_REDACAO  \n",
       "0       697.0                 P            650.0  \n",
       "1       415.9                 P            350.0  \n",
       "2       463.1                 P            450.0  \n",
       "5       868.3                 P            750.0  \n",
       "6       676.8                 P            600.0  "
      ]
     },
     "execution_count": 59,
     "metadata": {},
     "output_type": "execute_result"
    }
   ],
   "source": [
    "df.head()"
   ]
  },
  {
   "cell_type": "code",
   "execution_count": 60,
   "metadata": {},
   "outputs": [],
   "source": [
    "df['city_state'] = (df.NO_MUNICIPIO_RESIDENCIA + '_' + df.SG_UF_RESIDENCIA).str.normalize('NFKD')\\\n",
    "                    .str.encode('ascii', errors='ignore')\\\n",
    "                    .str.decode('utf-8').str.lower()\n",
    "\n",
    "df['enem_score'] = (df['NU_NOTA_CN']+df['NU_NOTA_CH']+df['NU_NOTA_LC']+df['NU_NOTA_MT']+df['NU_NOTA_REDACAO'])/5"
   ]
  },
  {
   "cell_type": "code",
   "execution_count": 61,
   "metadata": {},
   "outputs": [],
   "source": [
    "df_grouped = df[['city_state', 'enem_score']].groupby('city_state').agg(['mean', 'std', 'median'])\n",
    "\n",
    "df_grouped.columns = ['enem_score_mean', 'enem_score_std', 'enem_score_median']"
   ]
  },
  {
   "cell_type": "code",
   "execution_count": 62,
   "metadata": {},
   "outputs": [
    {
     "data": {
      "text/html": [
       "<div>\n",
       "<style scoped>\n",
       "    .dataframe tbody tr th:only-of-type {\n",
       "        vertical-align: middle;\n",
       "    }\n",
       "\n",
       "    .dataframe tbody tr th {\n",
       "        vertical-align: top;\n",
       "    }\n",
       "\n",
       "    .dataframe thead th {\n",
       "        text-align: right;\n",
       "    }\n",
       "</style>\n",
       "<table border=\"1\" class=\"dataframe\">\n",
       "  <thead>\n",
       "    <tr style=\"text-align: right;\">\n",
       "      <th></th>\n",
       "      <th>enem_score_mean</th>\n",
       "      <th>enem_score_std</th>\n",
       "      <th>enem_score_median</th>\n",
       "    </tr>\n",
       "    <tr>\n",
       "      <th>city_state</th>\n",
       "      <th></th>\n",
       "      <th></th>\n",
       "      <th></th>\n",
       "    </tr>\n",
       "  </thead>\n",
       "  <tbody>\n",
       "    <tr>\n",
       "      <th>abadia de goias_go</th>\n",
       "      <td>495.967921</td>\n",
       "      <td>70.118688</td>\n",
       "      <td>495.90</td>\n",
       "    </tr>\n",
       "    <tr>\n",
       "      <th>abadia dos dourados_mg</th>\n",
       "      <td>534.714815</td>\n",
       "      <td>70.384115</td>\n",
       "      <td>537.12</td>\n",
       "    </tr>\n",
       "    <tr>\n",
       "      <th>abadiania_go</th>\n",
       "      <td>500.849244</td>\n",
       "      <td>66.057396</td>\n",
       "      <td>503.50</td>\n",
       "    </tr>\n",
       "    <tr>\n",
       "      <th>abaete_mg</th>\n",
       "      <td>555.804108</td>\n",
       "      <td>68.085758</td>\n",
       "      <td>556.84</td>\n",
       "    </tr>\n",
       "    <tr>\n",
       "      <th>abaetetuba_pa</th>\n",
       "      <td>503.221837</td>\n",
       "      <td>69.388670</td>\n",
       "      <td>499.11</td>\n",
       "    </tr>\n",
       "  </tbody>\n",
       "</table>\n",
       "</div>"
      ],
      "text/plain": [
       "                        enem_score_mean  enem_score_std  enem_score_median\n",
       "city_state                                                                \n",
       "abadia de goias_go           495.967921       70.118688             495.90\n",
       "abadia dos dourados_mg       534.714815       70.384115             537.12\n",
       "abadiania_go                 500.849244       66.057396             503.50\n",
       "abaete_mg                    555.804108       68.085758             556.84\n",
       "abaetetuba_pa                503.221837       69.388670             499.11"
      ]
     },
     "execution_count": 62,
     "metadata": {},
     "output_type": "execute_result"
    }
   ],
   "source": [
    "df_grouped.head()"
   ]
  },
  {
   "cell_type": "code",
   "execution_count": 63,
   "metadata": {},
   "outputs": [],
   "source": [
    "df_grouped.to_csv('2010/2010_enem_score_var_01.csv', sep=';')"
   ]
  }
 ],
 "metadata": {
  "kernelspec": {
   "display_name": "Python 3",
   "language": "python",
   "name": "python3"
  },
  "language_info": {
   "codemirror_mode": {
    "name": "ipython",
    "version": 3
   },
   "file_extension": ".py",
   "mimetype": "text/x-python",
   "name": "python",
   "nbconvert_exporter": "python",
   "pygments_lexer": "ipython3",
   "version": "3.7.0"
  }
 },
 "nbformat": 4,
 "nbformat_minor": 2
}
