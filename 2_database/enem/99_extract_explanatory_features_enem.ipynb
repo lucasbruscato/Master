{
 "cells": [
  {
   "cell_type": "markdown",
   "metadata": {},
   "source": [
    "# Extract Explanatory Features"
   ]
  },
  {
   "cell_type": "code",
   "execution_count": 64,
   "metadata": {},
   "outputs": [],
   "source": [
    "import os\n",
    "import shutil\n",
    "import pandas as pd"
   ]
  },
  {
   "cell_type": "markdown",
   "metadata": {},
   "source": [
    "### Extract features from enem 2000"
   ]
  },
  {
   "cell_type": "code",
   "execution_count": 65,
   "metadata": {},
   "outputs": [],
   "source": [
    "columns_to_select = ['NO_MUNICIPIO_RESIDENCIA',\n",
    "                     'SG_UF_RESIDENCIA',\n",
    "                     'TP_PRESENCA',\n",
    "                     'TP_STATUS_REDACAO',\n",
    "                     'NU_NOTA_OBJETIVA',\n",
    "                     'NU_NOTA_REDACAO']"
   ]
  },
  {
   "cell_type": "code",
   "execution_count": 66,
   "metadata": {},
   "outputs": [],
   "source": [
    "df = pd.read_csv('2000/Dados/MICRODADOS_ENEM_2000.csv',\n",
    "                 sep=';',\n",
    "                 usecols=columns_to_select)\n",
    "\n",
    "df = df.query('TP_PRESENCA == 1 and TP_STATUS_REDACAO == \"P\"')"
   ]
  },
  {
   "cell_type": "code",
   "execution_count": 67,
   "metadata": {},
   "outputs": [],
   "source": [
    "df['city_state'] = (df.NO_MUNICIPIO_RESIDENCIA + '_' + df.SG_UF_RESIDENCIA).str.normalize('NFKD')\\\n",
    "                    .str.encode('ascii', errors='ignore')\\\n",
    "                    .str.decode('utf-8').str.lower()\n",
    "\n",
    "df['enem_score'] = (df['NU_NOTA_OBJETIVA']+df['NU_NOTA_REDACAO'])/2"
   ]
  },
  {
   "cell_type": "code",
   "execution_count": 68,
   "metadata": {},
   "outputs": [],
   "source": [
    "df_grouped = df[['city_state', 'enem_score']].groupby('city_state').agg(['mean', 'std', 'median'])\n",
    "\n",
    "df_grouped.columns = ['enem_score_mean', 'enem_score_std', 'enem_score_median']"
   ]
  },
  {
   "cell_type": "code",
   "execution_count": 69,
   "metadata": {},
   "outputs": [],
   "source": [
    "df_grouped.to_csv('2000/2000_enem_score_var_01.csv', sep=';')"
   ]
  },
  {
   "cell_type": "markdown",
   "metadata": {},
   "source": [
    "### Extract features from enem 2010"
   ]
  },
  {
   "cell_type": "code",
   "execution_count": 70,
   "metadata": {},
   "outputs": [],
   "source": [
    "columns_to_select = ['NO_MUNICIPIO_RESIDENCIA',\n",
    "                     'SG_UF_RESIDENCIA',\n",
    "                     'TP_PRESENCA_CN',\n",
    "                     'TP_PRESENCA_CH',\n",
    "                     'TP_PRESENCA_LC',\n",
    "                     'TP_PRESENCA_MT',\n",
    "                     'NU_NOTA_CN',\n",
    "                     'NU_NOTA_CH',\n",
    "                     'NU_NOTA_LC',\n",
    "                     'NU_NOTA_MT',\n",
    "                     'TP_STATUS_REDACAO',\n",
    "                     'NU_NOTA_REDACAO']"
   ]
  },
  {
   "cell_type": "code",
   "execution_count": 71,
   "metadata": {},
   "outputs": [
    {
     "name": "stderr",
     "output_type": "stream",
     "text": [
      "/Library/Frameworks/Python.framework/Versions/3.7/lib/python3.7/site-packages/IPython/core/interactiveshell.py:2785: DtypeWarning: Columns (3,5) have mixed types. Specify dtype option on import or set low_memory=False.\n",
      "  interactivity=interactivity, compiler=compiler, result=result)\n"
     ]
    }
   ],
   "source": [
    "df = pd.read_csv('2010/Dados/MICRODADOS_ENEM_2010.csv',\n",
    "                 sep=';',\n",
    "                 usecols=columns_to_select)\n",
    "\n",
    "df = df.query('TP_PRESENCA_CN == 1 and TP_PRESENCA_CH == 1 and TP_PRESENCA_LC == 1 and TP_PRESENCA_MT == 1 and TP_STATUS_REDACAO == \"P\"')"
   ]
  },
  {
   "cell_type": "code",
   "execution_count": 73,
   "metadata": {},
   "outputs": [],
   "source": [
    "df['city_state'] = (df.NO_MUNICIPIO_RESIDENCIA + '_' + df.SG_UF_RESIDENCIA).str.normalize('NFKD')\\\n",
    "                    .str.encode('ascii', errors='ignore')\\\n",
    "                    .str.decode('utf-8').str.lower()\n",
    "\n",
    "df['enem_score'] = (df['NU_NOTA_CN']+df['NU_NOTA_CH']+df['NU_NOTA_LC']+df['NU_NOTA_MT']+df['NU_NOTA_REDACAO'])/5"
   ]
  },
  {
   "cell_type": "code",
   "execution_count": 74,
   "metadata": {},
   "outputs": [],
   "source": [
    "df_grouped = df[['city_state', 'enem_score']].groupby('city_state').agg(['mean', 'std', 'median'])\n",
    "\n",
    "df_grouped.columns = ['enem_score_mean', 'enem_score_std', 'enem_score_median']"
   ]
  },
  {
   "cell_type": "code",
   "execution_count": 76,
   "metadata": {},
   "outputs": [],
   "source": [
    "df_grouped.to_csv('2010/2010_enem_score_var_01.csv', sep=';')"
   ]
  }
 ],
 "metadata": {
  "kernelspec": {
   "display_name": "Python 3",
   "language": "python",
   "name": "python3"
  },
  "language_info": {
   "codemirror_mode": {
    "name": "ipython",
    "version": 3
   },
   "file_extension": ".py",
   "mimetype": "text/x-python",
   "name": "python",
   "nbconvert_exporter": "python",
   "pygments_lexer": "ipython3",
   "version": "3.7.0"
  }
 },
 "nbformat": 4,
 "nbformat_minor": 2
}
