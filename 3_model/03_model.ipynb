{
 "cells": [
  {
   "cell_type": "code",
   "execution_count": 1,
   "metadata": {},
   "outputs": [],
   "source": [
    "import pandas as pd\n",
    "import matplotlib.pyplot as plt\n",
    "import numpy as np\n",
    "import re\n",
    "import datetime\n",
    "from numpy import inf\n",
    "\n",
    "from sklearn.model_selection import train_test_split\n",
    "from sklearn.metrics import mean_squared_error\n",
    "from sklearn.metrics import r2_score\n",
    "from sklearn import model_selection\n",
    "\n",
    "# regression models\n",
    "from sklearn.linear_model import LinearRegression\n",
    "from sklearn.ensemble import RandomForestRegressor\n",
    "from sklearn.svm import SVR\n",
    "from sklearn.ensemble import GradientBoostingRegressor"
   ]
  },
  {
   "cell_type": "code",
   "execution_count": 2,
   "metadata": {},
   "outputs": [],
   "source": [
    "training_dataset = pd.read_csv('../2_database/data_processing/02_data_processing_03_training_dataset.csv',\n",
    "                              sep=';')\n",
    "\n",
    "validation_dataset = pd.read_csv('../2_database/data_processing/02_data_processing_04_validation_dataset.csv',\n",
    "                                sep=';')"
   ]
  },
  {
   "cell_type": "code",
   "execution_count": 3,
   "metadata": {},
   "outputs": [
    {
     "data": {
      "text/html": [
       "<div>\n",
       "<style scoped>\n",
       "    .dataframe tbody tr th:only-of-type {\n",
       "        vertical-align: middle;\n",
       "    }\n",
       "\n",
       "    .dataframe tbody tr th {\n",
       "        vertical-align: top;\n",
       "    }\n",
       "\n",
       "    .dataframe thead th {\n",
       "        text-align: right;\n",
       "    }\n",
       "</style>\n",
       "<table border=\"1\" class=\"dataframe\">\n",
       "  <thead>\n",
       "    <tr style=\"text-align: right;\">\n",
       "      <th></th>\n",
       "      <th>pct_pol_neg</th>\n",
       "      <th>pct_pol_pos</th>\n",
       "      <th>pct_pol_neu</th>\n",
       "      <th>state</th>\n",
       "      <th>education_var_01_qt_pct</th>\n",
       "      <th>family_var_01_adequada_pct</th>\n",
       "      <th>family_var_01_semi_adequada_pct</th>\n",
       "      <th>family_var_01_inadequada_pct</th>\n",
       "      <th>fertility_var_01_has_children_pct</th>\n",
       "      <th>fertility_var_01_children_born_pct</th>\n",
       "      <th>...</th>\n",
       "      <th>work_var_01_irregular_pct</th>\n",
       "      <th>social_indicator_var_01_15_to_24_years_pct</th>\n",
       "      <th>social_indicator_var_01_25_to_59_years_pct</th>\n",
       "      <th>social_indicator_var_01_60_to_more_years_pct</th>\n",
       "      <th>social_indicator_var_02_suitable_pct</th>\n",
       "      <th>social_indicator_var_02_semi_suitable_pct</th>\n",
       "      <th>social_indicator_var_02_inappropriate_pct</th>\n",
       "      <th>social_indicator_var_03_responsable_illiterate_pct</th>\n",
       "      <th>social_indicator_var_03_inappropriate_residence_pct</th>\n",
       "      <th>social_indicator_var_03_responsable_illiterate_and_inappropriate_residence_pct</th>\n",
       "    </tr>\n",
       "  </thead>\n",
       "  <tbody>\n",
       "    <tr>\n",
       "      <th>0</th>\n",
       "      <td>0.018576</td>\n",
       "      <td>0.029370</td>\n",
       "      <td>0.953309</td>\n",
       "      <td>sp</td>\n",
       "      <td>0.975146</td>\n",
       "      <td>0.771346</td>\n",
       "      <td>1.100852</td>\n",
       "      <td>3.460448</td>\n",
       "      <td>0.991619</td>\n",
       "      <td>1.116080</td>\n",
       "      <td>...</td>\n",
       "      <td>0.513035</td>\n",
       "      <td>1.991453</td>\n",
       "      <td>1.984716</td>\n",
       "      <td>1.478971</td>\n",
       "      <td>0.821663</td>\n",
       "      <td>1.137876</td>\n",
       "      <td>3.573529</td>\n",
       "      <td>2.017544</td>\n",
       "      <td>3.906667</td>\n",
       "      <td>7.727273</td>\n",
       "    </tr>\n",
       "    <tr>\n",
       "      <th>1</th>\n",
       "      <td>0.014563</td>\n",
       "      <td>0.028014</td>\n",
       "      <td>0.959195</td>\n",
       "      <td>pe</td>\n",
       "      <td>0.977967</td>\n",
       "      <td>0.156153</td>\n",
       "      <td>1.301859</td>\n",
       "      <td>8.095948</td>\n",
       "      <td>0.899278</td>\n",
       "      <td>1.155976</td>\n",
       "      <td>...</td>\n",
       "      <td>0.416151</td>\n",
       "      <td>2.363049</td>\n",
       "      <td>1.490483</td>\n",
       "      <td>1.137173</td>\n",
       "      <td>0.213576</td>\n",
       "      <td>1.279340</td>\n",
       "      <td>4.126743</td>\n",
       "      <td>1.578146</td>\n",
       "      <td>4.522596</td>\n",
       "      <td>6.335556</td>\n",
       "    </tr>\n",
       "    <tr>\n",
       "      <th>2</th>\n",
       "      <td>0.023637</td>\n",
       "      <td>0.035859</td>\n",
       "      <td>0.943328</td>\n",
       "      <td>sp</td>\n",
       "      <td>1.045255</td>\n",
       "      <td>0.813104</td>\n",
       "      <td>1.349589</td>\n",
       "      <td>4.570161</td>\n",
       "      <td>0.957922</td>\n",
       "      <td>1.069060</td>\n",
       "      <td>...</td>\n",
       "      <td>0.606255</td>\n",
       "      <td>2.329897</td>\n",
       "      <td>1.584906</td>\n",
       "      <td>1.420379</td>\n",
       "      <td>0.926863</td>\n",
       "      <td>0.330832</td>\n",
       "      <td>4.094675</td>\n",
       "      <td>2.217082</td>\n",
       "      <td>3.825273</td>\n",
       "      <td>7.467742</td>\n",
       "    </tr>\n",
       "    <tr>\n",
       "      <th>3</th>\n",
       "      <td>0.013638</td>\n",
       "      <td>0.026332</td>\n",
       "      <td>0.960974</td>\n",
       "      <td>ce</td>\n",
       "      <td>1.023528</td>\n",
       "      <td>0.053283</td>\n",
       "      <td>0.898975</td>\n",
       "      <td>2.613556</td>\n",
       "      <td>0.976104</td>\n",
       "      <td>1.156115</td>\n",
       "      <td>...</td>\n",
       "      <td>0.552008</td>\n",
       "      <td>2.685007</td>\n",
       "      <td>1.426546</td>\n",
       "      <td>1.142308</td>\n",
       "      <td>0.130391</td>\n",
       "      <td>0.664473</td>\n",
       "      <td>1.813720</td>\n",
       "      <td>1.281789</td>\n",
       "      <td>1.979155</td>\n",
       "      <td>2.094926</td>\n",
       "    </tr>\n",
       "    <tr>\n",
       "      <th>4</th>\n",
       "      <td>0.016828</td>\n",
       "      <td>0.045385</td>\n",
       "      <td>0.939317</td>\n",
       "      <td>sp</td>\n",
       "      <td>0.785903</td>\n",
       "      <td>0.499677</td>\n",
       "      <td>1.276335</td>\n",
       "      <td>8.326532</td>\n",
       "      <td>1.060698</td>\n",
       "      <td>1.136891</td>\n",
       "      <td>...</td>\n",
       "      <td>0.349636</td>\n",
       "      <td>2.551136</td>\n",
       "      <td>1.193137</td>\n",
       "      <td>1.351345</td>\n",
       "      <td>0.824570</td>\n",
       "      <td>0.364026</td>\n",
       "      <td>8.006608</td>\n",
       "      <td>1.356146</td>\n",
       "      <td>19.192547</td>\n",
       "      <td>5.543210</td>\n",
       "    </tr>\n",
       "  </tbody>\n",
       "</table>\n",
       "<p>5 rows × 29 columns</p>\n",
       "</div>"
      ],
      "text/plain": [
       "   pct_pol_neg  pct_pol_pos  pct_pol_neu state  education_var_01_qt_pct  \\\n",
       "0     0.018576     0.029370     0.953309    sp                 0.975146   \n",
       "1     0.014563     0.028014     0.959195    pe                 0.977967   \n",
       "2     0.023637     0.035859     0.943328    sp                 1.045255   \n",
       "3     0.013638     0.026332     0.960974    ce                 1.023528   \n",
       "4     0.016828     0.045385     0.939317    sp                 0.785903   \n",
       "\n",
       "   family_var_01_adequada_pct  family_var_01_semi_adequada_pct  \\\n",
       "0                    0.771346                         1.100852   \n",
       "1                    0.156153                         1.301859   \n",
       "2                    0.813104                         1.349589   \n",
       "3                    0.053283                         0.898975   \n",
       "4                    0.499677                         1.276335   \n",
       "\n",
       "   family_var_01_inadequada_pct  fertility_var_01_has_children_pct  \\\n",
       "0                      3.460448                           0.991619   \n",
       "1                      8.095948                           0.899278   \n",
       "2                      4.570161                           0.957922   \n",
       "3                      2.613556                           0.976104   \n",
       "4                      8.326532                           1.060698   \n",
       "\n",
       "   fertility_var_01_children_born_pct  \\\n",
       "0                            1.116080   \n",
       "1                            1.155976   \n",
       "2                            1.069060   \n",
       "3                            1.156115   \n",
       "4                            1.136891   \n",
       "\n",
       "                                        ...                                        \\\n",
       "0                                       ...                                         \n",
       "1                                       ...                                         \n",
       "2                                       ...                                         \n",
       "3                                       ...                                         \n",
       "4                                       ...                                         \n",
       "\n",
       "   work_var_01_irregular_pct  social_indicator_var_01_15_to_24_years_pct  \\\n",
       "0                   0.513035                                    1.991453   \n",
       "1                   0.416151                                    2.363049   \n",
       "2                   0.606255                                    2.329897   \n",
       "3                   0.552008                                    2.685007   \n",
       "4                   0.349636                                    2.551136   \n",
       "\n",
       "   social_indicator_var_01_25_to_59_years_pct  \\\n",
       "0                                    1.984716   \n",
       "1                                    1.490483   \n",
       "2                                    1.584906   \n",
       "3                                    1.426546   \n",
       "4                                    1.193137   \n",
       "\n",
       "   social_indicator_var_01_60_to_more_years_pct  \\\n",
       "0                                      1.478971   \n",
       "1                                      1.137173   \n",
       "2                                      1.420379   \n",
       "3                                      1.142308   \n",
       "4                                      1.351345   \n",
       "\n",
       "   social_indicator_var_02_suitable_pct  \\\n",
       "0                              0.821663   \n",
       "1                              0.213576   \n",
       "2                              0.926863   \n",
       "3                              0.130391   \n",
       "4                              0.824570   \n",
       "\n",
       "   social_indicator_var_02_semi_suitable_pct  \\\n",
       "0                                   1.137876   \n",
       "1                                   1.279340   \n",
       "2                                   0.330832   \n",
       "3                                   0.664473   \n",
       "4                                   0.364026   \n",
       "\n",
       "   social_indicator_var_02_inappropriate_pct  \\\n",
       "0                                   3.573529   \n",
       "1                                   4.126743   \n",
       "2                                   4.094675   \n",
       "3                                   1.813720   \n",
       "4                                   8.006608   \n",
       "\n",
       "   social_indicator_var_03_responsable_illiterate_pct  \\\n",
       "0                                           2.017544    \n",
       "1                                           1.578146    \n",
       "2                                           2.217082    \n",
       "3                                           1.281789    \n",
       "4                                           1.356146    \n",
       "\n",
       "   social_indicator_var_03_inappropriate_residence_pct  \\\n",
       "0                                           3.906667     \n",
       "1                                           4.522596     \n",
       "2                                           3.825273     \n",
       "3                                           1.979155     \n",
       "4                                          19.192547     \n",
       "\n",
       "   social_indicator_var_03_responsable_illiterate_and_inappropriate_residence_pct  \n",
       "0                                           7.727273                               \n",
       "1                                           6.335556                               \n",
       "2                                           7.467742                               \n",
       "3                                           2.094926                               \n",
       "4                                           5.543210                               \n",
       "\n",
       "[5 rows x 29 columns]"
      ]
     },
     "execution_count": 3,
     "metadata": {},
     "output_type": "execute_result"
    }
   ],
   "source": [
    "training_dataset.head()"
   ]
  },
  {
   "cell_type": "code",
   "execution_count": 4,
   "metadata": {},
   "outputs": [],
   "source": [
    "training_dataset = pd.concat([\n",
    "    training_dataset.reset_index(drop = True),\n",
    "    pd.get_dummies(training_dataset['state'], prefix = 'state')\n",
    "], axis = 1)\n",
    "\n",
    "validation_dataset = pd.concat([\n",
    "    validation_dataset.reset_index(drop = True),\n",
    "    pd.get_dummies(validation_dataset['state'], prefix = 'state')\n",
    "], axis = 1)\n",
    "\n",
    "training_dataset = training_dataset.drop(columns=['state'])\n",
    "validation_dataset = validation_dataset.drop(columns=['state'])"
   ]
  },
  {
   "cell_type": "code",
   "execution_count": 5,
   "metadata": {},
   "outputs": [],
   "source": [
    "training_dataset[training_dataset == inf] = 50\n",
    "validation_dataset[validation_dataset == inf] = 50"
   ]
  },
  {
   "cell_type": "code",
   "execution_count": 7,
   "metadata": {},
   "outputs": [
    {
     "data": {
      "text/html": [
       "<div>\n",
       "<style scoped>\n",
       "    .dataframe tbody tr th:only-of-type {\n",
       "        vertical-align: middle;\n",
       "    }\n",
       "\n",
       "    .dataframe tbody tr th {\n",
       "        vertical-align: top;\n",
       "    }\n",
       "\n",
       "    .dataframe thead th {\n",
       "        text-align: right;\n",
       "    }\n",
       "</style>\n",
       "<table border=\"1\" class=\"dataframe\">\n",
       "  <thead>\n",
       "    <tr style=\"text-align: right;\">\n",
       "      <th></th>\n",
       "      <th>pct_pol_neg</th>\n",
       "      <th>pct_pol_pos</th>\n",
       "      <th>pct_pol_neu</th>\n",
       "      <th>education_var_01_qt_pct</th>\n",
       "      <th>family_var_01_adequada_pct</th>\n",
       "      <th>family_var_01_semi_adequada_pct</th>\n",
       "      <th>family_var_01_inadequada_pct</th>\n",
       "      <th>fertility_var_01_has_children_pct</th>\n",
       "      <th>fertility_var_01_children_born_pct</th>\n",
       "      <th>fertility_var_01_children_borned_live_pct</th>\n",
       "      <th>...</th>\n",
       "      <th>state_pr</th>\n",
       "      <th>state_rj</th>\n",
       "      <th>state_rn</th>\n",
       "      <th>state_ro</th>\n",
       "      <th>state_rr</th>\n",
       "      <th>state_rs</th>\n",
       "      <th>state_sc</th>\n",
       "      <th>state_se</th>\n",
       "      <th>state_sp</th>\n",
       "      <th>state_to</th>\n",
       "    </tr>\n",
       "  </thead>\n",
       "  <tbody>\n",
       "    <tr>\n",
       "      <th>0</th>\n",
       "      <td>0.018576</td>\n",
       "      <td>0.029370</td>\n",
       "      <td>0.953309</td>\n",
       "      <td>0.975146</td>\n",
       "      <td>0.771346</td>\n",
       "      <td>1.100852</td>\n",
       "      <td>3.460448</td>\n",
       "      <td>0.991619</td>\n",
       "      <td>1.116080</td>\n",
       "      <td>1.096923</td>\n",
       "      <td>...</td>\n",
       "      <td>0</td>\n",
       "      <td>0</td>\n",
       "      <td>0</td>\n",
       "      <td>0</td>\n",
       "      <td>0</td>\n",
       "      <td>0</td>\n",
       "      <td>0</td>\n",
       "      <td>0</td>\n",
       "      <td>1</td>\n",
       "      <td>0</td>\n",
       "    </tr>\n",
       "    <tr>\n",
       "      <th>1</th>\n",
       "      <td>0.014563</td>\n",
       "      <td>0.028014</td>\n",
       "      <td>0.959195</td>\n",
       "      <td>0.977967</td>\n",
       "      <td>0.156153</td>\n",
       "      <td>1.301859</td>\n",
       "      <td>8.095948</td>\n",
       "      <td>0.899278</td>\n",
       "      <td>1.155976</td>\n",
       "      <td>1.152184</td>\n",
       "      <td>...</td>\n",
       "      <td>0</td>\n",
       "      <td>0</td>\n",
       "      <td>0</td>\n",
       "      <td>0</td>\n",
       "      <td>0</td>\n",
       "      <td>0</td>\n",
       "      <td>0</td>\n",
       "      <td>0</td>\n",
       "      <td>0</td>\n",
       "      <td>0</td>\n",
       "    </tr>\n",
       "    <tr>\n",
       "      <th>2</th>\n",
       "      <td>0.023637</td>\n",
       "      <td>0.035859</td>\n",
       "      <td>0.943328</td>\n",
       "      <td>1.045255</td>\n",
       "      <td>0.813104</td>\n",
       "      <td>1.349589</td>\n",
       "      <td>4.570161</td>\n",
       "      <td>0.957922</td>\n",
       "      <td>1.069060</td>\n",
       "      <td>1.070987</td>\n",
       "      <td>...</td>\n",
       "      <td>0</td>\n",
       "      <td>0</td>\n",
       "      <td>0</td>\n",
       "      <td>0</td>\n",
       "      <td>0</td>\n",
       "      <td>0</td>\n",
       "      <td>0</td>\n",
       "      <td>0</td>\n",
       "      <td>1</td>\n",
       "      <td>0</td>\n",
       "    </tr>\n",
       "    <tr>\n",
       "      <th>3</th>\n",
       "      <td>0.013638</td>\n",
       "      <td>0.026332</td>\n",
       "      <td>0.960974</td>\n",
       "      <td>1.023528</td>\n",
       "      <td>0.053283</td>\n",
       "      <td>0.898975</td>\n",
       "      <td>2.613556</td>\n",
       "      <td>0.976104</td>\n",
       "      <td>1.156115</td>\n",
       "      <td>1.157691</td>\n",
       "      <td>...</td>\n",
       "      <td>0</td>\n",
       "      <td>0</td>\n",
       "      <td>0</td>\n",
       "      <td>0</td>\n",
       "      <td>0</td>\n",
       "      <td>0</td>\n",
       "      <td>0</td>\n",
       "      <td>0</td>\n",
       "      <td>0</td>\n",
       "      <td>0</td>\n",
       "    </tr>\n",
       "    <tr>\n",
       "      <th>4</th>\n",
       "      <td>0.016828</td>\n",
       "      <td>0.045385</td>\n",
       "      <td>0.939317</td>\n",
       "      <td>0.785903</td>\n",
       "      <td>0.499677</td>\n",
       "      <td>1.276335</td>\n",
       "      <td>8.326532</td>\n",
       "      <td>1.060698</td>\n",
       "      <td>1.136891</td>\n",
       "      <td>1.112883</td>\n",
       "      <td>...</td>\n",
       "      <td>0</td>\n",
       "      <td>0</td>\n",
       "      <td>0</td>\n",
       "      <td>0</td>\n",
       "      <td>0</td>\n",
       "      <td>0</td>\n",
       "      <td>0</td>\n",
       "      <td>0</td>\n",
       "      <td>1</td>\n",
       "      <td>0</td>\n",
       "    </tr>\n",
       "  </tbody>\n",
       "</table>\n",
       "<p>5 rows × 52 columns</p>\n",
       "</div>"
      ],
      "text/plain": [
       "   pct_pol_neg  pct_pol_pos  pct_pol_neu  education_var_01_qt_pct  \\\n",
       "0     0.018576     0.029370     0.953309                 0.975146   \n",
       "1     0.014563     0.028014     0.959195                 0.977967   \n",
       "2     0.023637     0.035859     0.943328                 1.045255   \n",
       "3     0.013638     0.026332     0.960974                 1.023528   \n",
       "4     0.016828     0.045385     0.939317                 0.785903   \n",
       "\n",
       "   family_var_01_adequada_pct  family_var_01_semi_adequada_pct  \\\n",
       "0                    0.771346                         1.100852   \n",
       "1                    0.156153                         1.301859   \n",
       "2                    0.813104                         1.349589   \n",
       "3                    0.053283                         0.898975   \n",
       "4                    0.499677                         1.276335   \n",
       "\n",
       "   family_var_01_inadequada_pct  fertility_var_01_has_children_pct  \\\n",
       "0                      3.460448                           0.991619   \n",
       "1                      8.095948                           0.899278   \n",
       "2                      4.570161                           0.957922   \n",
       "3                      2.613556                           0.976104   \n",
       "4                      8.326532                           1.060698   \n",
       "\n",
       "   fertility_var_01_children_born_pct  \\\n",
       "0                            1.116080   \n",
       "1                            1.155976   \n",
       "2                            1.069060   \n",
       "3                            1.156115   \n",
       "4                            1.136891   \n",
       "\n",
       "   fertility_var_01_children_borned_live_pct    ...     state_pr  state_rj  \\\n",
       "0                                   1.096923    ...            0         0   \n",
       "1                                   1.152184    ...            0         0   \n",
       "2                                   1.070987    ...            0         0   \n",
       "3                                   1.157691    ...            0         0   \n",
       "4                                   1.112883    ...            0         0   \n",
       "\n",
       "   state_rn  state_ro  state_rr  state_rs  state_sc  state_se  state_sp  \\\n",
       "0         0         0         0         0         0         0         1   \n",
       "1         0         0         0         0         0         0         0   \n",
       "2         0         0         0         0         0         0         1   \n",
       "3         0         0         0         0         0         0         0   \n",
       "4         0         0         0         0         0         0         1   \n",
       "\n",
       "   state_to  \n",
       "0         0  \n",
       "1         0  \n",
       "2         0  \n",
       "3         0  \n",
       "4         0  \n",
       "\n",
       "[5 rows x 52 columns]"
      ]
     },
     "execution_count": 7,
     "metadata": {},
     "output_type": "execute_result"
    }
   ],
   "source": [
    "training_dataset.head()"
   ]
  },
  {
   "cell_type": "code",
   "execution_count": 9,
   "metadata": {},
   "outputs": [],
   "source": [
    "array = training_dataset.iloc[:, np.r_[0, 3:52]].values\n",
    "\n",
    "X_training = array[:, 1:]\n",
    "Y_training = array[:, 0]"
   ]
  },
  {
   "cell_type": "code",
   "execution_count": 10,
   "metadata": {},
   "outputs": [],
   "source": [
    "####### parameters for models' tests ######\n",
    "scoring='neg_mean_squared_error'\n",
    "n_splits=5\n",
    "###########################################\n",
    "\n",
    "models = []\n",
    "\n",
    "models.append(('Linear Regression', LinearRegression()))\n",
    "models.append(('Random Forest', RandomForestRegressor()))\n",
    "models.append(('Support Vector Machine', SVR()))\n",
    "models.append(('Gradient Boosting', GradientBoostingRegressor()))"
   ]
  },
  {
   "cell_type": "code",
   "execution_count": 11,
   "metadata": {},
   "outputs": [
    {
     "name": "stdout",
     "output_type": "stream",
     "text": [
      "Linear Regression 2019-05-21 21:49:00.925772\n",
      "Random Forest 2019-05-21 21:49:01.023582\n"
     ]
    },
    {
     "name": "stderr",
     "output_type": "stream",
     "text": [
      "/anaconda3/lib/python3.7/site-packages/sklearn/ensemble/forest.py:246: FutureWarning: The default value of n_estimators will change from 10 in version 0.20 to 100 in 0.22.\n",
      "  \"10 in version 0.20 to 100 in 0.22.\", FutureWarning)\n",
      "/anaconda3/lib/python3.7/site-packages/sklearn/ensemble/forest.py:246: FutureWarning: The default value of n_estimators will change from 10 in version 0.20 to 100 in 0.22.\n",
      "  \"10 in version 0.20 to 100 in 0.22.\", FutureWarning)\n",
      "/anaconda3/lib/python3.7/site-packages/sklearn/ensemble/forest.py:246: FutureWarning: The default value of n_estimators will change from 10 in version 0.20 to 100 in 0.22.\n",
      "  \"10 in version 0.20 to 100 in 0.22.\", FutureWarning)\n",
      "/anaconda3/lib/python3.7/site-packages/sklearn/ensemble/forest.py:246: FutureWarning: The default value of n_estimators will change from 10 in version 0.20 to 100 in 0.22.\n",
      "  \"10 in version 0.20 to 100 in 0.22.\", FutureWarning)\n",
      "/anaconda3/lib/python3.7/site-packages/sklearn/ensemble/forest.py:246: FutureWarning: The default value of n_estimators will change from 10 in version 0.20 to 100 in 0.22.\n",
      "  \"10 in version 0.20 to 100 in 0.22.\", FutureWarning)\n"
     ]
    },
    {
     "name": "stdout",
     "output_type": "stream",
     "text": [
      "Support Vector Machine 2019-05-21 21:49:01.258561\n",
      "Gradient Boosting 2019-05-21 21:49:01.275393\n"
     ]
    },
    {
     "name": "stderr",
     "output_type": "stream",
     "text": [
      "/anaconda3/lib/python3.7/site-packages/sklearn/svm/base.py:196: FutureWarning: The default value of gamma will change from 'auto' to 'scale' in version 0.22 to account better for unscaled features. Set gamma explicitly to 'auto' or 'scale' to avoid this warning.\n",
      "  \"avoid this warning.\", FutureWarning)\n",
      "/anaconda3/lib/python3.7/site-packages/sklearn/svm/base.py:196: FutureWarning: The default value of gamma will change from 'auto' to 'scale' in version 0.22 to account better for unscaled features. Set gamma explicitly to 'auto' or 'scale' to avoid this warning.\n",
      "  \"avoid this warning.\", FutureWarning)\n",
      "/anaconda3/lib/python3.7/site-packages/sklearn/svm/base.py:196: FutureWarning: The default value of gamma will change from 'auto' to 'scale' in version 0.22 to account better for unscaled features. Set gamma explicitly to 'auto' or 'scale' to avoid this warning.\n",
      "  \"avoid this warning.\", FutureWarning)\n",
      "/anaconda3/lib/python3.7/site-packages/sklearn/svm/base.py:196: FutureWarning: The default value of gamma will change from 'auto' to 'scale' in version 0.22 to account better for unscaled features. Set gamma explicitly to 'auto' or 'scale' to avoid this warning.\n",
      "  \"avoid this warning.\", FutureWarning)\n",
      "/anaconda3/lib/python3.7/site-packages/sklearn/svm/base.py:196: FutureWarning: The default value of gamma will change from 'auto' to 'scale' in version 0.22 to account better for unscaled features. Set gamma explicitly to 'auto' or 'scale' to avoid this warning.\n",
      "  \"avoid this warning.\", FutureWarning)\n"
     ]
    },
    {
     "name": "stdout",
     "output_type": "stream",
     "text": [
      "The End - 2019-05-21 21:49:01.771521\n"
     ]
    },
    {
     "data": {
      "image/png": "[encoded data removed]",
      "text/plain": [
       "<Figure size 432x288 with 1 Axes>"
      ]
     },
     "metadata": {
      "needs_background": "light"
     },
     "output_type": "display_data"
    }
   ],
   "source": [
    "# prepare configuration for cross validation\n",
    "seed = 7\n",
    "\n",
    "# evaluate each model in turn\n",
    "results = []\n",
    "names = []\n",
    "\n",
    "for model_name, model in models:\n",
    "    print(model_name + ' ' + str(datetime.datetime.now()))\n",
    "    kfold = model_selection.KFold(n_splits=n_splits,\n",
    "                                  random_state=seed)\n",
    "    cv_results = model_selection.cross_val_score(model,\n",
    "                                                 X_training,\n",
    "                                                 Y_training,\n",
    "                                                 cv=kfold,\n",
    "                                                 scoring=scoring)\n",
    "    results.append(cv_results)\n",
    "    names.append(model_name)\n",
    "\n",
    "print('The End - ' + str(datetime.datetime.now()))\n",
    "\n",
    "# boxplot models comparison\n",
    "fig = plt.figure()\n",
    "fig.suptitle('Models comparison')\n",
    "ax = fig.add_subplot(111)\n",
    "plt.boxplot(results)\n",
    "ax.set_xticklabels(names)\n",
    "plt.show()"
   ]
  },
  {
   "cell_type": "code",
   "execution_count": null,
   "metadata": {},
   "outputs": [],
   "source": []
  },
  {
   "cell_type": "code",
   "execution_count": null,
   "metadata": {},
   "outputs": [],
   "source": []
  },
  {
   "cell_type": "markdown",
   "metadata": {},
   "source": [
    "Tests with models"
   ]
  },
  {
   "cell_type": "code",
   "execution_count": 12,
   "metadata": {},
   "outputs": [],
   "source": [
    "array = validation_dataset.iloc[:, np.r_[0, 3:52]].values\n",
    "\n",
    "X_validation = array[:, 1:]\n",
    "Y_validation = array[:, 0]"
   ]
  },
  {
   "cell_type": "code",
   "execution_count": 13,
   "metadata": {},
   "outputs": [
    {
     "name": "stdout",
     "output_type": "stream",
     "text": [
      "R2 training: 0.5727917772037274\n",
      "R2 validation: 0.02506270529716681\n"
     ]
    }
   ],
   "source": [
    "model = GradientBoostingRegressor(n_estimators=1000,\n",
    "                                  learning_rate=0.01,\n",
    "                                  max_depth=2)\n",
    "model.fit(X_training, Y_training)\n",
    "\n",
    "y_training_pred = model.predict(X_training)\n",
    "y_validation_pred = model.predict(X_validation)\n",
    "\n",
    "print(\"R2 training: \" + str(r2_score(Y_training, y_training_pred)) + \"\\n\" + \n",
    "      \"R2 validation: \" + str(r2_score(Y_validation, y_validation_pred)))"
   ]
  },
  {
   "cell_type": "code",
   "execution_count": 17,
   "metadata": {},
   "outputs": [],
   "source": [
    "#plt.scatter(Y_training, y_training_pred)\n",
    "#plt.scatter(Y_validation, y_validation_pred)"
   ]
  },
  {
   "cell_type": "code",
   "execution_count": null,
   "metadata": {},
   "outputs": [],
   "source": []
  },
  {
   "cell_type": "code",
   "execution_count": null,
   "metadata": {},
   "outputs": [],
   "source": []
  },
  {
   "cell_type": "code",
   "execution_count": 23,
   "metadata": {},
   "outputs": [
    {
     "name": "stdout",
     "output_type": "stream",
     "text": [
      "R2 training: 0.1864014868375533\n",
      "R2 validation: -2.0595774985362922\n"
     ]
    }
   ],
   "source": [
    "model = LinearRegression()\n",
    "model.fit(X_training, Y_training)\n",
    "\n",
    "y_training_pred = model.predict(X_training)\n",
    "y_validation_pred = model.predict(X_validation)\n",
    "\n",
    "print(\"R2 training: \" + str(r2_score(Y_training, y_training_pred)) + \"\\n\" + \n",
    "      \"R2 validation: \" + str(r2_score(Y_validation, y_validation_pred)))"
   ]
  },
  {
   "cell_type": "code",
   "execution_count": null,
   "metadata": {
    "scrolled": true
   },
   "outputs": [],
   "source": []
  },
  {
   "cell_type": "code",
   "execution_count": null,
   "metadata": {},
   "outputs": [],
   "source": []
  },
  {
   "cell_type": "code",
   "execution_count": null,
   "metadata": {},
   "outputs": [],
   "source": []
  },
  {
   "cell_type": "code",
   "execution_count": 152,
   "metadata": {},
   "outputs": [
    {
     "data": {
      "text/plain": [
       "'0.0017952835'"
      ]
     },
     "execution_count": 152,
     "metadata": {},
     "output_type": "execute_result"
    }
   ],
   "source": [
    "'{0:.10f}'.format(np.sqrt(mean_squared_error(Y_training, y_training_pred)))"
   ]
  },
  {
   "cell_type": "code",
   "execution_count": 154,
   "metadata": {},
   "outputs": [
    {
     "data": {
      "text/plain": [
       "'0.0043068222'"
      ]
     },
     "execution_count": 154,
     "metadata": {},
     "output_type": "execute_result"
    }
   ],
   "source": [
    "'{0:.10f}'.format(np.sqrt(mean_squared_error(Y_validation, y_validation_pred)))"
   ]
  },
  {
   "cell_type": "code",
   "execution_count": 157,
   "metadata": {},
   "outputs": [
    {
     "data": {
      "text/plain": [
       "'0.0054745997'"
      ]
     },
     "execution_count": 157,
     "metadata": {},
     "output_type": "execute_result"
    }
   ],
   "source": [
    "y_test_coin = np.random.randint(7, 20, size=127) * 0.001\n",
    "\n",
    "'{0:.10f}'.format(np.sqrt(mean_squared_error(Y_validation, y_test_coin)))"
   ]
  },
  {
   "cell_type": "code",
   "execution_count": null,
   "metadata": {},
   "outputs": [],
   "source": []
  },
  {
   "cell_type": "code",
   "execution_count": 135,
   "metadata": {},
   "outputs": [
    {
     "data": {
      "text/plain": [
       "-0.9594739337397147"
      ]
     },
     "execution_count": 135,
     "metadata": {},
     "output_type": "execute_result"
    }
   ],
   "source": [
    "y_test_coin = np.random.randint(7, 20, size=127) * 0.001\n",
    "\n",
    "r2_score(Y_validation, y_test_coin)"
   ]
  }
 ],
 "metadata": {
  "kernelspec": {
   "display_name": "Python 3",
   "language": "python",
   "name": "python3"
  },
  "language_info": {
   "codemirror_mode": {
    "name": "ipython",
    "version": 3
   },
   "file_extension": ".py",
   "mimetype": "text/x-python",
   "name": "python",
   "nbconvert_exporter": "python",
   "pygments_lexer": "ipython3",
   "version": "3.7.1"
  }
 },
 "nbformat": 4,
 "nbformat_minor": 2
}
