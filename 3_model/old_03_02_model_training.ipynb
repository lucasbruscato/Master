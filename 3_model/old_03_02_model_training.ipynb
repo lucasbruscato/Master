{
 "cells": [
  {
   "cell_type": "markdown",
   "metadata": {},
   "source": [
    "# Model Training"
   ]
  },
  {
   "cell_type": "code",
   "execution_count": 3,
   "metadata": {},
   "outputs": [],
   "source": [
    "import pandas as pd\n",
    "import matplotlib.pyplot as plt\n",
    "import numpy as np\n",
    "import re\n",
    "import datetime\n",
    "from numpy import inf\n",
    "import warnings\n",
    "warnings.simplefilter('ignore')\n",
    "\n",
    "from sklearn.model_selection import train_test_split\n",
    "from sklearn.metrics import mean_squared_error\n",
    "from sklearn.metrics import r2_score\n",
    "from sklearn import model_selection\n",
    "\n",
    "from sklearn.linear_model import LinearRegression\n",
    "from sklearn.ensemble import RandomForestRegressor\n",
    "from sklearn.ensemble import GradientBoostingRegressor"
   ]
  },
  {
   "cell_type": "code",
   "execution_count": 4,
   "metadata": {},
   "outputs": [],
   "source": [
    "training_dataset = pd.read_csv('../2_database/data_processing/02_03_training_dataset.csv',\n",
    "                               sep=';')\n",
    "\n",
    "validation_dataset = pd.read_csv('../2_database/data_processing/02_03_validation_dataset.csv',\n",
    "                                 sep=';')"
   ]
  },
  {
   "cell_type": "code",
   "execution_count": 5,
   "metadata": {},
   "outputs": [
    {
     "name": "stdout",
     "output_type": "stream",
     "text": [
      "Training and Validation size: (420, 53) / (140, 53)\n"
     ]
    }
   ],
   "source": [
    "print(\"Training and Validation size: \" + str(training_dataset.shape) + \" / \" + str(validation_dataset.shape))"
   ]
  },
  {
   "cell_type": "code",
   "execution_count": 6,
   "metadata": {},
   "outputs": [
    {
     "data": {
      "text/html": [
       "<div>\n",
       "<style scoped>\n",
       "    .dataframe tbody tr th:only-of-type {\n",
       "        vertical-align: middle;\n",
       "    }\n",
       "\n",
       "    .dataframe tbody tr th {\n",
       "        vertical-align: top;\n",
       "    }\n",
       "\n",
       "    .dataframe thead th {\n",
       "        text-align: right;\n",
       "    }\n",
       "</style>\n",
       "<table border=\"1\" class=\"dataframe\">\n",
       "  <thead>\n",
       "    <tr style=\"text-align: right;\">\n",
       "      <th></th>\n",
       "      <th>pct_pol_neg_rel</th>\n",
       "      <th>education_var_01_quantity_pct</th>\n",
       "      <th>family_var_01_suitable_pct</th>\n",
       "      <th>family_var_01_semi_suitable_pct</th>\n",
       "      <th>family_var_01_inappropriate_pct</th>\n",
       "      <th>fertility_var_01_has_children_pct</th>\n",
       "      <th>fertility_var_01_children_born_pct</th>\n",
       "      <th>fertility_var_01_children_borned_live_pct</th>\n",
       "      <th>fertility_var_01_children_borned_dead_pct</th>\n",
       "      <th>fertility_var_02_married_pct</th>\n",
       "      <th>...</th>\n",
       "      <th>state_pr</th>\n",
       "      <th>state_rj</th>\n",
       "      <th>state_rn</th>\n",
       "      <th>state_ro</th>\n",
       "      <th>state_rr</th>\n",
       "      <th>state_rs</th>\n",
       "      <th>state_sc</th>\n",
       "      <th>state_se</th>\n",
       "      <th>state_sp</th>\n",
       "      <th>state_to</th>\n",
       "    </tr>\n",
       "  </thead>\n",
       "  <tbody>\n",
       "    <tr>\n",
       "      <td>0</td>\n",
       "      <td>0.350775</td>\n",
       "      <td>1.117053</td>\n",
       "      <td>0.000000</td>\n",
       "      <td>0.993414</td>\n",
       "      <td>1.667300</td>\n",
       "      <td>0.946110</td>\n",
       "      <td>1.059396</td>\n",
       "      <td>1.034859</td>\n",
       "      <td>1.747131</td>\n",
       "      <td>1.032382</td>\n",
       "      <td>...</td>\n",
       "      <td>0</td>\n",
       "      <td>0</td>\n",
       "      <td>0</td>\n",
       "      <td>0</td>\n",
       "      <td>0</td>\n",
       "      <td>0</td>\n",
       "      <td>1</td>\n",
       "      <td>0</td>\n",
       "      <td>0</td>\n",
       "      <td>0</td>\n",
       "    </tr>\n",
       "    <tr>\n",
       "      <td>1</td>\n",
       "      <td>0.267845</td>\n",
       "      <td>1.114802</td>\n",
       "      <td>0.952957</td>\n",
       "      <td>1.169540</td>\n",
       "      <td>47.418210</td>\n",
       "      <td>1.001920</td>\n",
       "      <td>1.150179</td>\n",
       "      <td>1.138941</td>\n",
       "      <td>1.531662</td>\n",
       "      <td>1.138413</td>\n",
       "      <td>...</td>\n",
       "      <td>0</td>\n",
       "      <td>0</td>\n",
       "      <td>0</td>\n",
       "      <td>0</td>\n",
       "      <td>0</td>\n",
       "      <td>0</td>\n",
       "      <td>1</td>\n",
       "      <td>0</td>\n",
       "      <td>0</td>\n",
       "      <td>0</td>\n",
       "    </tr>\n",
       "    <tr>\n",
       "      <td>2</td>\n",
       "      <td>0.408816</td>\n",
       "      <td>1.035698</td>\n",
       "      <td>0.616752</td>\n",
       "      <td>1.170773</td>\n",
       "      <td>2.452725</td>\n",
       "      <td>0.969964</td>\n",
       "      <td>1.330319</td>\n",
       "      <td>1.317376</td>\n",
       "      <td>1.571041</td>\n",
       "      <td>1.042142</td>\n",
       "      <td>...</td>\n",
       "      <td>0</td>\n",
       "      <td>0</td>\n",
       "      <td>0</td>\n",
       "      <td>0</td>\n",
       "      <td>0</td>\n",
       "      <td>0</td>\n",
       "      <td>0</td>\n",
       "      <td>0</td>\n",
       "      <td>0</td>\n",
       "      <td>0</td>\n",
       "    </tr>\n",
       "    <tr>\n",
       "      <td>3</td>\n",
       "      <td>0.414336</td>\n",
       "      <td>0.970031</td>\n",
       "      <td>0.876919</td>\n",
       "      <td>1.228749</td>\n",
       "      <td>2.848914</td>\n",
       "      <td>0.962917</td>\n",
       "      <td>1.129891</td>\n",
       "      <td>1.123553</td>\n",
       "      <td>1.258481</td>\n",
       "      <td>1.075063</td>\n",
       "      <td>...</td>\n",
       "      <td>0</td>\n",
       "      <td>0</td>\n",
       "      <td>0</td>\n",
       "      <td>0</td>\n",
       "      <td>0</td>\n",
       "      <td>0</td>\n",
       "      <td>0</td>\n",
       "      <td>0</td>\n",
       "      <td>0</td>\n",
       "      <td>0</td>\n",
       "    </tr>\n",
       "    <tr>\n",
       "      <td>4</td>\n",
       "      <td>0.359050</td>\n",
       "      <td>1.009907</td>\n",
       "      <td>0.734807</td>\n",
       "      <td>1.617280</td>\n",
       "      <td>9.239346</td>\n",
       "      <td>0.955090</td>\n",
       "      <td>1.159441</td>\n",
       "      <td>1.180107</td>\n",
       "      <td>0.803960</td>\n",
       "      <td>1.046754</td>\n",
       "      <td>...</td>\n",
       "      <td>0</td>\n",
       "      <td>0</td>\n",
       "      <td>0</td>\n",
       "      <td>0</td>\n",
       "      <td>0</td>\n",
       "      <td>0</td>\n",
       "      <td>0</td>\n",
       "      <td>0</td>\n",
       "      <td>1</td>\n",
       "      <td>0</td>\n",
       "    </tr>\n",
       "  </tbody>\n",
       "</table>\n",
       "<p>5 rows × 53 columns</p>\n",
       "</div>"
      ],
      "text/plain": [
       "   pct_pol_neg_rel  education_var_01_quantity_pct  family_var_01_suitable_pct  \\\n",
       "0         0.350775                       1.117053                    0.000000   \n",
       "1         0.267845                       1.114802                    0.952957   \n",
       "2         0.408816                       1.035698                    0.616752   \n",
       "3         0.414336                       0.970031                    0.876919   \n",
       "4         0.359050                       1.009907                    0.734807   \n",
       "\n",
       "   family_var_01_semi_suitable_pct  family_var_01_inappropriate_pct  \\\n",
       "0                         0.993414                         1.667300   \n",
       "1                         1.169540                        47.418210   \n",
       "2                         1.170773                         2.452725   \n",
       "3                         1.228749                         2.848914   \n",
       "4                         1.617280                         9.239346   \n",
       "\n",
       "   fertility_var_01_has_children_pct  fertility_var_01_children_born_pct  \\\n",
       "0                           0.946110                            1.059396   \n",
       "1                           1.001920                            1.150179   \n",
       "2                           0.969964                            1.330319   \n",
       "3                           0.962917                            1.129891   \n",
       "4                           0.955090                            1.159441   \n",
       "\n",
       "   fertility_var_01_children_borned_live_pct  \\\n",
       "0                                   1.034859   \n",
       "1                                   1.138941   \n",
       "2                                   1.317376   \n",
       "3                                   1.123553   \n",
       "4                                   1.180107   \n",
       "\n",
       "   fertility_var_01_children_borned_dead_pct  fertility_var_02_married_pct  \\\n",
       "0                                   1.747131                      1.032382   \n",
       "1                                   1.531662                      1.138413   \n",
       "2                                   1.571041                      1.042142   \n",
       "3                                   1.258481                      1.075063   \n",
       "4                                   0.803960                      1.046754   \n",
       "\n",
       "   ...  state_pr  state_rj  state_rn  state_ro  state_rr  state_rs  state_sc  \\\n",
       "0  ...         0         0         0         0         0         0         1   \n",
       "1  ...         0         0         0         0         0         0         1   \n",
       "2  ...         0         0         0         0         0         0         0   \n",
       "3  ...         0         0         0         0         0         0         0   \n",
       "4  ...         0         0         0         0         0         0         0   \n",
       "\n",
       "   state_se  state_sp  state_to  \n",
       "0         0         0         0  \n",
       "1         0         0         0  \n",
       "2         0         0         0  \n",
       "3         0         0         0  \n",
       "4         0         1         0  \n",
       "\n",
       "[5 rows x 53 columns]"
      ]
     },
     "execution_count": 6,
     "metadata": {},
     "output_type": "execute_result"
    }
   ],
   "source": [
    "training_dataset.head()"
   ]
  },
  {
   "cell_type": "code",
   "execution_count": 8,
   "metadata": {},
   "outputs": [
    {
     "name": "stdout",
     "output_type": "stream",
     "text": [
      "pct_pol_neg_rel\n",
      "education_var_01_quantity_pct\n",
      "family_var_01_suitable_pct\n",
      "family_var_01_semi_suitable_pct\n",
      "family_var_01_inappropriate_pct\n",
      "fertility_var_01_has_children_pct\n",
      "fertility_var_01_children_born_pct\n",
      "fertility_var_01_children_borned_live_pct\n",
      "fertility_var_01_children_borned_dead_pct\n",
      "fertility_var_02_married_pct\n",
      "fertility_var_02_separated_pct\n",
      "fertility_var_02_divorced_pct\n",
      "fertility_var_02_widow_pct\n",
      "fertility_var_02_single_pct\n",
      "fertility_var_03_total_pct\n",
      "work_var_01_regular_pct\n",
      "work_var_01_irregular_pct\n",
      "social_indicator_var_01_15_to_24_years_pct\n",
      "social_indicator_var_01_25_to_59_years_pct\n",
      "social_indicator_var_01_60_to_more_years_pct\n",
      "social_indicator_var_02_suitable_pct\n",
      "social_indicator_var_02_semi_suitable_pct\n",
      "social_indicator_var_02_inappropriate_pct\n",
      "social_indicator_var_03_responsable_illiterate_pct\n",
      "social_indicator_var_03_inappropriate_residence_pct\n",
      "social_indicator_var_03_responsable_illiterate_and_inappropriate_residence_pct\n",
      "enem_var_01_enem_score_mean_pct\n",
      "enem_var_01_enem_score_std_pct\n",
      "enem_var_01_enem_score_median_pct\n",
      "state_ac\n",
      "state_al\n",
      "state_ba\n",
      "state_ce\n",
      "state_es\n",
      "state_go\n",
      "state_ma\n",
      "state_mg\n",
      "state_ms\n",
      "state_mt\n",
      "state_pa\n",
      "state_pb\n",
      "state_pe\n",
      "state_pi\n",
      "state_pr\n",
      "state_rj\n",
      "state_rn\n",
      "state_ro\n",
      "state_rr\n",
      "state_rs\n",
      "state_sc\n",
      "state_se\n",
      "state_sp\n",
      "state_to\n"
     ]
    }
   ],
   "source": [
    "for col in training_dataset.columns:\n",
    "    print(col)"
   ]
  },
  {
   "cell_type": "markdown",
   "metadata": {},
   "source": [
    "### Testing different algorithms"
   ]
  },
  {
   "cell_type": "code",
   "execution_count": 16,
   "metadata": {},
   "outputs": [],
   "source": [
    "####### parameters for models' tests ######\n",
    "scoring='neg_mean_squared_error'\n",
    "n_splits=2\n",
    "###########################################\n",
    "\n",
    "models = []\n",
    "\n",
    "models.append(('Linear Regression', LinearRegression()))\n",
    "models.append(('Random Forest', RandomForestRegressor()))\n",
    "models.append(('Gradient Boosting', GradientBoostingRegressor()))"
   ]
  },
  {
   "cell_type": "code",
   "execution_count": 1,
   "metadata": {},
   "outputs": [
    {
     "ename": "NameError",
     "evalue": "name 'training_dataset' is not defined",
     "output_type": "error",
     "traceback": [
      "\u001b[0;31m---------------------------------------------------------------------------\u001b[0m",
      "\u001b[0;31mNameError\u001b[0m                                 Traceback (most recent call last)",
      "\u001b[0;32m<ipython-input-1-a6a0d959928f>\u001b[0m in \u001b[0;36m<module>\u001b[0;34m()\u001b[0m\n\u001b[0;32m----> 1\u001b[0;31m \u001b[0marray\u001b[0m \u001b[0;34m=\u001b[0m \u001b[0mtraining_dataset\u001b[0m\u001b[0;34m.\u001b[0m\u001b[0mvalues\u001b[0m\u001b[0;34m\u001b[0m\u001b[0m\n\u001b[0m\u001b[1;32m      2\u001b[0m \u001b[0;34m\u001b[0m\u001b[0m\n\u001b[1;32m      3\u001b[0m \u001b[0mX_training\u001b[0m \u001b[0;34m=\u001b[0m \u001b[0marray\u001b[0m\u001b[0;34m[\u001b[0m\u001b[0;34m:\u001b[0m\u001b[0;34m,\u001b[0m \u001b[0;36m1\u001b[0m\u001b[0;34m:\u001b[0m\u001b[0;34m]\u001b[0m\u001b[0;34m\u001b[0m\u001b[0m\n\u001b[1;32m      4\u001b[0m \u001b[0mY_training\u001b[0m \u001b[0;34m=\u001b[0m \u001b[0marray\u001b[0m\u001b[0;34m[\u001b[0m\u001b[0;34m:\u001b[0m\u001b[0;34m,\u001b[0m \u001b[0;36m0\u001b[0m\u001b[0;34m]\u001b[0m\u001b[0;34m\u001b[0m\u001b[0m\n",
      "\u001b[0;31mNameError\u001b[0m: name 'training_dataset' is not defined"
     ]
    }
   ],
   "source": [
    "array = training_dataset.values\n",
    "\n",
    "X_training = array[:, 1:]\n",
    "Y_training = array[:, 0]"
   ]
  },
  {
   "cell_type": "code",
   "execution_count": 18,
   "metadata": {},
   "outputs": [
    {
     "name": "stdout",
     "output_type": "stream",
     "text": [
      "Linear Regression 2019-07-30 18:51:57.533623\n",
      "Random Forest 2019-07-30 18:51:57.563986\n",
      "Gradient Boosting 2019-07-30 18:51:57.653584\n",
      "The End - 2019-07-30 18:51:57.823131\n"
     ]
    },
    {
     "data": {
      "image/png": "[encoded data removed]",
      "text/plain": [
       "<Figure size 432x288 with 1 Axes>"
      ]
     },
     "metadata": {},
     "output_type": "display_data"
    }
   ],
   "source": [
    "# prepare configuration for cross validation\n",
    "seed = 7\n",
    "\n",
    "# evaluate each model in turn\n",
    "results = []\n",
    "names = []\n",
    "\n",
    "for model_name, model in models:\n",
    "    print(model_name + ' ' + str(datetime.datetime.now()))\n",
    "    kfold = model_selection.KFold(n_splits=n_splits,\n",
    "                                  random_state=seed)\n",
    "    cv_results = model_selection.cross_val_score(model,\n",
    "                                                 X_training,\n",
    "                                                 Y_training,\n",
    "                                                 cv=kfold,\n",
    "                                                 scoring=scoring)\n",
    "    results.append(cv_results)\n",
    "    names.append(model_name)\n",
    "\n",
    "print('The End - ' + str(datetime.datetime.now()))\n",
    "\n",
    "# boxplot models comparison\n",
    "fig = plt.figure()\n",
    "fig.suptitle('Models comparison')\n",
    "ax = fig.add_subplot(111)\n",
    "plt.boxplot(results)\n",
    "ax.set_xticklabels(names)\n",
    "plt.xticks(rotation=90)\n",
    "plt.show()"
   ]
  },
  {
   "cell_type": "markdown",
   "metadata": {},
   "source": [
    "### Function for regression evaluation"
   ]
  },
  {
   "cell_type": "code",
   "execution_count": 19,
   "metadata": {},
   "outputs": [],
   "source": [
    "def regression_evaluation(Y_training, y_training_pred, Y_validation, y_validation_pred):\n",
    "    coin_simulation = np.random.randint(int(np.quantile(Y_training, 0)*10), int(np.quantile(Y_training, 1)*10), size=len(Y_validation)) * 0.1\n",
    "\n",
    "    print(\"Observed validation (min, med, max): \" + str(np.round(np.min(Y_validation), 5)) + \" , \" + str(np.round(np.median(Y_validation), 5)) + \" , \" + str(np.round(np.max(Y_validation), 5)) + \"\\n\" + \n",
    "          \"Predicted validation (min, med, max): \" + str(np.round(np.min(y_validation_pred), 5)) + \" , \" + str(np.round(np.median(y_validation_pred), 5)) + \" , \" + str(np.round(np.max(y_validation_pred), 5)))\n",
    "\n",
    "    print(\"\\n\")\n",
    "\n",
    "    print(\"RMSE training: \" + str(np.round(np.sqrt(mean_squared_error(Y_training, y_training_pred)), 5)) + \"\\n\" +\n",
    "          \"RMSE validation: \" + str(np.round(np.sqrt(mean_squared_error(Y_validation, y_validation_pred)), 5)) + \"\\n\" + \n",
    "          \"RMSE validation vs coin: \" + str(np.round(np.sqrt(mean_squared_error(Y_validation, coin_simulation)), 5)))\n",
    "\n",
    "    plt.ylabel(\"predicted\")\n",
    "    plt.xlabel(\"observed\")\n",
    "    plt.scatter(Y_training, y_training_pred)\n",
    "    plt.scatter(Y_validation, y_validation_pred)"
   ]
  },
  {
   "cell_type": "markdown",
   "metadata": {},
   "source": [
    "### 1 - Testing Linear Regression"
   ]
  },
  {
   "cell_type": "code",
   "execution_count": 24,
   "metadata": {},
   "outputs": [],
   "source": [
    "array = training_dataset.values\n",
    "\n",
    "#X_training = training_dataset[['social_indicator_var_03_responsable_illiterate_pct',\n",
    "#                               'fertility_var_02_separated_pct']]\n",
    "\n",
    "X_training = array[:, 1:]\n",
    "Y_training = array[:, 0]"
   ]
  },
  {
   "cell_type": "code",
   "execution_count": 25,
   "metadata": {},
   "outputs": [],
   "source": [
    "array = validation_dataset.values\n",
    "\n",
    "#X_validation = validation_dataset[['social_indicator_var_03_responsable_illiterate_pct',\n",
    "#                                   'fertility_var_02_separated_pct']]\n",
    "X_validation = array[:, 1:]\n",
    "Y_validation = array[:, 0]"
   ]
  },
  {
   "cell_type": "code",
   "execution_count": 26,
   "metadata": {},
   "outputs": [],
   "source": [
    "model = LinearRegression()\n",
    "model.fit(X_training, Y_training)\n",
    "\n",
    "y_training_pred = model.predict(X_training)\n",
    "y_validation_pred = model.predict(X_validation)"
   ]
  },
  {
   "cell_type": "code",
   "execution_count": 27,
   "metadata": {},
   "outputs": [
    {
     "name": "stdout",
     "output_type": "stream",
     "text": [
      "Observed validation (min, med, max): 0.22774 , 0.38155 , 0.5437\n",
      "Predicted validation (min, med, max): 0.19202 , 0.37451 , 0.45084\n",
      "\n",
      "\n",
      "RMSE training: 0.04844\n",
      "RMSE validation: 0.06279\n",
      "RMSE validation vs coin: 0.17712\n"
     ]
    },
    {
     "data": {
      "image/png": "[encoded data removed]",
      "text/plain": [
       "<Figure size 432x288 with 1 Axes>"
      ]
     },
     "metadata": {},
     "output_type": "display_data"
    }
   ],
   "source": [
    "regression_evaluation(Y_training, y_training_pred, Y_validation, y_validation_pred)"
   ]
  },
  {
   "cell_type": "markdown",
   "metadata": {},
   "source": [
    "### 3 - Testing Gradient Boosting"
   ]
  },
  {
   "cell_type": "code",
   "execution_count": 20,
   "metadata": {},
   "outputs": [],
   "source": [
    "array = training_dataset.values\n",
    "\n",
    "X_training = array[:, 1:]\n",
    "Y_training = array[:, 0]"
   ]
  },
  {
   "cell_type": "code",
   "execution_count": 21,
   "metadata": {},
   "outputs": [],
   "source": [
    "array = validation_dataset.values\n",
    "\n",
    "X_validation = array[:, 1:]\n",
    "Y_validation = array[:, 0]"
   ]
  },
  {
   "cell_type": "code",
   "execution_count": 22,
   "metadata": {},
   "outputs": [],
   "source": [
    "model = GradientBoostingRegressor(n_estimators=1000,\n",
    "                                  learning_rate=0.01,\n",
    "                                  min_samples_leaf=0.01,\n",
    "                                  max_depth=2,\n",
    "                                  random_state=7)\n",
    "model.fit(X_training, Y_training)\n",
    "\n",
    "y_training_pred = model.predict(X_training)\n",
    "y_validation_pred = model.predict(X_validation)"
   ]
  },
  {
   "cell_type": "code",
   "execution_count": 23,
   "metadata": {
    "scrolled": true
   },
   "outputs": [
    {
     "name": "stdout",
     "output_type": "stream",
     "text": [
      "Observed validation (min, med, max): 0.22774 , 0.38155 , 0.5437\n",
      "Predicted validation (min, med, max): 0.27011 , 0.37607 , 0.43125\n",
      "\n",
      "\n",
      "RMSE training: 0.03829\n",
      "RMSE validation: 0.0552\n",
      "RMSE validation vs coin: 0.177\n"
     ]
    },
    {
     "data": {
      "image/png": "[encoded data removed]",
      "text/plain": [
       "<Figure size 432x288 with 1 Axes>"
      ]
     },
     "metadata": {},
     "output_type": "display_data"
    }
   ],
   "source": [
    "regression_evaluation(Y_training, y_training_pred, Y_validation, y_validation_pred)"
   ]
  }
 ],
 "metadata": {
  "kernelspec": {
   "display_name": "Python 3",
   "language": "python",
   "name": "python3"
  },
  "language_info": {
   "codemirror_mode": {
    "name": "ipython",
    "version": 3
   },
   "file_extension": ".py",
   "mimetype": "text/x-python",
   "name": "python",
   "nbconvert_exporter": "python",
   "pygments_lexer": "ipython3",
   "version": "3.7.4"
  }
 },
 "nbformat": 4,
 "nbformat_minor": 2
}
