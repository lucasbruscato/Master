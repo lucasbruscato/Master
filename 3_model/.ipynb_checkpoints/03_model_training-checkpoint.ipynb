{
 "cells": [
  {
   "cell_type": "markdown",
   "metadata": {},
   "source": [
    "# Model Training"
   ]
  },
  {
   "cell_type": "code",
   "execution_count": 1,
   "metadata": {},
   "outputs": [],
   "source": [
    "import pandas as pd\n",
    "import matplotlib.pyplot as plt\n",
    "import numpy as np\n",
    "import re\n",
    "import datetime\n",
    "from numpy import inf\n",
    "import warnings\n",
    "warnings.simplefilter('ignore')\n",
    "\n",
    "from sklearn.model_selection import train_test_split\n",
    "from sklearn.metrics import mean_squared_error\n",
    "from sklearn.metrics import r2_score\n",
    "from sklearn import model_selection\n",
    "\n",
    "from sklearn.linear_model import LinearRegression\n",
    "from sklearn.ensemble import RandomForestRegressor\n",
    "from sklearn.svm import SVR\n",
    "from sklearn.ensemble import GradientBoostingRegressor"
   ]
  },
  {
   "cell_type": "code",
   "execution_count": 2,
   "metadata": {},
   "outputs": [],
   "source": [
    "training_dataset = pd.read_csv('../2_database/data_processing/02_data_processing_03_training_dataset.csv',\n",
    "                               sep=';')\n",
    "\n",
    "validation_dataset = pd.read_csv('../2_database/data_processing/02_data_processing_04_validation_dataset.csv',\n",
    "                                 sep=';')"
   ]
  },
  {
   "cell_type": "code",
   "execution_count": 21,
   "metadata": {},
   "outputs": [
    {
     "name": "stdout",
     "output_type": "stream",
     "text": [
      "Training and Validation size: (422, 52) / (141, 52)\n"
     ]
    }
   ],
   "source": [
    "print(\"Training and Validation size: \" + str(training_dataset.shape) + \" / \" + str(validation_dataset.shape))"
   ]
  },
  {
   "cell_type": "code",
   "execution_count": 3,
   "metadata": {},
   "outputs": [
    {
     "data": {
      "text/html": [
       "<div>\n",
       "<style scoped>\n",
       "    .dataframe tbody tr th:only-of-type {\n",
       "        vertical-align: middle;\n",
       "    }\n",
       "\n",
       "    .dataframe tbody tr th {\n",
       "        vertical-align: top;\n",
       "    }\n",
       "\n",
       "    .dataframe thead th {\n",
       "        text-align: right;\n",
       "    }\n",
       "</style>\n",
       "<table border=\"1\" class=\"dataframe\">\n",
       "  <thead>\n",
       "    <tr style=\"text-align: right;\">\n",
       "      <th></th>\n",
       "      <th>pct_pol_neg</th>\n",
       "      <th>pct_pol_pos</th>\n",
       "      <th>pct_pol_neu</th>\n",
       "      <th>education_var_01_qt_pct</th>\n",
       "      <th>family_var_01_adequada_pct</th>\n",
       "      <th>family_var_01_semi_adequada_pct</th>\n",
       "      <th>family_var_01_inadequada_pct</th>\n",
       "      <th>fertility_var_01_has_children_pct</th>\n",
       "      <th>fertility_var_01_children_born_pct</th>\n",
       "      <th>fertility_var_01_children_borned_live_pct</th>\n",
       "      <th>...</th>\n",
       "      <th>state_pr</th>\n",
       "      <th>state_rj</th>\n",
       "      <th>state_rn</th>\n",
       "      <th>state_ro</th>\n",
       "      <th>state_rr</th>\n",
       "      <th>state_rs</th>\n",
       "      <th>state_sc</th>\n",
       "      <th>state_se</th>\n",
       "      <th>state_sp</th>\n",
       "      <th>state_to</th>\n",
       "    </tr>\n",
       "  </thead>\n",
       "  <tbody>\n",
       "    <tr>\n",
       "      <th>0</th>\n",
       "      <td>0.017929</td>\n",
       "      <td>0.026417</td>\n",
       "      <td>0.958357</td>\n",
       "      <td>1.021423</td>\n",
       "      <td>0.054541</td>\n",
       "      <td>1.033242</td>\n",
       "      <td>9.985730</td>\n",
       "      <td>0.989622</td>\n",
       "      <td>1.090811</td>\n",
       "      <td>1.082467</td>\n",
       "      <td>...</td>\n",
       "      <td>0</td>\n",
       "      <td>0</td>\n",
       "      <td>0</td>\n",
       "      <td>0</td>\n",
       "      <td>0</td>\n",
       "      <td>1</td>\n",
       "      <td>0</td>\n",
       "      <td>0</td>\n",
       "      <td>0</td>\n",
       "      <td>0</td>\n",
       "    </tr>\n",
       "    <tr>\n",
       "      <th>1</th>\n",
       "      <td>0.013723</td>\n",
       "      <td>0.025105</td>\n",
       "      <td>0.964276</td>\n",
       "      <td>1.058820</td>\n",
       "      <td>1.178352</td>\n",
       "      <td>0.638225</td>\n",
       "      <td>24.733100</td>\n",
       "      <td>1.010927</td>\n",
       "      <td>1.133640</td>\n",
       "      <td>1.122890</td>\n",
       "      <td>...</td>\n",
       "      <td>0</td>\n",
       "      <td>0</td>\n",
       "      <td>0</td>\n",
       "      <td>0</td>\n",
       "      <td>0</td>\n",
       "      <td>0</td>\n",
       "      <td>1</td>\n",
       "      <td>0</td>\n",
       "      <td>0</td>\n",
       "      <td>0</td>\n",
       "    </tr>\n",
       "    <tr>\n",
       "      <th>2</th>\n",
       "      <td>0.012676</td>\n",
       "      <td>0.025575</td>\n",
       "      <td>0.963083</td>\n",
       "      <td>0.991957</td>\n",
       "      <td>0.641255</td>\n",
       "      <td>1.170128</td>\n",
       "      <td>9.192867</td>\n",
       "      <td>0.999439</td>\n",
       "      <td>1.147375</td>\n",
       "      <td>1.140280</td>\n",
       "      <td>...</td>\n",
       "      <td>0</td>\n",
       "      <td>0</td>\n",
       "      <td>0</td>\n",
       "      <td>0</td>\n",
       "      <td>0</td>\n",
       "      <td>1</td>\n",
       "      <td>0</td>\n",
       "      <td>0</td>\n",
       "      <td>0</td>\n",
       "      <td>0</td>\n",
       "    </tr>\n",
       "    <tr>\n",
       "      <th>3</th>\n",
       "      <td>0.021631</td>\n",
       "      <td>0.030575</td>\n",
       "      <td>0.949254</td>\n",
       "      <td>0.970031</td>\n",
       "      <td>0.876919</td>\n",
       "      <td>1.228749</td>\n",
       "      <td>2.848914</td>\n",
       "      <td>0.962917</td>\n",
       "      <td>1.129891</td>\n",
       "      <td>1.123553</td>\n",
       "      <td>...</td>\n",
       "      <td>0</td>\n",
       "      <td>0</td>\n",
       "      <td>0</td>\n",
       "      <td>0</td>\n",
       "      <td>0</td>\n",
       "      <td>0</td>\n",
       "      <td>0</td>\n",
       "      <td>0</td>\n",
       "      <td>0</td>\n",
       "      <td>0</td>\n",
       "    </tr>\n",
       "    <tr>\n",
       "      <th>4</th>\n",
       "      <td>0.014607</td>\n",
       "      <td>0.031221</td>\n",
       "      <td>0.955085</td>\n",
       "      <td>0.974727</td>\n",
       "      <td>2.738600</td>\n",
       "      <td>0.943244</td>\n",
       "      <td>2.845043</td>\n",
       "      <td>0.977073</td>\n",
       "      <td>1.233269</td>\n",
       "      <td>1.185966</td>\n",
       "      <td>...</td>\n",
       "      <td>1</td>\n",
       "      <td>0</td>\n",
       "      <td>0</td>\n",
       "      <td>0</td>\n",
       "      <td>0</td>\n",
       "      <td>0</td>\n",
       "      <td>0</td>\n",
       "      <td>0</td>\n",
       "      <td>0</td>\n",
       "      <td>0</td>\n",
       "    </tr>\n",
       "  </tbody>\n",
       "</table>\n",
       "<p>5 rows × 52 columns</p>\n",
       "</div>"
      ],
      "text/plain": [
       "   pct_pol_neg  pct_pol_pos  pct_pol_neu  education_var_01_qt_pct  \\\n",
       "0     0.017929     0.026417     0.958357                 1.021423   \n",
       "1     0.013723     0.025105     0.964276                 1.058820   \n",
       "2     0.012676     0.025575     0.963083                 0.991957   \n",
       "3     0.021631     0.030575     0.949254                 0.970031   \n",
       "4     0.014607     0.031221     0.955085                 0.974727   \n",
       "\n",
       "   family_var_01_adequada_pct  family_var_01_semi_adequada_pct  \\\n",
       "0                    0.054541                         1.033242   \n",
       "1                    1.178352                         0.638225   \n",
       "2                    0.641255                         1.170128   \n",
       "3                    0.876919                         1.228749   \n",
       "4                    2.738600                         0.943244   \n",
       "\n",
       "   family_var_01_inadequada_pct  fertility_var_01_has_children_pct  \\\n",
       "0                      9.985730                           0.989622   \n",
       "1                     24.733100                           1.010927   \n",
       "2                      9.192867                           0.999439   \n",
       "3                      2.848914                           0.962917   \n",
       "4                      2.845043                           0.977073   \n",
       "\n",
       "   fertility_var_01_children_born_pct  \\\n",
       "0                            1.090811   \n",
       "1                            1.133640   \n",
       "2                            1.147375   \n",
       "3                            1.129891   \n",
       "4                            1.233269   \n",
       "\n",
       "   fertility_var_01_children_borned_live_pct    ...     state_pr  state_rj  \\\n",
       "0                                   1.082467    ...            0         0   \n",
       "1                                   1.122890    ...            0         0   \n",
       "2                                   1.140280    ...            0         0   \n",
       "3                                   1.123553    ...            0         0   \n",
       "4                                   1.185966    ...            1         0   \n",
       "\n",
       "   state_rn  state_ro  state_rr  state_rs  state_sc  state_se  state_sp  \\\n",
       "0         0         0         0         1         0         0         0   \n",
       "1         0         0         0         0         1         0         0   \n",
       "2         0         0         0         1         0         0         0   \n",
       "3         0         0         0         0         0         0         0   \n",
       "4         0         0         0         0         0         0         0   \n",
       "\n",
       "   state_to  \n",
       "0         0  \n",
       "1         0  \n",
       "2         0  \n",
       "3         0  \n",
       "4         0  \n",
       "\n",
       "[5 rows x 52 columns]"
      ]
     },
     "execution_count": 3,
     "metadata": {},
     "output_type": "execute_result"
    }
   ],
   "source": [
    "training_dataset.head()"
   ]
  },
  {
   "cell_type": "markdown",
   "metadata": {},
   "source": [
    "### Testing different algorithms"
   ]
  },
  {
   "cell_type": "code",
   "execution_count": 4,
   "metadata": {},
   "outputs": [],
   "source": [
    "####### parameters for models' tests ######\n",
    "scoring='neg_mean_squared_error'\n",
    "n_splits=2\n",
    "###########################################\n",
    "\n",
    "models = []\n",
    "\n",
    "models.append(('Linear Regression', LinearRegression()))\n",
    "models.append(('Random Forest', RandomForestRegressor()))\n",
    "models.append(('Support Vector Machine', SVR()))\n",
    "models.append(('Gradient Boosting', GradientBoostingRegressor()))"
   ]
  },
  {
   "cell_type": "code",
   "execution_count": 5,
   "metadata": {},
   "outputs": [],
   "source": [
    "array = training_dataset.iloc[:, np.r_[0, 3:52]].values\n",
    "\n",
    "X_training = array[:, 1:]\n",
    "Y_training = array[:, 0]"
   ]
  },
  {
   "cell_type": "code",
   "execution_count": 6,
   "metadata": {},
   "outputs": [
    {
     "name": "stdout",
     "output_type": "stream",
     "text": [
      "Linear Regression 2019-06-10 20:58:20.572002\n",
      "Random Forest 2019-06-10 20:58:20.709951\n",
      "Support Vector Machine 2019-06-10 20:58:20.776383\n",
      "Gradient Boosting 2019-06-10 20:58:20.784785\n",
      "The End - 2019-06-10 20:58:20.936963\n"
     ]
    },
    {
     "data": {
      "image/png": "[encoded data removed]",
      "text/plain": [
       "<Figure size 432x288 with 1 Axes>"
      ]
     },
     "metadata": {
      "needs_background": "light"
     },
     "output_type": "display_data"
    }
   ],
   "source": [
    "# prepare configuration for cross validation\n",
    "seed = 7\n",
    "\n",
    "# evaluate each model in turn\n",
    "results = []\n",
    "names = []\n",
    "\n",
    "for model_name, model in models:\n",
    "    print(model_name + ' ' + str(datetime.datetime.now()))\n",
    "    kfold = model_selection.KFold(n_splits=n_splits,\n",
    "                                  random_state=seed)\n",
    "    cv_results = model_selection.cross_val_score(model,\n",
    "                                                 X_training,\n",
    "                                                 Y_training,\n",
    "                                                 cv=kfold,\n",
    "                                                 scoring=scoring)\n",
    "    results.append(cv_results)\n",
    "    names.append(model_name)\n",
    "\n",
    "print('The End - ' + str(datetime.datetime.now()))\n",
    "\n",
    "# boxplot models comparison\n",
    "fig = plt.figure()\n",
    "fig.suptitle('Models comparison')\n",
    "ax = fig.add_subplot(111)\n",
    "plt.boxplot(results)\n",
    "ax.set_xticklabels(names)\n",
    "plt.show()"
   ]
  },
  {
   "cell_type": "markdown",
   "metadata": {},
   "source": [
    "### Function for regression evaluation"
   ]
  },
  {
   "cell_type": "code",
   "execution_count": 7,
   "metadata": {},
   "outputs": [],
   "source": [
    "def regression_evaluation(Y_training, y_training_pred, Y_validation, y_validation_pred):\n",
    "    coin_simulation = np.random.randint(7, 20, size=len(Y_validation)) * 0.001\n",
    "    \n",
    "    print(\"Observed validation (min, med, max): \" + str(np.round(np.min(Y_validation), 5)) + \" , \" + str(np.round(np.median(Y_validation), 5)) + \" , \" + str(np.round(np.max(Y_validation), 5)) + \"\\n\" + \n",
    "          \"Predicted validation (min, med, max): \" + str(np.round(np.min(y_validation_pred), 5)) + \" , \" + str(np.round(np.median(y_validation_pred), 5)) + \" , \" + str(np.round(np.max(y_validation_pred), 5)))\n",
    "    \n",
    "    print(\"\\n\")\n",
    "    \n",
    "    print(\"R2 training: \" + str(np.round(r2_score(Y_training, y_training_pred), 5)) + \"\\n\" + \n",
    "          \"R2 validation: \" + str(np.round(r2_score(Y_validation, y_validation_pred), 5)) + \"\\n\" +\n",
    "          \"R2 validation vs coin: \" + str(np.round(r2_score(Y_validation, coin_simulation), 5)))\n",
    "    \n",
    "    print(\"\\n\")\n",
    "    \n",
    "    print(\"RMSE training: \" + str(np.round(np.sqrt(mean_squared_error(Y_training, y_training_pred)), 5)) + \"\\n\" +\n",
    "          \"RMSE validation: \" + str(np.round(np.sqrt(mean_squared_error(Y_validation, y_validation_pred)), 5)) + \"\\n\" + \n",
    "          \"RMSE validation vs coin: \" + str(np.round(np.sqrt(mean_squared_error(Y_validation, coin_simulation)), 5)))\n",
    "    \n",
    "    plt.scatter(Y_training, y_training_pred)\n",
    "    plt.scatter(Y_validation, y_validation_pred)"
   ]
  },
  {
   "cell_type": "markdown",
   "metadata": {},
   "source": [
    "### 1) Testing GradientBoostingRegressor"
   ]
  },
  {
   "cell_type": "code",
   "execution_count": 8,
   "metadata": {},
   "outputs": [],
   "source": [
    "array = training_dataset.iloc[:, np.r_[0, 3:52]].values\n",
    "\n",
    "X_training = array[:, 1:]\n",
    "Y_training = array[:, 0]"
   ]
  },
  {
   "cell_type": "code",
   "execution_count": 9,
   "metadata": {},
   "outputs": [],
   "source": [
    "array = validation_dataset.iloc[:, np.r_[0, 3:52]].values\n",
    "\n",
    "X_validation = array[:, 1:]\n",
    "Y_validation = array[:, 0]"
   ]
  },
  {
   "cell_type": "code",
   "execution_count": 10,
   "metadata": {},
   "outputs": [],
   "source": [
    "model = GradientBoostingRegressor(n_estimators=1000,\n",
    "                                  learning_rate=0.01,\n",
    "                                  min_samples_leaf=0.01,\n",
    "                                  max_depth=2,\n",
    "                                  random_state=7)\n",
    "model.fit(X_training, Y_training)\n",
    "\n",
    "y_training_pred = model.predict(X_training)\n",
    "y_validation_pred = model.predict(X_validation)"
   ]
  },
  {
   "cell_type": "code",
   "execution_count": 11,
   "metadata": {},
   "outputs": [
    {
     "name": "stdout",
     "output_type": "stream",
     "text": [
      "Observed validation (min, med, max): 0.00359 , 0.01684 , 0.02995\n",
      "Predicted validation (min, med, max): 0.01275 , 0.01712 , 0.02206\n",
      "\n",
      "\n",
      "R2 training: 0.50258\n",
      "R2 validation: -0.01781\n",
      "R2 validation vs coin: -1.97818\n",
      "\n",
      "\n",
      "RMSE training: 0.00265\n",
      "RMSE validation: 0.00382\n",
      "RMSE validation vs coin: 0.00654\n"
     ]
    },
    {
     "data": {
      "image/png": "[encoded data removed]",
      "text/plain": [
       "<Figure size 432x288 with 1 Axes>"
      ]
     },
     "metadata": {
      "needs_background": "light"
     },
     "output_type": "display_data"
    }
   ],
   "source": [
    "regression_evaluation(Y_training, y_training_pred, Y_validation, y_validation_pred)"
   ]
  },
  {
   "cell_type": "code",
   "execution_count": 12,
   "metadata": {},
   "outputs": [],
   "source": [
    "#pd.DataFrame(model.feature_importances_, training_dataset.iloc[:, 3:52].columns).sort_values(0, ascending=False)"
   ]
  },
  {
   "cell_type": "markdown",
   "metadata": {},
   "source": [
    "### 2) Testing LinearRegressor"
   ]
  },
  {
   "cell_type": "code",
   "execution_count": 13,
   "metadata": {},
   "outputs": [],
   "source": [
    "array = training_dataset.iloc[:, np.r_[0, 3:52]].values\n",
    "\n",
    "X_training = training_dataset[['social_indicator_var_03_responsable_illiterate_pct',\n",
    "                               'fertility_var_02_separated_pct']]\n",
    "Y_training = array[:, 0]"
   ]
  },
  {
   "cell_type": "code",
   "execution_count": 14,
   "metadata": {},
   "outputs": [],
   "source": [
    "array = validation_dataset.iloc[:, np.r_[0, 3:52]].values\n",
    "\n",
    "X_validation = validation_dataset[['social_indicator_var_03_responsable_illiterate_pct',\n",
    "                                   'fertility_var_02_separated_pct']]\n",
    "Y_validation = array[:, 0]"
   ]
  },
  {
   "cell_type": "code",
   "execution_count": 15,
   "metadata": {},
   "outputs": [],
   "source": [
    "model = LinearRegression()\n",
    "model.fit(X_training, Y_training)\n",
    "\n",
    "y_training_pred = model.predict(X_training)\n",
    "y_validation_pred = model.predict(X_validation)"
   ]
  },
  {
   "cell_type": "code",
   "execution_count": 16,
   "metadata": {},
   "outputs": [
    {
     "name": "stdout",
     "output_type": "stream",
     "text": [
      "Observed validation (min, med, max): 0.00359 , 0.01684 , 0.02995\n",
      "Predicted validation (min, med, max): 0.01339 , 0.01718 , 0.01771\n",
      "\n",
      "\n",
      "R2 training: 0.00708\n",
      "R2 validation: -0.03278\n",
      "R2 validation vs coin: -1.62005\n",
      "\n",
      "\n",
      "RMSE training: 0.00375\n",
      "RMSE validation: 0.00385\n",
      "RMSE validation vs coin: 0.00613\n"
     ]
    },
    {
     "data": {
      "image/png": "[encoded data removed]",
      "text/plain": [
       "<Figure size 432x288 with 1 Axes>"
      ]
     },
     "metadata": {
      "needs_background": "light"
     },
     "output_type": "display_data"
    }
   ],
   "source": [
    "regression_evaluation(Y_training, y_training_pred, Y_validation, y_validation_pred)"
   ]
  },
  {
   "cell_type": "code",
   "execution_count": null,
   "metadata": {},
   "outputs": [],
   "source": []
  },
  {
   "cell_type": "code",
   "execution_count": null,
   "metadata": {},
   "outputs": [],
   "source": [
    "\n"
   ]
  },
  {
   "cell_type": "markdown",
   "metadata": {},
   "source": [
    "Sugestoes Minhas:\n",
    "\n",
    "* Ibge (saude e educação)\n",
    "* Censo escolar (por escola) (educação)\n",
    "* Prova brasil (educação)\n",
    "* Data SUS (saude), informações de hospitalizações por hospital\n",
    "\n",
    "Sugestoes Rachel:\n",
    "\n",
    "* Base de dados para explicativas Ipeadata (bastante coisa por municipio ate 2010 e mais ainda por estado ate atualidade (sic))\n",
    "* analisar distribuicao das polaridades base sentilex\n",
    "* talvez dividir var explicativa por quantidade por faixa etaria ao inves de total populacao (pode ter alteracao da distribuicao)\n",
    "* na variavel resposta usar percentual de polaridade apenas entre positivo e negativo\n",
    "* estudar dados em painel (rachel acredita em possível aplicação)\n",
    "\n",
    "Sugestoes Wesllen:\n",
    "\n",
    "olhar como fazem sentimento de analise na literatura\n",
    "* https://scholar.google.com.br/scholar?q=survey+sentiment+analysis&hl=pt-BR&as_sdt=0&as_vis=1&oi=scholart#d=gs_qabs&u=%23p%3DCEE7xsbkW6cJ\n",
    "* https://arxiv.org/abs/1801.07883\n"
   ]
  }
 ],
 "metadata": {
  "kernelspec": {
   "display_name": "Python 3",
   "language": "python",
   "name": "python3"
  },
  "language_info": {
   "codemirror_mode": {
    "name": "ipython",
    "version": 3
   },
   "file_extension": ".py",
   "mimetype": "text/x-python",
   "name": "python",
   "nbconvert_exporter": "python",
   "pygments_lexer": "ipython3",
   "version": "3.7.1"
  }
 },
 "nbformat": 4,
 "nbformat_minor": 2
}
