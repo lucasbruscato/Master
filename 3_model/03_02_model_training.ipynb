{
 "cells": [
  {
   "cell_type": "markdown",
   "metadata": {},
   "source": [
    "# Model Training"
   ]
  },
  {
   "cell_type": "code",
   "execution_count": 180,
   "metadata": {},
   "outputs": [],
   "source": [
    "import pandas as pd\n",
    "import matplotlib.pyplot as plt\n",
    "import numpy as np\n",
    "import re\n",
    "import datetime\n",
    "from numpy import inf\n",
    "from scipy.stats import randint as sp_randint\n",
    "import warnings\n",
    "warnings.simplefilter('ignore')\n",
    "\n",
    "from sklearn.model_selection import train_test_split\n",
    "from sklearn.metrics import mean_squared_error\n",
    "from sklearn.metrics import r2_score\n",
    "from sklearn import model_selection\n",
    "from sklearn.model_selection import RandomizedSearchCV\n",
    "\n",
    "from sklearn.linear_model import LinearRegression\n",
    "from sklearn.ensemble import RandomForestRegressor\n",
    "import xgboost"
   ]
  },
  {
   "cell_type": "code",
   "execution_count": 181,
   "metadata": {},
   "outputs": [],
   "source": [
    "training_dataset = pd.read_csv('../2_database/data_processing/02_03_training_dataset.csv',\n",
    "                               sep=';')\n",
    "\n",
    "validation_dataset = pd.read_csv('../2_database/data_processing/02_03_validation_dataset.csv',\n",
    "                                 sep=';')"
   ]
  },
  {
   "cell_type": "code",
   "execution_count": 182,
   "metadata": {},
   "outputs": [
    {
     "name": "stdout",
     "output_type": "stream",
     "text": [
      "Training and Validation size: (420, 53) / (140, 53)\n"
     ]
    }
   ],
   "source": [
    "print(\"Training and Validation size: \" + str(training_dataset.shape) + \" / \" + str(validation_dataset.shape))"
   ]
  },
  {
   "cell_type": "code",
   "execution_count": 183,
   "metadata": {},
   "outputs": [
    {
     "data": {
      "text/html": [
       "<div>\n",
       "<style scoped>\n",
       "    .dataframe tbody tr th:only-of-type {\n",
       "        vertical-align: middle;\n",
       "    }\n",
       "\n",
       "    .dataframe tbody tr th {\n",
       "        vertical-align: top;\n",
       "    }\n",
       "\n",
       "    .dataframe thead th {\n",
       "        text-align: right;\n",
       "    }\n",
       "</style>\n",
       "<table border=\"1\" class=\"dataframe\">\n",
       "  <thead>\n",
       "    <tr style=\"text-align: right;\">\n",
       "      <th></th>\n",
       "      <th>pct_pol_neg_rel</th>\n",
       "      <th>education_var_01_quantity_pct</th>\n",
       "      <th>family_var_01_suitable_pct</th>\n",
       "      <th>family_var_01_semi_suitable_pct</th>\n",
       "      <th>family_var_01_inappropriate_pct</th>\n",
       "      <th>fertility_var_01_has_children_pct</th>\n",
       "      <th>fertility_var_01_children_born_pct</th>\n",
       "      <th>fertility_var_01_children_borned_live_pct</th>\n",
       "      <th>fertility_var_01_children_borned_dead_pct</th>\n",
       "      <th>fertility_var_02_married_pct</th>\n",
       "      <th>...</th>\n",
       "      <th>state_pr</th>\n",
       "      <th>state_rj</th>\n",
       "      <th>state_rn</th>\n",
       "      <th>state_ro</th>\n",
       "      <th>state_rr</th>\n",
       "      <th>state_rs</th>\n",
       "      <th>state_sc</th>\n",
       "      <th>state_se</th>\n",
       "      <th>state_sp</th>\n",
       "      <th>state_to</th>\n",
       "    </tr>\n",
       "  </thead>\n",
       "  <tbody>\n",
       "    <tr>\n",
       "      <td>0</td>\n",
       "      <td>0.350775</td>\n",
       "      <td>1.117053</td>\n",
       "      <td>0.000000</td>\n",
       "      <td>0.993414</td>\n",
       "      <td>1.667300</td>\n",
       "      <td>0.946110</td>\n",
       "      <td>1.059396</td>\n",
       "      <td>1.034859</td>\n",
       "      <td>1.747131</td>\n",
       "      <td>1.032382</td>\n",
       "      <td>...</td>\n",
       "      <td>0</td>\n",
       "      <td>0</td>\n",
       "      <td>0</td>\n",
       "      <td>0</td>\n",
       "      <td>0</td>\n",
       "      <td>0</td>\n",
       "      <td>1</td>\n",
       "      <td>0</td>\n",
       "      <td>0</td>\n",
       "      <td>0</td>\n",
       "    </tr>\n",
       "    <tr>\n",
       "      <td>1</td>\n",
       "      <td>0.267845</td>\n",
       "      <td>1.114802</td>\n",
       "      <td>0.952957</td>\n",
       "      <td>1.169540</td>\n",
       "      <td>47.418210</td>\n",
       "      <td>1.001920</td>\n",
       "      <td>1.150179</td>\n",
       "      <td>1.138941</td>\n",
       "      <td>1.531662</td>\n",
       "      <td>1.138413</td>\n",
       "      <td>...</td>\n",
       "      <td>0</td>\n",
       "      <td>0</td>\n",
       "      <td>0</td>\n",
       "      <td>0</td>\n",
       "      <td>0</td>\n",
       "      <td>0</td>\n",
       "      <td>1</td>\n",
       "      <td>0</td>\n",
       "      <td>0</td>\n",
       "      <td>0</td>\n",
       "    </tr>\n",
       "    <tr>\n",
       "      <td>2</td>\n",
       "      <td>0.408816</td>\n",
       "      <td>1.035698</td>\n",
       "      <td>0.616752</td>\n",
       "      <td>1.170773</td>\n",
       "      <td>2.452725</td>\n",
       "      <td>0.969964</td>\n",
       "      <td>1.330319</td>\n",
       "      <td>1.317376</td>\n",
       "      <td>1.571041</td>\n",
       "      <td>1.042142</td>\n",
       "      <td>...</td>\n",
       "      <td>0</td>\n",
       "      <td>0</td>\n",
       "      <td>0</td>\n",
       "      <td>0</td>\n",
       "      <td>0</td>\n",
       "      <td>0</td>\n",
       "      <td>0</td>\n",
       "      <td>0</td>\n",
       "      <td>0</td>\n",
       "      <td>0</td>\n",
       "    </tr>\n",
       "    <tr>\n",
       "      <td>3</td>\n",
       "      <td>0.414336</td>\n",
       "      <td>0.970031</td>\n",
       "      <td>0.876919</td>\n",
       "      <td>1.228749</td>\n",
       "      <td>2.848914</td>\n",
       "      <td>0.962917</td>\n",
       "      <td>1.129891</td>\n",
       "      <td>1.123553</td>\n",
       "      <td>1.258481</td>\n",
       "      <td>1.075063</td>\n",
       "      <td>...</td>\n",
       "      <td>0</td>\n",
       "      <td>0</td>\n",
       "      <td>0</td>\n",
       "      <td>0</td>\n",
       "      <td>0</td>\n",
       "      <td>0</td>\n",
       "      <td>0</td>\n",
       "      <td>0</td>\n",
       "      <td>0</td>\n",
       "      <td>0</td>\n",
       "    </tr>\n",
       "    <tr>\n",
       "      <td>4</td>\n",
       "      <td>0.359050</td>\n",
       "      <td>1.009907</td>\n",
       "      <td>0.734807</td>\n",
       "      <td>1.617280</td>\n",
       "      <td>9.239346</td>\n",
       "      <td>0.955090</td>\n",
       "      <td>1.159441</td>\n",
       "      <td>1.180107</td>\n",
       "      <td>0.803960</td>\n",
       "      <td>1.046754</td>\n",
       "      <td>...</td>\n",
       "      <td>0</td>\n",
       "      <td>0</td>\n",
       "      <td>0</td>\n",
       "      <td>0</td>\n",
       "      <td>0</td>\n",
       "      <td>0</td>\n",
       "      <td>0</td>\n",
       "      <td>0</td>\n",
       "      <td>1</td>\n",
       "      <td>0</td>\n",
       "    </tr>\n",
       "  </tbody>\n",
       "</table>\n",
       "<p>5 rows × 53 columns</p>\n",
       "</div>"
      ],
      "text/plain": [
       "   pct_pol_neg_rel  education_var_01_quantity_pct  family_var_01_suitable_pct  \\\n",
       "0         0.350775                       1.117053                    0.000000   \n",
       "1         0.267845                       1.114802                    0.952957   \n",
       "2         0.408816                       1.035698                    0.616752   \n",
       "3         0.414336                       0.970031                    0.876919   \n",
       "4         0.359050                       1.009907                    0.734807   \n",
       "\n",
       "   family_var_01_semi_suitable_pct  family_var_01_inappropriate_pct  \\\n",
       "0                         0.993414                         1.667300   \n",
       "1                         1.169540                        47.418210   \n",
       "2                         1.170773                         2.452725   \n",
       "3                         1.228749                         2.848914   \n",
       "4                         1.617280                         9.239346   \n",
       "\n",
       "   fertility_var_01_has_children_pct  fertility_var_01_children_born_pct  \\\n",
       "0                           0.946110                            1.059396   \n",
       "1                           1.001920                            1.150179   \n",
       "2                           0.969964                            1.330319   \n",
       "3                           0.962917                            1.129891   \n",
       "4                           0.955090                            1.159441   \n",
       "\n",
       "   fertility_var_01_children_borned_live_pct  \\\n",
       "0                                   1.034859   \n",
       "1                                   1.138941   \n",
       "2                                   1.317376   \n",
       "3                                   1.123553   \n",
       "4                                   1.180107   \n",
       "\n",
       "   fertility_var_01_children_borned_dead_pct  fertility_var_02_married_pct  \\\n",
       "0                                   1.747131                      1.032382   \n",
       "1                                   1.531662                      1.138413   \n",
       "2                                   1.571041                      1.042142   \n",
       "3                                   1.258481                      1.075063   \n",
       "4                                   0.803960                      1.046754   \n",
       "\n",
       "   ...  state_pr  state_rj  state_rn  state_ro  state_rr  state_rs  state_sc  \\\n",
       "0  ...         0         0         0         0         0         0         1   \n",
       "1  ...         0         0         0         0         0         0         1   \n",
       "2  ...         0         0         0         0         0         0         0   \n",
       "3  ...         0         0         0         0         0         0         0   \n",
       "4  ...         0         0         0         0         0         0         0   \n",
       "\n",
       "   state_se  state_sp  state_to  \n",
       "0         0         0         0  \n",
       "1         0         0         0  \n",
       "2         0         0         0  \n",
       "3         0         0         0  \n",
       "4         0         1         0  \n",
       "\n",
       "[5 rows x 53 columns]"
      ]
     },
     "execution_count": 183,
     "metadata": {},
     "output_type": "execute_result"
    }
   ],
   "source": [
    "training_dataset.head()"
   ]
  },
  {
   "cell_type": "code",
   "execution_count": 184,
   "metadata": {},
   "outputs": [
    {
     "name": "stdout",
     "output_type": "stream",
     "text": [
      "pct_pol_neg_rel\n",
      "education_var_01_quantity_pct\n",
      "family_var_01_suitable_pct\n",
      "family_var_01_semi_suitable_pct\n",
      "family_var_01_inappropriate_pct\n",
      "fertility_var_01_has_children_pct\n",
      "fertility_var_01_children_born_pct\n",
      "fertility_var_01_children_borned_live_pct\n",
      "fertility_var_01_children_borned_dead_pct\n",
      "fertility_var_02_married_pct\n",
      "fertility_var_02_separated_pct\n",
      "fertility_var_02_divorced_pct\n",
      "fertility_var_02_widow_pct\n",
      "fertility_var_02_single_pct\n",
      "fertility_var_03_total_pct\n",
      "work_var_01_regular_pct\n",
      "work_var_01_irregular_pct\n",
      "social_indicator_var_01_15_to_24_years_pct\n",
      "social_indicator_var_01_25_to_59_years_pct\n",
      "social_indicator_var_01_60_to_more_years_pct\n",
      "social_indicator_var_02_suitable_pct\n",
      "social_indicator_var_02_semi_suitable_pct\n",
      "social_indicator_var_02_inappropriate_pct\n",
      "social_indicator_var_03_responsable_illiterate_pct\n",
      "social_indicator_var_03_inappropriate_residence_pct\n",
      "social_indicator_var_03_responsable_illiterate_and_inappropriate_residence_pct\n",
      "enem_var_01_enem_score_mean_pct\n",
      "enem_var_01_enem_score_std_pct\n",
      "enem_var_01_enem_score_median_pct\n",
      "state_ac\n",
      "state_al\n",
      "state_ba\n",
      "state_ce\n",
      "state_es\n",
      "state_go\n",
      "state_ma\n",
      "state_mg\n",
      "state_ms\n",
      "state_mt\n",
      "state_pa\n",
      "state_pb\n",
      "state_pe\n",
      "state_pi\n",
      "state_pr\n",
      "state_rj\n",
      "state_rn\n",
      "state_ro\n",
      "state_rr\n",
      "state_rs\n",
      "state_sc\n",
      "state_se\n",
      "state_sp\n",
      "state_to\n"
     ]
    }
   ],
   "source": [
    "for col in training_dataset.columns:\n",
    "    print(col)"
   ]
  },
  {
   "cell_type": "code",
   "execution_count": 185,
   "metadata": {},
   "outputs": [],
   "source": [
    "array = training_dataset.values\n",
    "\n",
    "X_training = array[:, 1:]\n",
    "Y_training = array[:, 0]"
   ]
  },
  {
   "cell_type": "code",
   "execution_count": 186,
   "metadata": {},
   "outputs": [],
   "source": [
    "array = validation_dataset.values\n",
    "\n",
    "X_validation = array[:, 1:]\n",
    "Y_validation = array[:, 0]"
   ]
  },
  {
   "cell_type": "markdown",
   "metadata": {},
   "source": [
    "### Function for regression evaluation"
   ]
  },
  {
   "cell_type": "code",
   "execution_count": 187,
   "metadata": {},
   "outputs": [],
   "source": [
    "def regression_evaluation(Y_training, y_training_pred, Y_validation, y_validation_pred):\n",
    "    random_simulation = np.random.randint(int(np.quantile(Y_training, 0)*10), int(np.quantile(Y_training, 1)*10), size=len(Y_validation)) * 0.1\n",
    "\n",
    "    print(\"RMSE training: \" + str(np.round(np.sqrt(mean_squared_error(Y_training, y_training_pred)), 4)) + \"\\n\" +\n",
    "          \"RMSE validation: \" + str(np.round(np.sqrt(mean_squared_error(Y_validation, y_validation_pred)), 4)) + \"\\n\" + \n",
    "          \"RMSE validation random model: \" + str(np.round(np.sqrt(mean_squared_error(Y_validation, random_simulation)), 4)))\n",
    "\n",
    "    print(\"\\n\")\n",
    "    \n",
    "    delta = 0.15\n",
    "    \n",
    "    overestimate_training_rate = np.round(sum((y_training_pred > Y_training * (1 + delta)) == True)/len(Y_training), 4)\n",
    "    underestimate_training_rate = np.round(sum((y_training_pred < Y_training * (1 - delta)) == True)/len(Y_training), 4)\n",
    "    wellestimate_training_rate = np.round(1-(overestimate_training_rate + underestimate_training_rate), 4)\n",
    "    \n",
    "    overestimate_validation_rate = np.round(sum((y_validation_pred > Y_validation * (1 + delta)) == True)/len(Y_validation), 4)\n",
    "    underestimate_validation_rate = np.round(sum((y_validation_pred < Y_validation * (1 - delta)) == True)/len(Y_validation), 4)\n",
    "    wellestimate_validation_rate = np.round(1-(overestimate_validation_rate + underestimate_validation_rate), 4)\n",
    "    \n",
    "    overestimate_random_rate = np.round(sum((random_simulation > Y_validation * (1 + delta)) == True)/len(Y_validation), 4)\n",
    "    underestimate_random_rate = np.round(sum((random_simulation < Y_validation * (1 - delta)) == True)/len(Y_validation), 4)\n",
    "    wellestimate_random_rate = np.round(1-(overestimate_random_rate + underestimate_random_rate), 4)\n",
    "    \n",
    "    print(\"BANDS training (underestimate | well | overestimate): \" + str(underestimate_training_rate) + \" | \" + str(wellestimate_training_rate) + \" | \" + str(overestimate_training_rate) + \"\\n\" + \n",
    "          \"BANDS validation (underestimate | well | overestimate): \" + str(underestimate_validation_rate) + \" | \" + str(wellestimate_validation_rate) + \" | \" + str(overestimate_validation_rate) + \"\\n\" + \n",
    "          \"BANDS validation random model (underestimate | well | overestimate): \" + str(underestimate_random_rate) + \" | \" + str(wellestimate_random_rate) + \" | \" + str(overestimate_random_rate))\n",
    "    \n",
    "    plt.ylabel(\"predicted\")\n",
    "    plt.xlabel(\"observed\")\n",
    "    plt.scatter(Y_training, y_training_pred, label='training')\n",
    "    plt.scatter(Y_validation, y_validation_pred, label='validation')\n",
    "    plt.legend()"
   ]
  },
  {
   "cell_type": "markdown",
   "metadata": {},
   "source": [
    "### 1 - Linear Regression"
   ]
  },
  {
   "cell_type": "code",
   "execution_count": 188,
   "metadata": {},
   "outputs": [],
   "source": [
    "linear_regression_model = LinearRegression()\n",
    "linear_regression_model.fit(X_training, Y_training)\n",
    "\n",
    "y_training_pred = linear_regression_model.predict(X_training)\n",
    "y_validation_pred = linear_regression_model.predict(X_validation)"
   ]
  },
  {
   "cell_type": "code",
   "execution_count": 189,
   "metadata": {},
   "outputs": [
    {
     "name": "stdout",
     "output_type": "stream",
     "text": [
      "RMSE training: 0.0484\n",
      "RMSE validation: 0.0628\n",
      "RMSE validation random model: 0.1962\n",
      "\n",
      "\n",
      "BANDS training (underestimate | well | overestimate): 0.0643 | 0.8095 | 0.1262\n",
      "BANDS validation (underestimate | well | overestimate): 0.1286 | 0.6928 | 0.1786\n",
      "BANDS validation random model (underestimate | well | overestimate): 0.5071 | 0.1286 | 0.3643\n"
     ]
    },
    {
     "data": {
      "image/png": "[encoded data removed]",
      "text/plain": [
       "<Figure size 432x288 with 1 Axes>"
      ]
     },
     "metadata": {
      "needs_background": "light"
     },
     "output_type": "display_data"
    }
   ],
   "source": [
    "regression_evaluation(Y_training,\n",
    "                      y_training_pred,\n",
    "                      Y_validation,\n",
    "                      y_validation_pred)"
   ]
  },
  {
   "cell_type": "markdown",
   "metadata": {},
   "source": [
    "### 2 - Random Forest"
   ]
  },
  {
   "cell_type": "code",
   "execution_count": 190,
   "metadata": {},
   "outputs": [],
   "source": [
    "random_forest_model = RandomForestRegressor()\n",
    "\n",
    "params = {\"max_depth\": sp_randint(2, 10),\n",
    "              \"max_features\": sp_randint(5, len(training_dataset.columns)-1),\n",
    "              \"n_estimators\": [10, 25, 50, 75],\n",
    "              \"bootstrap\": [True, False],\n",
    "              \"criterion\": [\"mse\"]}\n",
    "\n",
    "rs_random_forest_model = RandomizedSearchCV(random_forest_model,\n",
    "                                            param_distributions=params,\n",
    "                                            n_iter=50,\n",
    "                                            cv=5,\n",
    "                                            iid=False)\n",
    "\n",
    "rs_random_forest_model.fit(X_training, Y_training)\n",
    "\n",
    "y_training_pred = rs_random_forest_model.predict(X_training)\n",
    "y_validation_pred = rs_random_forest_model.predict(X_validation)"
   ]
  },
  {
   "cell_type": "code",
   "execution_count": 191,
   "metadata": {},
   "outputs": [
    {
     "name": "stdout",
     "output_type": "stream",
     "text": [
      "RMSE training: 0.0478\n",
      "RMSE validation: 0.0521\n",
      "RMSE validation random model: 0.185\n",
      "\n",
      "\n",
      "BANDS training (underestimate | well | overestimate): 0.0833 | 0.781 | 0.1357\n",
      "BANDS validation (underestimate | well | overestimate): 0.0786 | 0.7571 | 0.1643\n",
      "BANDS validation random model (underestimate | well | overestimate): 0.4571 | 0.2 | 0.3429\n"
     ]
    },
    {
     "data": {
      "image/png": "[encoded data removed]",
      "text/plain": [
       "<Figure size 432x288 with 1 Axes>"
      ]
     },
     "metadata": {
      "needs_background": "light"
     },
     "output_type": "display_data"
    }
   ],
   "source": [
    "regression_evaluation(Y_training,\n",
    "                      y_training_pred,\n",
    "                      Y_validation,\n",
    "                      y_validation_pred)"
   ]
  },
  {
   "cell_type": "code",
   "execution_count": 192,
   "metadata": {},
   "outputs": [
    {
     "data": {
      "text/plain": [
       "{'bootstrap': True,\n",
       " 'criterion': 'mse',\n",
       " 'max_depth': 3,\n",
       " 'max_features': 19,\n",
       " 'n_estimators': 50}"
      ]
     },
     "execution_count": 192,
     "metadata": {},
     "output_type": "execute_result"
    }
   ],
   "source": [
    "rs_random_forest_model.best_params_"
   ]
  },
  {
   "cell_type": "markdown",
   "metadata": {},
   "source": [
    "### 3 - XGBoost"
   ]
  },
  {
   "cell_type": "code",
   "execution_count": 193,
   "metadata": {},
   "outputs": [
    {
     "name": "stdout",
     "output_type": "stream",
     "text": [
      "Fitting 2 folds for each of 20 candidates, totalling 40 fits\n",
      "[CV] subsample=0.8, silent=False, n_estimators=100, min_child_weight=7.0, max_depth=15, learning_rate=0.01, colsample_bytree=0.8, colsample_bylevel=0.6 \n",
      "[21:06:00] WARNING: src/objective/regression_obj.cu:152: reg:linear is now deprecated in favor of reg:squarederror.\n",
      "[CV]  subsample=0.8, silent=False, n_estimators=100, min_child_weight=7.0, max_depth=15, learning_rate=0.01, colsample_bytree=0.8, colsample_bylevel=0.6, total=   0.1s\n",
      "[CV] subsample=0.8, silent=False, n_estimators=100, min_child_weight=7.0, max_depth=15, learning_rate=0.01, colsample_bytree=0.8, colsample_bylevel=0.6 \n",
      "[21:06:00] WARNING: src/objective/regression_obj.cu:152: reg:linear is now deprecated in favor of reg:squarederror.\n"
     ]
    },
    {
     "name": "stderr",
     "output_type": "stream",
     "text": [
      "[Parallel(n_jobs=1)]: Using backend SequentialBackend with 1 concurrent workers.\n",
      "[Parallel(n_jobs=1)]: Done   1 out of   1 | elapsed:    0.1s remaining:    0.0s\n"
     ]
    },
    {
     "name": "stdout",
     "output_type": "stream",
     "text": [
      "[CV]  subsample=0.8, silent=False, n_estimators=100, min_child_weight=7.0, max_depth=15, learning_rate=0.01, colsample_bytree=0.8, colsample_bylevel=0.6, total=   0.1s\n",
      "[CV] subsample=0.7, silent=False, n_estimators=100, min_child_weight=10.0, max_depth=20, learning_rate=3, colsample_bytree=0.4, colsample_bylevel=0.4 \n",
      "[21:06:00] WARNING: src/objective/regression_obj.cu:152: reg:linear is now deprecated in favor of reg:squarederror.\n",
      "[CV]  subsample=0.7, silent=False, n_estimators=100, min_child_weight=10.0, max_depth=20, learning_rate=3, colsample_bytree=0.4, colsample_bylevel=0.4, total=   0.0s\n",
      "[CV] subsample=0.7, silent=False, n_estimators=100, min_child_weight=10.0, max_depth=20, learning_rate=3, colsample_bytree=0.4, colsample_bylevel=0.4 \n",
      "[21:06:00] WARNING: src/objective/regression_obj.cu:152: reg:linear is now deprecated in favor of reg:squarederror.\n",
      "[CV]  subsample=0.7, silent=False, n_estimators=100, min_child_weight=10.0, max_depth=20, learning_rate=3, colsample_bytree=0.4, colsample_bylevel=0.4, total=   0.0s\n",
      "[CV] subsample=0.9, silent=False, n_estimators=100, min_child_weight=10.0, max_depth=20, learning_rate=0.001, colsample_bytree=0.6, colsample_bylevel=1.0 \n",
      "[21:06:01] WARNING: src/objective/regression_obj.cu:152: reg:linear is now deprecated in favor of reg:squarederror.\n",
      "[CV]  subsample=0.9, silent=False, n_estimators=100, min_child_weight=10.0, max_depth=20, learning_rate=0.001, colsample_bytree=0.6, colsample_bylevel=1.0, total=   0.1s\n",
      "[CV] subsample=0.9, silent=False, n_estimators=100, min_child_weight=10.0, max_depth=20, learning_rate=0.001, colsample_bytree=0.6, colsample_bylevel=1.0 \n",
      "[21:06:01] WARNING: src/objective/regression_obj.cu:152: reg:linear is now deprecated in favor of reg:squarederror.\n",
      "[CV]  subsample=0.9, silent=False, n_estimators=100, min_child_weight=10.0, max_depth=20, learning_rate=0.001, colsample_bytree=0.6, colsample_bylevel=1.0, total=   0.1s\n",
      "[CV] subsample=0.9, silent=False, n_estimators=100, min_child_weight=3.0, max_depth=10, learning_rate=0.001, colsample_bytree=1.0, colsample_bylevel=0.5 \n",
      "[21:06:01] WARNING: src/objective/regression_obj.cu:152: reg:linear is now deprecated in favor of reg:squarederror.\n",
      "[CV]  subsample=0.9, silent=False, n_estimators=100, min_child_weight=3.0, max_depth=10, learning_rate=0.001, colsample_bytree=1.0, colsample_bylevel=0.5, total=   0.1s\n",
      "[CV] subsample=0.9, silent=False, n_estimators=100, min_child_weight=3.0, max_depth=10, learning_rate=0.001, colsample_bytree=1.0, colsample_bylevel=0.5 \n",
      "[21:06:01] WARNING: src/objective/regression_obj.cu:152: reg:linear is now deprecated in favor of reg:squarederror.\n",
      "[CV]  subsample=0.9, silent=False, n_estimators=100, min_child_weight=3.0, max_depth=10, learning_rate=0.001, colsample_bytree=1.0, colsample_bylevel=0.5, total=   0.1s\n",
      "[CV] subsample=0.6, silent=False, n_estimators=100, min_child_weight=0.5, max_depth=15, learning_rate=0.01, colsample_bytree=0.4, colsample_bylevel=0.5 \n",
      "[21:06:01] WARNING: src/objective/regression_obj.cu:152: reg:linear is now deprecated in favor of reg:squarederror.\n",
      "[CV]  subsample=0.6, silent=False, n_estimators=100, min_child_weight=0.5, max_depth=15, learning_rate=0.01, colsample_bytree=0.4, colsample_bylevel=0.5, total=   0.1s\n",
      "[CV] subsample=0.6, silent=False, n_estimators=100, min_child_weight=0.5, max_depth=15, learning_rate=0.01, colsample_bytree=0.4, colsample_bylevel=0.5 \n",
      "[21:06:01] WARNING: src/objective/regression_obj.cu:152: reg:linear is now deprecated in favor of reg:squarederror.\n",
      "[CV]  subsample=0.6, silent=False, n_estimators=100, min_child_weight=0.5, max_depth=15, learning_rate=0.01, colsample_bytree=0.4, colsample_bylevel=0.5, total=   0.1s\n",
      "[CV] subsample=0.7, silent=False, n_estimators=100, min_child_weight=0.5, max_depth=6, learning_rate=0.2, colsample_bytree=0.9, colsample_bylevel=0.6 \n",
      "[21:06:01] WARNING: src/objective/regression_obj.cu:152: reg:linear is now deprecated in favor of reg:squarederror.\n",
      "[CV]  subsample=0.7, silent=False, n_estimators=100, min_child_weight=0.5, max_depth=6, learning_rate=0.2, colsample_bytree=0.9, colsample_bylevel=0.6, total=   0.1s\n",
      "[CV] subsample=0.7, silent=False, n_estimators=100, min_child_weight=0.5, max_depth=6, learning_rate=0.2, colsample_bytree=0.9, colsample_bylevel=0.6 \n",
      "[21:06:01] WARNING: src/objective/regression_obj.cu:152: reg:linear is now deprecated in favor of reg:squarederror.\n",
      "[CV]  subsample=0.7, silent=False, n_estimators=100, min_child_weight=0.5, max_depth=6, learning_rate=0.2, colsample_bytree=0.9, colsample_bylevel=0.6, total=   0.1s\n",
      "[CV] subsample=0.5, silent=False, n_estimators=100, min_child_weight=1.0, max_depth=10, learning_rate=0.001, colsample_bytree=0.5, colsample_bylevel=1.0 \n",
      "[21:06:01] WARNING: src/objective/regression_obj.cu:152: reg:linear is now deprecated in favor of reg:squarederror.\n",
      "[CV]  subsample=0.5, silent=False, n_estimators=100, min_child_weight=1.0, max_depth=10, learning_rate=0.001, colsample_bytree=0.5, colsample_bylevel=1.0, total=   0.1s\n",
      "[CV] subsample=0.5, silent=False, n_estimators=100, min_child_weight=1.0, max_depth=10, learning_rate=0.001, colsample_bytree=0.5, colsample_bylevel=1.0 \n",
      "[21:06:01] WARNING: src/objective/regression_obj.cu:152: reg:linear is now deprecated in favor of reg:squarederror.\n",
      "[CV]  subsample=0.5, silent=False, n_estimators=100, min_child_weight=1.0, max_depth=10, learning_rate=0.001, colsample_bytree=0.5, colsample_bylevel=1.0, total=   0.1s\n",
      "[CV] subsample=0.7, silent=False, n_estimators=100, min_child_weight=0.5, max_depth=15, learning_rate=0.1, colsample_bytree=0.8, colsample_bylevel=0.7 \n",
      "[21:06:01] WARNING: src/objective/regression_obj.cu:152: reg:linear is now deprecated in favor of reg:squarederror.\n",
      "[CV]  subsample=0.7, silent=False, n_estimators=100, min_child_weight=0.5, max_depth=15, learning_rate=0.1, colsample_bytree=0.8, colsample_bylevel=0.7, total=   0.2s\n",
      "[CV] subsample=0.7, silent=False, n_estimators=100, min_child_weight=0.5, max_depth=15, learning_rate=0.1, colsample_bytree=0.8, colsample_bylevel=0.7 \n",
      "[21:06:02] WARNING: src/objective/regression_obj.cu:152: reg:linear is now deprecated in favor of reg:squarederror.\n",
      "[CV]  subsample=0.7, silent=False, n_estimators=100, min_child_weight=0.5, max_depth=15, learning_rate=0.1, colsample_bytree=0.8, colsample_bylevel=0.7, total=   0.2s\n",
      "[CV] subsample=0.8, silent=False, n_estimators=100, min_child_weight=0.5, max_depth=10, learning_rate=0.2, colsample_bytree=0.8, colsample_bylevel=0.6 \n",
      "[21:06:02] WARNING: src/objective/regression_obj.cu:152: reg:linear is now deprecated in favor of reg:squarederror.\n",
      "[CV]  subsample=0.8, silent=False, n_estimators=100, min_child_weight=0.5, max_depth=10, learning_rate=0.2, colsample_bytree=0.8, colsample_bylevel=0.6, total=   0.1s\n",
      "[CV] subsample=0.8, silent=False, n_estimators=100, min_child_weight=0.5, max_depth=10, learning_rate=0.2, colsample_bytree=0.8, colsample_bylevel=0.6 \n",
      "[21:06:02] WARNING: src/objective/regression_obj.cu:152: reg:linear is now deprecated in favor of reg:squarederror.\n",
      "[CV]  subsample=0.8, silent=False, n_estimators=100, min_child_weight=0.5, max_depth=10, learning_rate=0.2, colsample_bytree=0.8, colsample_bylevel=0.6, total=   0.1s\n",
      "[CV] subsample=0.7, silent=False, n_estimators=100, min_child_weight=3.0, max_depth=10, learning_rate=0.2, colsample_bytree=0.9, colsample_bylevel=1.0 \n",
      "[21:06:02] WARNING: src/objective/regression_obj.cu:152: reg:linear is now deprecated in favor of reg:squarederror.\n",
      "[CV]  subsample=0.7, silent=False, n_estimators=100, min_child_weight=3.0, max_depth=10, learning_rate=0.2, colsample_bytree=0.9, colsample_bylevel=1.0, total=   0.2s\n",
      "[CV] subsample=0.7, silent=False, n_estimators=100, min_child_weight=3.0, max_depth=10, learning_rate=0.2, colsample_bytree=0.9, colsample_bylevel=1.0 \n",
      "[21:06:02] WARNING: src/objective/regression_obj.cu:152: reg:linear is now deprecated in favor of reg:squarederror.\n",
      "[CV]  subsample=0.7, silent=False, n_estimators=100, min_child_weight=3.0, max_depth=10, learning_rate=0.2, colsample_bytree=0.9, colsample_bylevel=1.0, total=   0.2s\n",
      "[CV] subsample=1.0, silent=False, n_estimators=100, min_child_weight=7.0, max_depth=15, learning_rate=3, colsample_bytree=0.5, colsample_bylevel=0.4 \n",
      "[21:06:02] WARNING: src/objective/regression_obj.cu:152: reg:linear is now deprecated in favor of reg:squarederror.\n"
     ]
    },
    {
     "name": "stdout",
     "output_type": "stream",
     "text": [
      "[CV]  subsample=1.0, silent=False, n_estimators=100, min_child_weight=7.0, max_depth=15, learning_rate=3, colsample_bytree=0.5, colsample_bylevel=0.4, total=   0.0s\n",
      "[CV] subsample=1.0, silent=False, n_estimators=100, min_child_weight=7.0, max_depth=15, learning_rate=3, colsample_bytree=0.5, colsample_bylevel=0.4 \n",
      "[21:06:02] WARNING: src/objective/regression_obj.cu:152: reg:linear is now deprecated in favor of reg:squarederror.\n",
      "[CV]  subsample=1.0, silent=False, n_estimators=100, min_child_weight=7.0, max_depth=15, learning_rate=3, colsample_bytree=0.5, colsample_bylevel=0.4, total=   0.0s\n",
      "[CV] subsample=0.6, silent=False, n_estimators=100, min_child_weight=3.0, max_depth=10, learning_rate=3, colsample_bytree=0.4, colsample_bylevel=0.4 \n",
      "[21:06:02] WARNING: src/objective/regression_obj.cu:152: reg:linear is now deprecated in favor of reg:squarederror.\n",
      "[CV]  subsample=0.6, silent=False, n_estimators=100, min_child_weight=3.0, max_depth=10, learning_rate=3, colsample_bytree=0.4, colsample_bylevel=0.4, total=   0.0s\n",
      "[CV] subsample=0.6, silent=False, n_estimators=100, min_child_weight=3.0, max_depth=10, learning_rate=3, colsample_bytree=0.4, colsample_bylevel=0.4 \n",
      "[21:06:02] WARNING: src/objective/regression_obj.cu:152: reg:linear is now deprecated in favor of reg:squarederror.\n",
      "[CV]  subsample=0.6, silent=False, n_estimators=100, min_child_weight=3.0, max_depth=10, learning_rate=3, colsample_bytree=0.4, colsample_bylevel=0.4, total=   0.0s\n",
      "[CV] subsample=0.8, silent=False, n_estimators=100, min_child_weight=5.0, max_depth=20, learning_rate=0, colsample_bytree=0.6, colsample_bylevel=0.4 \n",
      "[21:06:02] WARNING: src/objective/regression_obj.cu:152: reg:linear is now deprecated in favor of reg:squarederror.\n",
      "[CV]  subsample=0.8, silent=False, n_estimators=100, min_child_weight=5.0, max_depth=20, learning_rate=0, colsample_bytree=0.6, colsample_bylevel=0.4, total=   0.1s\n",
      "[CV] subsample=0.8, silent=False, n_estimators=100, min_child_weight=5.0, max_depth=20, learning_rate=0, colsample_bytree=0.6, colsample_bylevel=0.4 \n",
      "[21:06:03] WARNING: src/objective/regression_obj.cu:152: reg:linear is now deprecated in favor of reg:squarederror.\n",
      "[CV]  subsample=0.8, silent=False, n_estimators=100, min_child_weight=5.0, max_depth=20, learning_rate=0, colsample_bytree=0.6, colsample_bylevel=0.4, total=   0.1s\n",
      "[CV] subsample=0.6, silent=False, n_estimators=100, min_child_weight=5.0, max_depth=20, learning_rate=0.001, colsample_bytree=1.0, colsample_bylevel=0.4 \n",
      "[21:06:03] WARNING: src/objective/regression_obj.cu:152: reg:linear is now deprecated in favor of reg:squarederror.\n",
      "[CV]  subsample=0.6, silent=False, n_estimators=100, min_child_weight=5.0, max_depth=20, learning_rate=0.001, colsample_bytree=1.0, colsample_bylevel=0.4, total=   0.1s\n",
      "[CV] subsample=0.6, silent=False, n_estimators=100, min_child_weight=5.0, max_depth=20, learning_rate=0.001, colsample_bytree=1.0, colsample_bylevel=0.4 \n",
      "[21:06:03] WARNING: src/objective/regression_obj.cu:152: reg:linear is now deprecated in favor of reg:squarederror.\n",
      "[CV]  subsample=0.6, silent=False, n_estimators=100, min_child_weight=5.0, max_depth=20, learning_rate=0.001, colsample_bytree=1.0, colsample_bylevel=0.4, total=   0.1s\n",
      "[CV] subsample=0.6, silent=False, n_estimators=100, min_child_weight=5.0, max_depth=15, learning_rate=0, colsample_bytree=0.5, colsample_bylevel=1.0 \n",
      "[21:06:03] WARNING: src/objective/regression_obj.cu:152: reg:linear is now deprecated in favor of reg:squarederror.\n",
      "[CV]  subsample=0.6, silent=False, n_estimators=100, min_child_weight=5.0, max_depth=15, learning_rate=0, colsample_bytree=0.5, colsample_bylevel=1.0, total=   0.1s\n",
      "[CV] subsample=0.6, silent=False, n_estimators=100, min_child_weight=5.0, max_depth=15, learning_rate=0, colsample_bytree=0.5, colsample_bylevel=1.0 \n",
      "[21:06:03] WARNING: src/objective/regression_obj.cu:152: reg:linear is now deprecated in favor of reg:squarederror.\n",
      "[CV]  subsample=0.6, silent=False, n_estimators=100, min_child_weight=5.0, max_depth=15, learning_rate=0, colsample_bytree=0.5, colsample_bylevel=1.0, total=   0.1s\n",
      "[CV] subsample=0.7, silent=False, n_estimators=100, min_child_weight=5.0, max_depth=6, learning_rate=0.1, colsample_bytree=0.7, colsample_bylevel=1.0 \n",
      "[21:06:03] WARNING: src/objective/regression_obj.cu:152: reg:linear is now deprecated in favor of reg:squarederror.\n",
      "[CV]  subsample=0.7, silent=False, n_estimators=100, min_child_weight=5.0, max_depth=6, learning_rate=0.1, colsample_bytree=0.7, colsample_bylevel=1.0, total=   0.1s\n",
      "[CV] subsample=0.7, silent=False, n_estimators=100, min_child_weight=5.0, max_depth=6, learning_rate=0.1, colsample_bytree=0.7, colsample_bylevel=1.0 \n",
      "[21:06:03] WARNING: src/objective/regression_obj.cu:152: reg:linear is now deprecated in favor of reg:squarederror.\n",
      "[CV]  subsample=0.7, silent=False, n_estimators=100, min_child_weight=5.0, max_depth=6, learning_rate=0.1, colsample_bytree=0.7, colsample_bylevel=1.0, total=   0.1s\n",
      "[CV] subsample=0.5, silent=False, n_estimators=100, min_child_weight=0.5, max_depth=6, learning_rate=0.1, colsample_bytree=1.0, colsample_bylevel=0.6 \n",
      "[21:06:03] WARNING: src/objective/regression_obj.cu:152: reg:linear is now deprecated in favor of reg:squarederror.\n",
      "[CV]  subsample=0.5, silent=False, n_estimators=100, min_child_weight=0.5, max_depth=6, learning_rate=0.1, colsample_bytree=1.0, colsample_bylevel=0.6, total=   0.1s\n",
      "[CV] subsample=0.5, silent=False, n_estimators=100, min_child_weight=0.5, max_depth=6, learning_rate=0.1, colsample_bytree=1.0, colsample_bylevel=0.6 \n",
      "[21:06:03] WARNING: src/objective/regression_obj.cu:152: reg:linear is now deprecated in favor of reg:squarederror.\n",
      "[CV]  subsample=0.5, silent=False, n_estimators=100, min_child_weight=0.5, max_depth=6, learning_rate=0.1, colsample_bytree=1.0, colsample_bylevel=0.6, total=   0.1s\n",
      "[CV] subsample=1.0, silent=False, n_estimators=100, min_child_weight=0.5, max_depth=10, learning_rate=3, colsample_bytree=0.5, colsample_bylevel=0.7 \n",
      "[21:06:03] WARNING: src/objective/regression_obj.cu:152: reg:linear is now deprecated in favor of reg:squarederror.\n",
      "[CV]  subsample=1.0, silent=False, n_estimators=100, min_child_weight=0.5, max_depth=10, learning_rate=3, colsample_bytree=0.5, colsample_bylevel=0.7, total=   0.0s\n",
      "[CV] subsample=1.0, silent=False, n_estimators=100, min_child_weight=0.5, max_depth=10, learning_rate=3, colsample_bytree=0.5, colsample_bylevel=0.7 \n",
      "[21:06:03] WARNING: src/objective/regression_obj.cu:152: reg:linear is now deprecated in favor of reg:squarederror.\n",
      "[CV]  subsample=1.0, silent=False, n_estimators=100, min_child_weight=0.5, max_depth=10, learning_rate=3, colsample_bytree=0.5, colsample_bylevel=0.7, total=   0.1s\n",
      "[CV] subsample=0.6, silent=False, n_estimators=100, min_child_weight=0.5, max_depth=10, learning_rate=0.01, colsample_bytree=0.9, colsample_bylevel=0.8 \n",
      "[21:06:03] WARNING: src/objective/regression_obj.cu:152: reg:linear is now deprecated in favor of reg:squarederror.\n",
      "[CV]  subsample=0.6, silent=False, n_estimators=100, min_child_weight=0.5, max_depth=10, learning_rate=0.01, colsample_bytree=0.9, colsample_bylevel=0.8, total=   0.2s\n",
      "[CV] subsample=0.6, silent=False, n_estimators=100, min_child_weight=0.5, max_depth=10, learning_rate=0.01, colsample_bytree=0.9, colsample_bylevel=0.8 \n",
      "[21:06:04] WARNING: src/objective/regression_obj.cu:152: reg:linear is now deprecated in favor of reg:squarederror.\n",
      "[CV]  subsample=0.6, silent=False, n_estimators=100, min_child_weight=0.5, max_depth=10, learning_rate=0.01, colsample_bytree=0.9, colsample_bylevel=0.8, total=   0.1s\n",
      "[CV] subsample=0.5, silent=False, n_estimators=100, min_child_weight=7.0, max_depth=10, learning_rate=0.1, colsample_bytree=0.4, colsample_bylevel=0.5 \n",
      "[21:06:04] WARNING: src/objective/regression_obj.cu:152: reg:linear is now deprecated in favor of reg:squarederror.\n",
      "[CV]  subsample=0.5, silent=False, n_estimators=100, min_child_weight=7.0, max_depth=10, learning_rate=0.1, colsample_bytree=0.4, colsample_bylevel=0.5, total=   0.1s\n",
      "[CV] subsample=0.5, silent=False, n_estimators=100, min_child_weight=7.0, max_depth=10, learning_rate=0.1, colsample_bytree=0.4, colsample_bylevel=0.5 \n",
      "[21:06:04] WARNING: src/objective/regression_obj.cu:152: reg:linear is now deprecated in favor of reg:squarederror.\n",
      "[CV]  subsample=0.5, silent=False, n_estimators=100, min_child_weight=7.0, max_depth=10, learning_rate=0.1, colsample_bytree=0.4, colsample_bylevel=0.5, total=   0.1s\n",
      "[21:06:04] WARNING: src/objective/regression_obj.cu:152: reg:linear is now deprecated in favor of reg:squarederror.\n"
     ]
    },
    {
     "name": "stderr",
     "output_type": "stream",
     "text": [
      "[Parallel(n_jobs=1)]: Done  40 out of  40 | elapsed:    3.6s finished\n"
     ]
    }
   ],
   "source": [
    "xgboost_model = xgboost.XGBRegressor()\n",
    "\n",
    "param_grid = {\n",
    "        'silent': [False],\n",
    "        'max_depth': [6, 10, 15, 20],\n",
    "        'learning_rate': [0.001, 0.01, 0.1, 0.2, 0,3],\n",
    "        'subsample': [0.5, 0.6, 0.7, 0.8, 0.9, 1.0],\n",
    "        'colsample_bytree': [0.4, 0.5, 0.6, 0.7, 0.8, 0.9, 1.0],\n",
    "        'colsample_bylevel': [0.4, 0.5, 0.6, 0.7, 0.8, 0.9, 1.0],\n",
    "        'min_child_weight': [0.5, 1.0, 3.0, 5.0, 7.0, 10.0],\n",
    "        #'gamma': [0, 0.25, 0.5, 1.0],\n",
    "        #'reg_lambda': [0.1, 1.0, 5.0, 10.0, 50.0, 100.0],\n",
    "        'n_estimators': [100]}\n",
    "\n",
    "#fit_params = {'eval_metric': 'mlogloss',\n",
    "#              'early_stopping_rounds': 10,\n",
    "#              'eval_set': [(X_validation, Y_validation)]}\n",
    "\n",
    "rs_xgboost_model = RandomizedSearchCV(xgboost_model, param_grid, n_iter=20,\n",
    "                            n_jobs=1, verbose=2, cv=2,\n",
    "                            #fit_params=fit_params,\n",
    "                            #scoring='neg_log_loss',\n",
    "                                      refit=True, random_state=42)\n",
    "\n",
    "rs_xgboost_model.fit(X_training, Y_training)\n",
    "\n",
    "best_score = rs_xgboost_model.best_score_\n",
    "best_params = rs_xgboost_model.best_params_\n",
    "\n",
    "y_training_pred = rs_xgboost_model.predict(X_training)\n",
    "y_validation_pred = rs_xgboost_model.predict(X_validation)"
   ]
  },
  {
   "cell_type": "code",
   "execution_count": 194,
   "metadata": {},
   "outputs": [
    {
     "name": "stdout",
     "output_type": "stream",
     "text": [
      "RMSE training: 0.0122\n",
      "RMSE validation: 0.058\n",
      "RMSE validation random model: 0.1709\n",
      "\n",
      "\n",
      "BANDS training (underestimate | well | overestimate): 0.0024 | 0.9928 | 0.0048\n",
      "BANDS validation (underestimate | well | overestimate): 0.1143 | 0.7071 | 0.1786\n",
      "BANDS validation random model (underestimate | well | overestimate): 0.4357 | 0.2 | 0.3643\n"
     ]
    },
    {
     "data": {
      "image/png": "[encoded data removed]",
      "text/plain": [
       "<Figure size 432x288 with 1 Axes>"
      ]
     },
     "metadata": {
      "needs_background": "light"
     },
     "output_type": "display_data"
    }
   ],
   "source": [
    "regression_evaluation(Y_training,\n",
    "                      y_training_pred,\n",
    "                      Y_validation,\n",
    "                      y_validation_pred)"
   ]
  }
 ],
 "metadata": {
  "kernelspec": {
   "display_name": "Python 3",
   "language": "python",
   "name": "python3"
  },
  "language_info": {
   "codemirror_mode": {
    "name": "ipython",
    "version": 3
   },
   "file_extension": ".py",
   "mimetype": "text/x-python",
   "name": "python",
   "nbconvert_exporter": "python",
   "pygments_lexer": "ipython3",
   "version": "3.7.4"
  }
 },
 "nbformat": 4,
 "nbformat_minor": 2
}
